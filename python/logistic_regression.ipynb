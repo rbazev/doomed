{
 "cells": [
  {
   "cell_type": "code",
   "execution_count": 1,
   "metadata": {},
   "outputs": [],
   "source": [
    "%load_ext rpy2.ipython"
   ]
  },
  {
   "cell_type": "code",
   "execution_count": 2,
   "metadata": {},
   "outputs": [],
   "source": [
    "import pandas as pd"
   ]
  },
  {
   "cell_type": "code",
   "execution_count": null,
   "metadata": {},
   "outputs": [],
   "source": [
    "pred   cpd\n",
    "0   0\n",
    "0   0\n",
    "0   0\n",
    "0   1\n",
    "0   0\n",
    "0   0\n",
    "0   0\n",
    "0   0\n",
    "0   0\n",
    "0   0\n",
    "1   0\n",
    "1   1\n",
    "1   0\n",
    "1   0\n",
    "1   1\n",
    "1   0\n",
    "1   1\n",
    "1   0\n",
    "1   1\n",
    "1   0\n",
    "2   0\n",
    "2   1\n",
    "2   1\n",
    "2   1\n",
    "2   1\n",
    "2   0\n",
    "2   1\n",
    "2   1\n",
    "2   1\n",
    "2   1"
   ]
  },
  {
   "cell_type": "code",
   "execution_count": 21,
   "metadata": {},
   "outputs": [
    {
     "data": {
      "text/html": [
       "<div>\n",
       "<style scoped>\n",
       "    .dataframe tbody tr th:only-of-type {\n",
       "        vertical-align: middle;\n",
       "    }\n",
       "\n",
       "    .dataframe tbody tr th {\n",
       "        vertical-align: top;\n",
       "    }\n",
       "\n",
       "    .dataframe thead th {\n",
       "        text-align: right;\n",
       "    }\n",
       "</style>\n",
       "<table border=\"1\" class=\"dataframe\">\n",
       "  <thead>\n",
       "    <tr style=\"text-align: right;\">\n",
       "      <th></th>\n",
       "      <th>pred</th>\n",
       "      <th>cpd</th>\n",
       "    </tr>\n",
       "  </thead>\n",
       "  <tbody>\n",
       "    <tr>\n",
       "      <th>0</th>\n",
       "      <td>0</td>\n",
       "      <td>0</td>\n",
       "    </tr>\n",
       "    <tr>\n",
       "      <th>1</th>\n",
       "      <td>0</td>\n",
       "      <td>0</td>\n",
       "    </tr>\n",
       "    <tr>\n",
       "      <th>2</th>\n",
       "      <td>0</td>\n",
       "      <td>0</td>\n",
       "    </tr>\n",
       "    <tr>\n",
       "      <th>3</th>\n",
       "      <td>0</td>\n",
       "      <td>1</td>\n",
       "    </tr>\n",
       "    <tr>\n",
       "      <th>4</th>\n",
       "      <td>0</td>\n",
       "      <td>0</td>\n",
       "    </tr>\n",
       "    <tr>\n",
       "      <th>5</th>\n",
       "      <td>0</td>\n",
       "      <td>0</td>\n",
       "    </tr>\n",
       "    <tr>\n",
       "      <th>6</th>\n",
       "      <td>0</td>\n",
       "      <td>0</td>\n",
       "    </tr>\n",
       "    <tr>\n",
       "      <th>7</th>\n",
       "      <td>0</td>\n",
       "      <td>0</td>\n",
       "    </tr>\n",
       "    <tr>\n",
       "      <th>8</th>\n",
       "      <td>0</td>\n",
       "      <td>0</td>\n",
       "    </tr>\n",
       "    <tr>\n",
       "      <th>9</th>\n",
       "      <td>0</td>\n",
       "      <td>0</td>\n",
       "    </tr>\n",
       "    <tr>\n",
       "      <th>10</th>\n",
       "      <td>1</td>\n",
       "      <td>0</td>\n",
       "    </tr>\n",
       "    <tr>\n",
       "      <th>11</th>\n",
       "      <td>1</td>\n",
       "      <td>1</td>\n",
       "    </tr>\n",
       "    <tr>\n",
       "      <th>12</th>\n",
       "      <td>1</td>\n",
       "      <td>0</td>\n",
       "    </tr>\n",
       "    <tr>\n",
       "      <th>13</th>\n",
       "      <td>1</td>\n",
       "      <td>0</td>\n",
       "    </tr>\n",
       "    <tr>\n",
       "      <th>14</th>\n",
       "      <td>1</td>\n",
       "      <td>1</td>\n",
       "    </tr>\n",
       "    <tr>\n",
       "      <th>15</th>\n",
       "      <td>1</td>\n",
       "      <td>0</td>\n",
       "    </tr>\n",
       "    <tr>\n",
       "      <th>16</th>\n",
       "      <td>1</td>\n",
       "      <td>1</td>\n",
       "    </tr>\n",
       "    <tr>\n",
       "      <th>17</th>\n",
       "      <td>1</td>\n",
       "      <td>0</td>\n",
       "    </tr>\n",
       "    <tr>\n",
       "      <th>18</th>\n",
       "      <td>1</td>\n",
       "      <td>1</td>\n",
       "    </tr>\n",
       "    <tr>\n",
       "      <th>19</th>\n",
       "      <td>1</td>\n",
       "      <td>0</td>\n",
       "    </tr>\n",
       "    <tr>\n",
       "      <th>20</th>\n",
       "      <td>2</td>\n",
       "      <td>0</td>\n",
       "    </tr>\n",
       "    <tr>\n",
       "      <th>21</th>\n",
       "      <td>2</td>\n",
       "      <td>1</td>\n",
       "    </tr>\n",
       "    <tr>\n",
       "      <th>22</th>\n",
       "      <td>2</td>\n",
       "      <td>1</td>\n",
       "    </tr>\n",
       "    <tr>\n",
       "      <th>23</th>\n",
       "      <td>2</td>\n",
       "      <td>1</td>\n",
       "    </tr>\n",
       "    <tr>\n",
       "      <th>24</th>\n",
       "      <td>2</td>\n",
       "      <td>1</td>\n",
       "    </tr>\n",
       "    <tr>\n",
       "      <th>25</th>\n",
       "      <td>2</td>\n",
       "      <td>0</td>\n",
       "    </tr>\n",
       "    <tr>\n",
       "      <th>26</th>\n",
       "      <td>2</td>\n",
       "      <td>1</td>\n",
       "    </tr>\n",
       "    <tr>\n",
       "      <th>27</th>\n",
       "      <td>2</td>\n",
       "      <td>1</td>\n",
       "    </tr>\n",
       "    <tr>\n",
       "      <th>28</th>\n",
       "      <td>2</td>\n",
       "      <td>1</td>\n",
       "    </tr>\n",
       "    <tr>\n",
       "      <th>29</th>\n",
       "      <td>2</td>\n",
       "      <td>1</td>\n",
       "    </tr>\n",
       "  </tbody>\n",
       "</table>\n",
       "</div>"
      ],
      "text/plain": [
       "    pred  cpd\n",
       "0      0    0\n",
       "1      0    0\n",
       "2      0    0\n",
       "3      0    1\n",
       "4      0    0\n",
       "5      0    0\n",
       "6      0    0\n",
       "7      0    0\n",
       "8      0    0\n",
       "9      0    0\n",
       "10     1    0\n",
       "11     1    1\n",
       "12     1    0\n",
       "13     1    0\n",
       "14     1    1\n",
       "15     1    0\n",
       "16     1    1\n",
       "17     1    0\n",
       "18     1    1\n",
       "19     1    0\n",
       "20     2    0\n",
       "21     2    1\n",
       "22     2    1\n",
       "23     2    1\n",
       "24     2    1\n",
       "25     2    0\n",
       "26     2    1\n",
       "27     2    1\n",
       "28     2    1\n",
       "29     2    1"
      ]
     },
     "execution_count": 21,
     "metadata": {},
     "output_type": "execute_result"
    }
   ],
   "source": [
    "data = pd.read_clipboard(sep='   ')\n",
    "data"
   ]
  },
  {
   "cell_type": "code",
   "execution_count": 22,
   "metadata": {},
   "outputs": [
    {
     "name": "stdout",
     "output_type": "stream",
     "text": [
      "   pred cpd\n",
      "0     0   0\n",
      "1     0   0\n",
      "2     0   0\n",
      "3     0   1\n",
      "4     0   0\n",
      "5     0   0\n",
      "6     0   0\n",
      "7     0   0\n",
      "8     0   0\n",
      "9     0   0\n",
      "10    1   0\n",
      "11    1   1\n",
      "12    1   0\n",
      "13    1   0\n",
      "14    1   1\n",
      "15    1   0\n",
      "16    1   1\n",
      "17    1   0\n",
      "18    1   1\n",
      "19    1   0\n",
      "20    2   0\n",
      "21    2   1\n",
      "22    2   1\n",
      "23    2   1\n",
      "24    2   1\n",
      "25    2   0\n",
      "26    2   1\n",
      "27    2   1\n",
      "28    2   1\n",
      "29    2   1\n"
     ]
    }
   ],
   "source": [
    "%%R -i data\n",
    "data"
   ]
  },
  {
   "cell_type": "code",
   "execution_count": 23,
   "metadata": {},
   "outputs": [
    {
     "name": "stdout",
     "output_type": "stream",
     "text": [
      "\n",
      "Call:\n",
      "glm(formula = cpd ~ pred, family = binomial, data = data)\n",
      "\n",
      "Deviance Residuals: \n",
      "    Min       1Q   Median       3Q      Max  \n",
      "-1.7941  -0.8728  -0.4590   0.6681   2.1460  \n",
      "\n",
      "Coefficients:\n",
      "            Estimate Std. Error z value Pr(>|z|)   \n",
      "(Intercept)  -2.1972     0.8650  -2.540  0.01108 * \n",
      "pred          1.7918     0.6455   2.776  0.00551 **\n",
      "---\n",
      "Signif. codes:  0 ‘***’ 0.001 ‘**’ 0.01 ‘*’ 0.05 ‘.’ 0.1 ‘ ’ 1\n",
      "\n",
      "(Dispersion parameter for binomial family taken to be 1)\n",
      "\n",
      "    Null deviance: 41.054  on 29  degrees of freedom\n",
      "Residual deviance: 29.970  on 28  degrees of freedom\n",
      "AIC: 33.97\n",
      "\n",
      "Number of Fisher Scoring iterations: 4\n",
      "\n"
     ]
    }
   ],
   "source": [
    "%%R\n",
    "model <- glm(cpd ~ pred, data=data, family=binomial)\n",
    "summary(model)"
   ]
  },
  {
   "cell_type": "code",
   "execution_count": 1,
   "metadata": {},
   "outputs": [],
   "source": [
    "import numpy as np"
   ]
  },
  {
   "cell_type": "code",
   "execution_count": 3,
   "metadata": {},
   "outputs": [
    {
     "data": {
      "text/plain": [
       "array([-2.1972, -0.4054,  1.3864])"
      ]
     },
     "execution_count": 3,
     "metadata": {},
     "output_type": "execute_result"
    }
   ],
   "source": [
    "x = np.arange(3)\n",
    "-2.1972 + 1.7918 * x"
   ]
  },
  {
   "cell_type": "code",
   "execution_count": 5,
   "metadata": {},
   "outputs": [
    {
     "data": {
      "text/plain": [
       "array([-2.19722458, -0.40546511,  1.38629436])"
      ]
     },
     "execution_count": 5,
     "metadata": {},
     "output_type": "execute_result"
    }
   ],
   "source": [
    "p = np.array([.1, .4, .8])\n",
    "np.log(p / (1 - p))"
   ]
  },
  {
   "cell_type": "markdown",
   "metadata": {},
   "source": [
    "For a probability $p$ of CPD.  **Logistic regression** models the logit of $p$:\n",
    "\n",
    "$$\\log\\left(\\frac{p}{1-p}\\right)$$"
   ]
  },
  {
   "cell_type": "code",
   "execution_count": 34,
   "metadata": {},
   "outputs": [
    {
     "name": "stdout",
     "output_type": "stream",
     "text": [
      "$fit\n",
      "  0   1   2   3   4   5   6   7   8   9  10  11  12  13  14  15  16  17  18  19 \n",
      "0.1 0.1 0.1 0.1 0.1 0.1 0.1 0.1 0.1 0.1 0.4 0.4 0.4 0.4 0.4 0.4 0.4 0.4 0.4 0.4 \n",
      " 20  21  22  23  24  25  26  27  28  29 \n",
      "0.8 0.8 0.8 0.8 0.8 0.8 0.8 0.8 0.8 0.8 \n",
      "\n",
      "$se.fit\n",
      "         0          1          2          3          4          5          6 \n",
      "0.07785347 0.07785347 0.07785347 0.07785347 0.07785347 0.07785347 0.07785347 \n",
      "         7          8          9         10         11         12         13 \n",
      "0.07785347 0.07785347 0.07785347 0.11065635 0.11065635 0.11065635 0.11065635 \n",
      "        14         15         16         17         18         19         20 \n",
      "0.11065635 0.11065635 0.11065635 0.11065635 0.11065635 0.11065635 0.11428550 \n",
      "        21         22         23         24         25         26         27 \n",
      "0.11428550 0.11428550 0.11428550 0.11428550 0.11428550 0.11428550 0.11428550 \n",
      "        28         29 \n",
      "0.11428550 0.11428550 \n",
      "\n",
      "$residual.scale\n",
      "[1] 1\n",
      "\n"
     ]
    }
   ],
   "source": [
    "%%R\n",
    "predict(model, type='response', se.fit=TRUE)"
   ]
  },
  {
   "cell_type": "code",
   "execution_count": 28,
   "metadata": {},
   "outputs": [
    {
     "name": "stdout",
     "output_type": "stream",
     "text": [
      "No documentation for ‘glm.predict’ in specified packages and libraries:\n",
      "you could try ‘??glm.predict’\n"
     ]
    }
   ],
   "source": [
    "%%R\n",
    "?predict"
   ]
  },
  {
   "cell_type": "code",
   "execution_count": 6,
   "metadata": {},
   "outputs": [],
   "source": [
    "!open ."
   ]
  },
  {
   "cell_type": "code",
   "execution_count": null,
   "metadata": {},
   "outputs": [],
   "source": []
  }
 ],
 "metadata": {
  "kernelspec": {
   "display_name": "Python 3.7.12 ('py37')",
   "language": "python",
   "name": "python3"
  },
  "language_info": {
   "codemirror_mode": {
    "name": "ipython",
    "version": 3
   },
   "file_extension": ".py",
   "mimetype": "text/x-python",
   "name": "python",
   "nbconvert_exporter": "python",
   "pygments_lexer": "ipython3",
   "version": "3.7.12"
  },
  "vscode": {
   "interpreter": {
    "hash": "6d31c2736f5e4345fadad3ba30a7234f2d887b5e1f5038291a5144cb026f05f6"
   }
  }
 },
 "nbformat": 4,
 "nbformat_minor": 4
}
