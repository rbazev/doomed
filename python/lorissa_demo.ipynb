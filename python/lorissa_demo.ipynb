{
 "cells": [
  {
   "cell_type": "code",
   "execution_count": 2,
   "metadata": {},
   "outputs": [],
   "source": [
    "import random"
   ]
  },
  {
   "cell_type": "code",
   "execution_count": 35,
   "metadata": {},
   "outputs": [],
   "source": [
    "def timestep(genlist):\n",
    "    n = len(genlist)\n",
    "    newlist = random.sample(genlist, int(n / 2)) * 2\n",
    "    return newlist"
   ]
  },
  {
   "cell_type": "code",
   "execution_count": 37,
   "metadata": {},
   "outputs": [
    {
     "data": {
      "text/plain": [
       "['WT', 'WT', 'M', 'WT', 'WT', 'WT', 'WT', 'M', 'WT', 'WT']"
      ]
     },
     "execution_count": 37,
     "metadata": {},
     "output_type": "execute_result"
    }
   ],
   "source": [
    "timestep(pop)"
   ]
  },
  {
   "cell_type": "code",
   "execution_count": 52,
   "metadata": {},
   "outputs": [],
   "source": [
    "def is_fixed(pop):\n",
    "    n = len(pop)\n",
    "    if pop.count('M') == n:\n",
    "        return True, 'M'\n",
    "    elif pop.count('WT') == n:\n",
    "        return True, 'WT'\n",
    "    else:\n",
    "        return False, 'N/A'"
   ]
  },
  {
   "cell_type": "code",
   "execution_count": 53,
   "metadata": {},
   "outputs": [
    {
     "data": {
      "text/plain": [
       "(True, 'WT')"
      ]
     },
     "execution_count": 53,
     "metadata": {},
     "output_type": "execute_result"
    }
   ],
   "source": [
    "is_fixed(['WT', 'WT'])"
   ]
  },
  {
   "cell_type": "code",
   "execution_count": 64,
   "metadata": {},
   "outputs": [
    {
     "data": {
      "text/plain": [
       "['a', 'b']"
      ]
     },
     "execution_count": 64,
     "metadata": {},
     "output_type": "execute_result"
    }
   ],
   "source": [
    "x = ['a', 'b']\n",
    "x"
   ]
  },
  {
   "cell_type": "code",
   "execution_count": 65,
   "metadata": {},
   "outputs": [
    {
     "name": "stdout",
     "output_type": "stream",
     "text": [
      "a b\n"
     ]
    }
   ],
   "source": [
    "x1 = x[0]\n",
    "x2 = x[1]\n",
    "print(x1, x2)"
   ]
  },
  {
   "cell_type": "code",
   "execution_count": 66,
   "metadata": {},
   "outputs": [
    {
     "name": "stdout",
     "output_type": "stream",
     "text": [
      "a b\n"
     ]
    }
   ],
   "source": [
    "x1, x2 = x\n",
    "print(x1, x2)"
   ]
  },
  {
   "cell_type": "code",
   "execution_count": 68,
   "metadata": {},
   "outputs": [],
   "source": [
    "def wf(pop):\n",
    "    fixed = False\n",
    "    currgen = pop\n",
    "    t = 0\n",
    "    while not fixed:\n",
    "        t += 1\n",
    "        nextgen = timestep(currgen)\n",
    "        print(t, nextgen, nextgen.count('M'), end=', ')\n",
    "        fixed, genotype = is_fixed(nextgen)\n",
    "        if fixed:\n",
    "            print(genotype, 'fixed!!!')\n",
    "        else:\n",
    "            print('')\n",
    "        currgen = nextgen\n",
    "    return t, genotype"
   ]
  },
  {
   "cell_type": "code",
   "execution_count": 59,
   "metadata": {},
   "outputs": [
    {
     "name": "stdout",
     "output_type": "stream",
     "text": [
      "['WT', 'WT', 'WT', 'WT', 'WT', 'WT', 'WT', 'WT', 'WT', 'WT', 'WT', 'WT', 'WT', 'WT', 'WT', 'M', 'M', 'M', 'M', 'M', 'M', 'M', 'M', 'M', 'M', 'M', 'M', 'M', 'M', 'M']\n"
     ]
    }
   ],
   "source": [
    "pop = [\"WT\"] * 15 + [\"M\"] * 15\n",
    "print(pop)"
   ]
  },
  {
   "cell_type": "code",
   "execution_count": 70,
   "metadata": {},
   "outputs": [
    {
     "name": "stdout",
     "output_type": "stream",
     "text": [
      "1 ['M', 'M', 'M', 'M', 'M', 'WT', 'WT', 'M', 'WT', 'WT', 'WT', 'M', 'WT', 'M', 'WT', 'M', 'M', 'M', 'M', 'M', 'WT', 'WT', 'M', 'WT', 'WT', 'WT', 'M', 'WT', 'M', 'WT'] 16, \n",
      "2 ['WT', 'WT', 'WT', 'M', 'M', 'M', 'WT', 'M', 'WT', 'WT', 'WT', 'M', 'M', 'M', 'WT', 'WT', 'WT', 'WT', 'M', 'M', 'M', 'WT', 'M', 'WT', 'WT', 'WT', 'M', 'M', 'M', 'WT'] 14, \n",
      "3 ['M', 'WT', 'WT', 'M', 'WT', 'M', 'WT', 'WT', 'M', 'M', 'WT', 'WT', 'WT', 'WT', 'WT', 'M', 'WT', 'WT', 'M', 'WT', 'M', 'WT', 'WT', 'M', 'M', 'WT', 'WT', 'WT', 'WT', 'WT'] 10, \n",
      "4 ['WT', 'M', 'WT', 'M', 'WT', 'M', 'M', 'WT', 'WT', 'M', 'M', 'WT', 'WT', 'WT', 'WT', 'WT', 'M', 'WT', 'M', 'WT', 'M', 'M', 'WT', 'WT', 'M', 'M', 'WT', 'WT', 'WT', 'WT'] 12, \n",
      "5 ['M', 'M', 'M', 'WT', 'WT', 'WT', 'M', 'WT', 'M', 'WT', 'WT', 'M', 'WT', 'M', 'M', 'M', 'M', 'M', 'WT', 'WT', 'WT', 'M', 'WT', 'M', 'WT', 'WT', 'M', 'WT', 'M', 'M'] 16, \n",
      "6 ['M', 'M', 'WT', 'M', 'WT', 'M', 'WT', 'WT', 'M', 'M', 'M', 'M', 'M', 'WT', 'WT', 'M', 'M', 'WT', 'M', 'WT', 'M', 'WT', 'WT', 'M', 'M', 'M', 'M', 'M', 'WT', 'WT'] 18, \n",
      "7 ['WT', 'M', 'M', 'M', 'WT', 'M', 'M', 'WT', 'WT', 'M', 'M', 'WT', 'M', 'WT', 'WT', 'WT', 'M', 'M', 'M', 'WT', 'M', 'M', 'WT', 'WT', 'M', 'M', 'WT', 'M', 'WT', 'WT'] 16, \n",
      "8 ['M', 'WT', 'M', 'M', 'M', 'WT', 'WT', 'WT', 'WT', 'M', 'M', 'M', 'WT', 'M', 'WT', 'M', 'WT', 'M', 'M', 'M', 'WT', 'WT', 'WT', 'WT', 'M', 'M', 'M', 'WT', 'M', 'WT'] 16, \n",
      "9 ['M', 'M', 'WT', 'M', 'M', 'WT', 'WT', 'M', 'M', 'WT', 'WT', 'M', 'M', 'WT', 'WT', 'M', 'M', 'WT', 'M', 'M', 'WT', 'WT', 'M', 'M', 'WT', 'WT', 'M', 'M', 'WT', 'WT'] 16, \n",
      "10 ['WT', 'M', 'M', 'M', 'WT', 'M', 'WT', 'M', 'M', 'WT', 'M', 'WT', 'M', 'WT', 'WT', 'WT', 'M', 'M', 'M', 'WT', 'M', 'WT', 'M', 'M', 'WT', 'M', 'WT', 'M', 'WT', 'WT'] 16, \n",
      "11 ['WT', 'WT', 'WT', 'M', 'M', 'M', 'WT', 'WT', 'M', 'WT', 'M', 'M', 'M', 'M', 'WT', 'WT', 'WT', 'WT', 'M', 'M', 'M', 'WT', 'WT', 'M', 'WT', 'M', 'M', 'M', 'M', 'WT'] 16, \n",
      "12 ['WT', 'M', 'M', 'M', 'M', 'M', 'M', 'WT', 'WT', 'M', 'M', 'M', 'M', 'WT', 'WT', 'WT', 'M', 'M', 'M', 'M', 'M', 'M', 'WT', 'WT', 'M', 'M', 'M', 'M', 'WT', 'WT'] 20, \n",
      "13 ['M', 'M', 'WT', 'WT', 'WT', 'M', 'WT', 'M', 'M', 'M', 'WT', 'M', 'M', 'M', 'M', 'M', 'M', 'WT', 'WT', 'WT', 'M', 'WT', 'M', 'M', 'M', 'WT', 'M', 'M', 'M', 'M'] 20, \n",
      "14 ['M', 'WT', 'M', 'M', 'M', 'WT', 'M', 'M', 'WT', 'M', 'M', 'WT', 'WT', 'WT', 'M', 'M', 'WT', 'M', 'M', 'M', 'WT', 'M', 'M', 'WT', 'M', 'M', 'WT', 'WT', 'WT', 'M'] 18, \n",
      "15 ['WT', 'WT', 'M', 'M', 'WT', 'M', 'M', 'M', 'M', 'M', 'M', 'WT', 'M', 'M', 'WT', 'WT', 'WT', 'M', 'M', 'WT', 'M', 'M', 'M', 'M', 'M', 'M', 'WT', 'M', 'M', 'WT'] 20, \n",
      "16 ['M', 'M', 'M', 'M', 'M', 'M', 'M', 'M', 'M', 'WT', 'WT', 'WT', 'M', 'M', 'M', 'M', 'M', 'M', 'M', 'M', 'M', 'M', 'M', 'M', 'WT', 'WT', 'WT', 'M', 'M', 'M'] 24, \n",
      "17 ['WT', 'M', 'M', 'M', 'M', 'M', 'M', 'M', 'M', 'M', 'WT', 'M', 'M', 'WT', 'M', 'WT', 'M', 'M', 'M', 'M', 'M', 'M', 'M', 'M', 'M', 'WT', 'M', 'M', 'WT', 'M'] 24, \n",
      "18 ['M', 'M', 'M', 'M', 'M', 'M', 'M', 'WT', 'WT', 'M', 'M', 'M', 'WT', 'M', 'M', 'M', 'M', 'M', 'M', 'M', 'M', 'M', 'WT', 'WT', 'M', 'M', 'M', 'WT', 'M', 'M'] 24, \n",
      "19 ['M', 'M', 'M', 'WT', 'M', 'WT', 'M', 'WT', 'M', 'M', 'M', 'M', 'M', 'M', 'WT', 'M', 'M', 'M', 'WT', 'M', 'WT', 'M', 'WT', 'M', 'M', 'M', 'M', 'M', 'M', 'WT'] 22, \n",
      "20 ['WT', 'WT', 'M', 'M', 'WT', 'M', 'WT', 'M', 'M', 'M', 'M', 'M', 'M', 'M', 'M', 'WT', 'WT', 'M', 'M', 'WT', 'M', 'WT', 'M', 'M', 'M', 'M', 'M', 'M', 'M', 'M'] 22, \n",
      "21 ['WT', 'M', 'M', 'WT', 'M', 'M', 'M', 'M', 'M', 'WT', 'WT', 'M', 'M', 'M', 'M', 'WT', 'M', 'M', 'WT', 'M', 'M', 'M', 'M', 'M', 'WT', 'WT', 'M', 'M', 'M', 'M'] 22, \n",
      "22 ['M', 'M', 'M', 'WT', 'WT', 'M', 'M', 'M', 'M', 'M', 'WT', 'M', 'WT', 'M', 'M', 'M', 'M', 'M', 'WT', 'WT', 'M', 'M', 'M', 'M', 'M', 'WT', 'M', 'WT', 'M', 'M'] 22, \n",
      "23 ['M', 'WT', 'M', 'M', 'M', 'M', 'M', 'M', 'WT', 'WT', 'M', 'M', 'M', 'WT', 'M', 'M', 'WT', 'M', 'M', 'M', 'M', 'M', 'M', 'WT', 'WT', 'M', 'M', 'M', 'WT', 'M'] 22, \n",
      "24 ['M', 'M', 'M', 'M', 'M', 'WT', 'WT', 'M', 'M', 'M', 'M', 'WT', 'WT', 'WT', 'M', 'M', 'M', 'M', 'M', 'M', 'WT', 'WT', 'M', 'M', 'M', 'M', 'WT', 'WT', 'WT', 'M'] 20, \n",
      "25 ['M', 'M', 'M', 'M', 'M', 'M', 'M', 'M', 'M', 'M', 'M', 'M', 'M', 'M', 'WT', 'M', 'M', 'M', 'M', 'M', 'M', 'M', 'M', 'M', 'M', 'M', 'M', 'M', 'M', 'WT'] 28, \n",
      "26 ['M', 'M', 'M', 'WT', 'M', 'M', 'M', 'M', 'M', 'M', 'M', 'M', 'M', 'M', 'M', 'M', 'M', 'M', 'WT', 'M', 'M', 'M', 'M', 'M', 'M', 'M', 'M', 'M', 'M', 'M'] 28, \n",
      "27 ['M', 'M', 'M', 'M', 'M', 'M', 'M', 'M', 'M', 'M', 'WT', 'M', 'M', 'M', 'M', 'M', 'M', 'M', 'M', 'M', 'M', 'M', 'M', 'M', 'M', 'WT', 'M', 'M', 'M', 'M'] 28, \n",
      "28 ['M', 'M', 'M', 'M', 'M', 'M', 'M', 'WT', 'WT', 'M', 'M', 'M', 'M', 'M', 'M', 'M', 'M', 'M', 'M', 'M', 'M', 'M', 'WT', 'WT', 'M', 'M', 'M', 'M', 'M', 'M'] 26, \n",
      "29 ['M', 'M', 'M', 'M', 'M', 'M', 'M', 'M', 'M', 'M', 'WT', 'M', 'M', 'WT', 'M', 'M', 'M', 'M', 'M', 'M', 'M', 'M', 'M', 'M', 'M', 'WT', 'M', 'M', 'WT', 'M'] 26, \n",
      "30 ['M', 'M', 'M', 'M', 'M', 'M', 'M', 'M', 'WT', 'WT', 'M', 'M', 'M', 'M', 'M', 'M', 'M', 'M', 'M', 'M', 'M', 'M', 'M', 'WT', 'WT', 'M', 'M', 'M', 'M', 'M'] 26, \n",
      "31 ['M', 'M', 'M', 'M', 'M', 'M', 'M', 'M', 'M', 'M', 'M', 'M', 'WT', 'M', 'M', 'M', 'M', 'M', 'M', 'M', 'M', 'M', 'M', 'M', 'M', 'M', 'M', 'WT', 'M', 'M'] 28, \n",
      "32 ['M', 'M', 'M', 'M', 'M', 'M', 'M', 'M', 'M', 'M', 'M', 'M', 'M', 'M', 'M', 'M', 'M', 'M', 'M', 'M', 'M', 'M', 'M', 'M', 'M', 'M', 'M', 'M', 'M', 'M'] 30, M fixed!!!\n"
     ]
    },
    {
     "data": {
      "text/plain": [
       "(32, 'M')"
      ]
     },
     "execution_count": 70,
     "metadata": {},
     "output_type": "execute_result"
    }
   ],
   "source": [
    "wf(pop)"
   ]
  },
  {
   "cell_type": "code",
   "execution_count": 38,
   "metadata": {},
   "outputs": [
    {
     "data": {
      "text/plain": [
       "['WT', 'WT', 'WT', 'WT', 'WT', 'WT', 'WT', 'WT', 'M', 'M']"
      ]
     },
     "execution_count": 38,
     "metadata": {},
     "output_type": "execute_result"
    }
   ],
   "source": [
    "pop"
   ]
  },
  {
   "cell_type": "code",
   "execution_count": 39,
   "metadata": {},
   "outputs": [
    {
     "data": {
      "text/plain": [
       "2"
      ]
     },
     "execution_count": 39,
     "metadata": {},
     "output_type": "execute_result"
    }
   ],
   "source": [
    "pop.count(M\")"
   ]
  },
  {
   "cell_type": "code",
   "execution_count": 42,
   "metadata": {},
   "outputs": [
    {
     "data": {
      "text/plain": [
       "True"
      ]
     },
     "execution_count": 42,
     "metadata": {},
     "output_type": "execute_result"
    }
   ],
   "source": [
    "pop = ['M'] * 8\n",
    "fixed(pop)"
   ]
  },
  {
   "cell_type": "code",
   "execution_count": 44,
   "metadata": {},
   "outputs": [],
   "source": [
    "del fixed"
   ]
  },
  {
   "cell_type": "code",
   "execution_count": 71,
   "metadata": {},
   "outputs": [],
   "source": [
    "!open ."
   ]
  },
  {
   "cell_type": "code",
   "execution_count": 72,
   "metadata": {},
   "outputs": [],
   "source": [
    "import numpy as np"
   ]
  },
  {
   "cell_type": "code",
   "execution_count": 73,
   "metadata": {},
   "outputs": [],
   "source": [
    "x = [32, 45, 67, 22]"
   ]
  },
  {
   "cell_type": "code",
   "execution_count": 74,
   "metadata": {},
   "outputs": [
    {
     "data": {
      "text/plain": [
       "41.5"
      ]
     },
     "execution_count": 74,
     "metadata": {},
     "output_type": "execute_result"
    }
   ],
   "source": [
    "np.mean(x)"
   ]
  },
  {
   "cell_type": "code",
   "execution_count": 75,
   "metadata": {},
   "outputs": [
    {
     "data": {
      "text/plain": [
       "38.5"
      ]
     },
     "execution_count": 75,
     "metadata": {},
     "output_type": "execute_result"
    }
   ],
   "source": [
    "np.median(x)"
   ]
  },
  {
   "cell_type": "code",
   "execution_count": 76,
   "metadata": {},
   "outputs": [
    {
     "data": {
      "text/plain": [
       "16.830032679706836"
      ]
     },
     "execution_count": 76,
     "metadata": {},
     "output_type": "execute_result"
    }
   ],
   "source": [
    "np.std(x)"
   ]
  },
  {
   "cell_type": "code",
   "execution_count": null,
   "metadata": {},
   "outputs": [],
   "source": []
  }
 ],
 "metadata": {
  "kernelspec": {
   "display_name": "Python 3",
   "language": "python",
   "name": "python3"
  },
  "language_info": {
   "codemirror_mode": {
    "name": "ipython",
    "version": 3
   },
   "file_extension": ".py",
   "mimetype": "text/x-python",
   "name": "python",
   "nbconvert_exporter": "python",
   "pygments_lexer": "ipython3",
   "version": "3.5.6"
  }
 },
 "nbformat": 4,
 "nbformat_minor": 2
}
