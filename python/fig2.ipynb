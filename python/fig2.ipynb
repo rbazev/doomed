{
 "cells": [
  {
   "cell_type": "markdown",
   "metadata": {},
   "source": [
    "# Figure 2"
   ]
  },
  {
   "cell_type": "code",
   "execution_count": 1,
   "metadata": {},
   "outputs": [],
   "source": [
    "run doomed.py"
   ]
  },
  {
   "cell_type": "code",
   "execution_count": 6,
   "metadata": {},
   "outputs": [],
   "source": [
    "!open doomed.py"
   ]
  },
  {
   "cell_type": "code",
   "execution_count": 2,
   "metadata": {},
   "outputs": [],
   "source": [
    "import pickle as pk\n",
    "import pandas as pd"
   ]
  },
  {
   "cell_type": "markdown",
   "metadata": {},
   "source": [
    "## **(A–C)** Population dynamics and extinction time\n",
    "\n",
    "$n_0=10^3$ mutation-free individuals subject to mutations with deleterious effect $s=0.06$ and rate $u=0.02$. \n",
    "\n",
    "### Stochastic simulations\n",
    "\n",
    "$10^4$ replicate populations.\n",
    "\n",
    "**Note:** The following cell performs simulations and saves the resulting data.  This takes approximately 10 minutes.  Skip to the following cell to use previously saved data."
   ]
  },
  {
   "cell_type": "code",
   "execution_count": 3,
   "metadata": {},
   "outputs": [
    {
     "name": "stdout",
     "output_type": "stream",
     "text": [
      "....................................................................................................CPU times: user 8min 36s, sys: 2.26 s, total: 8min 38s\n",
      "Wall time: 8min 49s\n"
     ]
    }
   ],
   "source": [
    "%%time\n",
    "# simulate data\n",
    "nn = []\n",
    "tt = []\n",
    "for i in range(10000):\n",
    "    if (i % 100 == 0):\n",
    "        print('.', sep='', end='')\n",
    "    n, t = sim([1000], .02, .06)\n",
    "    nn.append(n)\n",
    "    tt.append(t)\n",
    "tt = np.array(tt)\n",
    "# save simulated data\n",
    "pd.Series(tt).to_csv('data/fig2times.csv')\n",
    "pk.dump(nn, open('data/fig2traj.pickle', 'wb'))"
   ]
  },
  {
   "cell_type": "markdown",
   "metadata": {},
   "source": [
    "Load the results from earlier simulations"
   ]
  },
  {
   "cell_type": "code",
   "execution_count": null,
   "metadata": {},
   "outputs": [],
   "source": [
    "# read simulated data\n",
    "tt = np.array(pd.read_csv('data/fig2times.csv', index_col=0, names='t'), dtype=int)\n",
    "nn = pk.load(open('data/fig2traj.pickle', 'rb'))"
   ]
  },
  {
   "cell_type": "code",
   "execution_count": 4,
   "metadata": {},
   "outputs": [],
   "source": [
    "nmat = np.zeros((max(tt) + 1, len(nn)))\n",
    "for i in range(len(nn)):\n",
    "    for j in range(len(nn[i])):\n",
    "        nmat[j,i] = nn[i][j]"
   ]
  },
  {
   "cell_type": "markdown",
   "metadata": {},
   "source": [
    "### Theory\n",
    "\n",
    "Expected population size up to t=1500"
   ]
  },
  {
   "cell_type": "code",
   "execution_count": null,
   "metadata": {},
   "outputs": [],
   "source": [
    "# expected population size up to t=1500 generations\n",
    "nexp = [N(100, .01, .01, t) for t in range(501)]"
   ]
  },
  {
   "cell_type": "code",
   "execution_count": null,
   "metadata": {},
   "outputs": [],
   "source": [
    "# expected extinction time\n",
    "Texp, Tvar = T(100, .06, .02, 1e-6, False, True)\n",
    "print Texp, Tvar"
   ]
  },
  {
   "cell_type": "markdown",
   "metadata": {},
   "source": [
    "## **(D)** Effect of population size on extinction time\n",
    "\n",
    "Set $u = s = 0.01$ and vary $n_0$ between 10 and $10^{5}$.\n",
    "\n",
    "### Stochastic simulations\n",
    "\n",
    "**Note:** skip the next three cells unless you want to rerun the simulations."
   ]
  },
  {
   "cell_type": "code",
   "execution_count": null,
   "metadata": {},
   "outputs": [],
   "source": [
    "logn = np.linspace(1, 5, 41)\n",
    "logn"
   ]
  },
  {
   "cell_type": "code",
   "execution_count": null,
   "metadata": {},
   "outputs": [],
   "source": [
    "print 'N T Tstd'\n",
    "for x in logn:\n",
    "    T = simult([int(10**x)], .01, .01, 10000)\n",
    "    print int(10**x), T.mean(), T.std(ddof=1)"
   ]
  },
  {
   "cell_type": "code",
   "execution_count": null,
   "metadata": {},
   "outputs": [],
   "source": [
    "# save simulated data\n",
    "fig2sim = pd.read_clipboard(sep=' ')\n",
    "fig2sim.to_csv('data/fig2sim.csv')"
   ]
  },
  {
   "cell_type": "code",
   "execution_count": null,
   "metadata": {},
   "outputs": [],
   "source": [
    "# read simulated data\n",
    "fig2sim = pd.read_csv('data/fig2sim.csv', index_col=0)\n",
    "fig2sim['logN'] = np.log10(fig2sim['N'])\n",
    "fig2sim.head()"
   ]
  },
  {
   "cell_type": "markdown",
   "metadata": {},
   "source": [
    "### Theory\n",
    "\n",
    "**Note:** skip the next two cells unless you want to rerun the simulations."
   ]
  },
  {
   "cell_type": "code",
   "execution_count": null,
   "metadata": {},
   "outputs": [],
   "source": [
    "print 'N T Tstd'\n",
    "for x in logn:\n",
    "    t, v = T(10**x, .01, .01, 1e-6, False, True)\n",
    "    print int(10**x), t, np.sqrt(v)"
   ]
  },
  {
   "cell_type": "code",
   "execution_count": null,
   "metadata": {},
   "outputs": [],
   "source": [
    "# save theoretical values\n",
    "fig2theory = pd.read_clipboard(sep=' ')\n",
    "fig2theory.to_csv('data/fig2theory.csv')"
   ]
  },
  {
   "cell_type": "code",
   "execution_count": null,
   "metadata": {},
   "outputs": [],
   "source": [
    "# read theoretical values\n",
    "fig2theory = pd.read_csv('data/fig2theory.csv', index_col=0)\n",
    "fig2theory['logN'] = np.log10(fig2theory['N'])\n",
    "fig2theory.head()"
   ]
  },
  {
   "cell_type": "markdown",
   "metadata": {},
   "source": [
    "## Plot"
   ]
  },
  {
   "cell_type": "code",
   "execution_count": null,
   "metadata": {},
   "outputs": [],
   "source": [
    "t = range(601)\n",
    "m = nmat.mean(axis=1)[:601]\n",
    "s = nmat.std(axis=1, ddof=1)[:601]"
   ]
  },
  {
   "cell_type": "code",
   "execution_count": null,
   "metadata": {},
   "outputs": [],
   "source": [
    "# maximum extinction time\n",
    "tt.max()"
   ]
  },
  {
   "cell_type": "code",
   "execution_count": null,
   "metadata": {},
   "outputs": [],
   "source": [
    "fig, ((ax1, ax2), (ax3, ax4)) = plt.subplots(2, 2, figsize=(8.5, 8))\n",
    "\n",
    "red = sns.xkcd_rgb[\"pale red\"]\n",
    "blu = sns.xkcd_rgb[\"bright blue\"]\n",
    "\n",
    "fig.subplots_adjust()\n",
    "\n",
    "set_up_axes(ax1, xmin=0, xmax=600, xstep=200, ymin=0, ymax=400, ystep=100, rnd=1, \n",
    "    ylabel=r'Population size $(N)$', xlabel='Time (generations)', part_label=r'\\textbf{A}')\n",
    "set_up_axes(ax2, xmin=0, xmax=600, xstep=200, ymin=0, ymax=150, ystep=50, rnd=1, \n",
    "    ylabel=r'Population size $(N)$', xlabel='Time (generations)', part_label=r'\\textbf{B}')\n",
    "set_up_axes(ax3, xmin=0, xmax=1000, xstep=250, ymin=0, ymax=900, ystep=300, rnd=1, \n",
    "    ylabel='Count', xlabel='Extinction time $(T)$', part_label=r'\\textbf{C}')\n",
    "set_up_axes(ax4, xmin=1, xmax=5.01, xstep=1, ymin=0, ymax=900, ystep=300, rnd=1, \n",
    "    ylabel=r'Extinction time $(T)$', xlabel=r'Initial population size $(n_0)$', part_label=r'\\textbf{D}')\n",
    "\n",
    "ax1.set_position([.121, .62, .35, .31])\n",
    "ax2.set_position([.631, .62, .35, .31])\n",
    "ax3.set_position([.121, .11, .35, .31])\n",
    "ax4.set_position([.631, .11, .35, .31])\n",
    "\n",
    "for i in range(1920, 1960):\n",
    "    ax1.plot(nn[i], color=blu, alpha=.3, lw=1, clip_on=False)\n",
    "    ax1.plot([tt[i]] * 2, [-6, -17], 'k-', clip_on=False, lw=1)\n",
    "\n",
    "lo = m-s\n",
    "lo[lo<0] = 0\n",
    "ax2.fill_between(t, m+s, lo, color=blu, alpha=.3, clip_on=False, lw=0)\n",
    "ax2.plot(t, m, clip_on=False, label='Simulations', color=blu)\n",
    "ax2.plot(t, nexp, '--', color=red, clip_on=False, label='Theory', dashes=[4, 2.9])\n",
    "ax2.legend()\n",
    "\n",
    "sns.distplot(tt, kde=False, ax=ax3, color=blu)\n",
    "ax3.plot([tt.mean()] * 2, [0, 900], color=blu, clip_on=False, label='Simulations')\n",
    "ax3.plot([Texp] * 2, [0, 900], color=red, clip_on=False, label='Theory')\n",
    "ax3.legend()\n",
    "\n",
    "ax4.plot(fig2theory['logN'], fig2theory['T'], color=red)\n",
    "ax4.plot(fig2sim['logN'], fig2sim['T'], color=blu)\n",
    "ax4.fill_between(fig2sim['logN'], fig2sim['T'] + fig2sim['Tstd'], fig2sim['T'] - fig2sim['Tstd'], \n",
    "    color=blu, alpha=.3, lw=0, clip_on=False)\n",
    "ax4.set_xticklabels(['$10$', '$10^{2}$', '$10^{3}$', '$10^{4}$', '$10^{5}$'])\n",
    "\n",
    "plt.savefig('../figures/fig2.pdf')"
   ]
  },
  {
   "cell_type": "markdown",
   "metadata": {},
   "source": [
    "## Figure S1"
   ]
  },
  {
   "cell_type": "code",
   "execution_count": null,
   "metadata": {},
   "outputs": [],
   "source": [
    "fig, ax = plt.subplots(1, 1, figsize=(5, 4))\n",
    "\n",
    "red = sns.xkcd_rgb[\"pale red\"]\n",
    "blu = sns.xkcd_rgb[\"bright blue\"]\n",
    "\n",
    "fig.subplots_adjust()\n",
    "\n",
    "set_up_axes(ax, xmin=1, xmax=5.01, xstep=1, ymin=0, ymax=1.6, ystep=.4, rnd=1, \n",
    "    xlabel=r'Initial population size $(n_0)$', ylabel=r'CV$[T]$', \n",
    "    part_label='')\n",
    "\n",
    "ax.set_position([.18, .2, .79, .75])\n",
    "\n",
    "ax.plot(fig2sim['logN'], fig2sim['Tstd'] / fig2sim['T'], 'o', ms=6,\n",
    "    color=blu, label='Simulations', clip_on=False)\n",
    "ax.plot(fig2theory['logN'], fig2theory['Tstd'] / fig2theory['T'], color=red, \n",
    "    label='Theory', clip_on=False)\n",
    "ax.legend()\n",
    "\n",
    "ax.set_xticklabels(['10', '$10^{2}$', '$10^{3}$', '$10^{4}$', '$10^{5}$'])\n",
    "\n",
    "plt.savefig('../figures/figS1.pdf')"
   ]
  },
  {
   "cell_type": "code",
   "execution_count": null,
   "metadata": {},
   "outputs": [],
   "source": []
  }
 ],
 "metadata": {
  "kernelspec": {
   "display_name": "Python 3",
   "language": "python",
   "name": "python3"
  },
  "language_info": {
   "codemirror_mode": {
    "name": "ipython",
    "version": 3
   },
   "file_extension": ".py",
   "mimetype": "text/x-python",
   "name": "python",
   "nbconvert_exporter": "python",
   "pygments_lexer": "ipython3",
   "version": "3.5.6"
  }
 },
 "nbformat": 4,
 "nbformat_minor": 2
}
