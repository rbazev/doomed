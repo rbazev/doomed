{
 "cells": [
  {
   "attachments": {},
   "cell_type": "markdown",
   "metadata": {},
   "source": [
    "# Figure 4: Distribution of extinction times\n",
    "\n",
    "Generate **figures/hist.pdf** and calculate summary statistics for meltdown\n",
    "under default mutational parameters."
   ]
  },
  {
   "cell_type": "code",
   "execution_count": null,
   "metadata": {},
   "outputs": [],
   "source": [
    "from doomed import *"
   ]
  },
  {
   "attachments": {},
   "cell_type": "markdown",
   "metadata": {},
   "source": [
    "### Expected extinction time"
   ]
  },
  {
   "cell_type": "code",
   "execution_count": null,
   "metadata": {},
   "outputs": [],
   "source": [
    "# Default parameters\n",
    "u = 0.023\n",
    "s = 0.075\n",
    "Z0 = List([1000])"
   ]
  },
  {
   "cell_type": "code",
   "execution_count": null,
   "metadata": {},
   "outputs": [],
   "source": [
    "m, v = extinction_time(Z0, 15, s, u, 1e-8)\n",
    "print('Expected value:', round(m, 3))\n",
    "print('            CV:', round(np.sqrt(v) / m, 2))"
   ]
  },
  {
   "attachments": {},
   "cell_type": "markdown",
   "metadata": {},
   "source": [
    "### Expected time of first click"
   ]
  },
  {
   "cell_type": "code",
   "execution_count": null,
   "metadata": {},
   "outputs": [],
   "source": [
    "m2, v2 = click_time(1000, 0, s, u, 1e-8)\n",
    "print('Expected value:', round(m2, 3), '   ', round(m2/m * 100, 1), '%')\n",
    "print('            CV:', round(np.sqrt(v2) / m2, 2))"
   ]
  },
  {
   "attachments": {},
   "cell_type": "markdown",
   "metadata": {},
   "source": [
    "### Expected population size at extinction time"
   ]
  },
  {
   "cell_type": "code",
   "execution_count": null,
   "metadata": {},
   "outputs": [],
   "source": [
    "ENt(Z0, 193, s, u)"
   ]
  },
  {
   "attachments": {},
   "cell_type": "markdown",
   "metadata": {},
   "source": [
    "### Time required for expected population size to drop below 1\n",
    "\n",
    "Checking approach proposed by Lansch-Justen et al. (2022).\n",
    "\n",
    "Estimate: 311 generations."
   ]
  },
  {
   "cell_type": "code",
   "execution_count": null,
   "metadata": {},
   "outputs": [],
   "source": [
    "for n in range(309, 314):\n",
    "    print(n, ENt(Z0, n, s, u))"
   ]
  },
  {
   "attachments": {},
   "cell_type": "markdown",
   "metadata": {},
   "source": [
    "### Probability that a population is extinct at that time "
   ]
  },
  {
   "cell_type": "code",
   "execution_count": null,
   "metadata": {},
   "outputs": [],
   "source": [
    "prob_extinct(Z0, 311, 50, s, u)"
   ]
  },
  {
   "attachments": {},
   "cell_type": "markdown",
   "metadata": {},
   "source": [
    "### Probability density"
   ]
  },
  {
   "cell_type": "code",
   "execution_count": null,
   "metadata": {},
   "outputs": [],
   "source": [
    "red = sns.xkcd_rgb[\"pale red\"]\n",
    "theoryT = []\n",
    "theoryP = []\n",
    "binw = 5\n",
    "t1 = 0\n",
    "p1 = 0\n",
    "for i in range(1, 121):\n",
    "    t2 = i * binw\n",
    "    p2 = prob_extinct(Z0, t2, 15, s, u)\n",
    "    theoryT.append((t1+t2)/2)\n",
    "    theoryP.append((p2-p1) / binw)\n",
    "    t1 = t2\n",
    "    p1 = p2\n",
    "plt.plot(theoryT, theoryP, color=red)\n",
    "plt.ylabel('Probability density')\n",
    "plt.xlabel('Extinction time (generations)');"
   ]
  },
  {
   "attachments": {},
   "cell_type": "markdown",
   "metadata": {},
   "source": [
    "### Stochastic simulations\n",
    "\n",
    "You can skip directly to the \"Load data\" section below."
   ]
  },
  {
   "cell_type": "code",
   "execution_count": null,
   "metadata": {},
   "outputs": [],
   "source": [
    "np.random.seed(2102023)\n",
    "tt = []\n",
    "for i in range(10000):\n",
    "    tmpN, tmpZ, t = to_extinction(Z0, s, u)\n",
    "    tt.append(t)\n",
    "t = np.array(tt)\n",
    "t.mean(), t.var(ddof=1), len(t)"
   ]
  },
  {
   "attachments": {},
   "cell_type": "markdown",
   "metadata": {},
   "source": [
    "### Save data\n",
    "\n",
    "Save extinction times."
   ]
  },
  {
   "cell_type": "code",
   "execution_count": null,
   "metadata": {},
   "outputs": [],
   "source": [
    "with open('../data/hist.npy', 'wb') as f:\n",
    "    np.save(f, t)"
   ]
  },
  {
   "attachments": {},
   "cell_type": "markdown",
   "metadata": {},
   "source": [
    "### Load data\n",
    "\n",
    "Extinction times can be retrieved directly."
   ]
  },
  {
   "cell_type": "code",
   "execution_count": null,
   "metadata": {},
   "outputs": [],
   "source": [
    "t = np.load('../data/hist.npy')\n",
    "t.mean(), t.var(ddof=1), len(t)"
   ]
  },
  {
   "cell_type": "code",
   "execution_count": null,
   "metadata": {},
   "outputs": [],
   "source": [
    "t.min(), t.max()"
   ]
  },
  {
   "cell_type": "code",
   "execution_count": null,
   "metadata": {},
   "outputs": [],
   "source": [
    "bins = np.arange(10 * np.floor((t.min()-1)/10), 10 * np.ceil((t.max()+1)/10) + 1, 10)\n",
    "bins"
   ]
  },
  {
   "cell_type": "code",
   "execution_count": null,
   "metadata": {},
   "outputs": [],
   "source": [
    "fig, ax = plt.subplots(1, 1, figsize=(5, 4))\n",
    "ax.set_position([.212, .175, .78, .817])\n",
    "ax.hist(t, bins=bins, density=True, color='0.7')\n",
    "ax.plot(theoryT, theoryP, color=red)\n",
    "ax.set_ylabel('Probability')\n",
    "ax.set_xlabel('Extinction time (generations)')\n",
    "fig.savefig('../figures/hist.pdf');"
   ]
  },
  {
   "cell_type": "code",
   "execution_count": null,
   "metadata": {},
   "outputs": [],
   "source": []
  }
 ],
 "metadata": {
  "kernelspec": {
   "display_name": "Python 3.7.12 ('py37')",
   "language": "python",
   "name": "python3"
  },
  "language_info": {
   "codemirror_mode": {
    "name": "ipython",
    "version": 3
   },
   "file_extension": ".py",
   "mimetype": "text/x-python",
   "name": "python",
   "nbconvert_exporter": "python",
   "pygments_lexer": "ipython3",
   "version": "3.7.12"
  },
  "vscode": {
   "interpreter": {
    "hash": "6d31c2736f5e4345fadad3ba30a7234f2d887b5e1f5038291a5144cb026f05f6"
   }
  }
 },
 "nbformat": 4,
 "nbformat_minor": 4
}
