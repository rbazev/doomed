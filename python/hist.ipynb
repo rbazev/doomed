{
 "cells": [
  {
   "cell_type": "markdown",
   "metadata": {},
   "source": [
    "# Figure 4: Distribution of extinction times\n",
    "\n",
    "Generate **figures/hist.pdf** and calculate summary statistics for meltdown\n",
    "under default mutational parameters."
   ]
  },
  {
   "cell_type": "code",
   "execution_count": 1,
   "metadata": {},
   "outputs": [
    {
     "name": "stderr",
     "output_type": "stream",
     "text": [
      "/Users/rbazev/Documents/GitHub/doomed/python/doomed.py:34: MatplotlibDeprecationWarning: Support for setting the 'text.latex.preamble' or 'pgf.preamble' rcParam to a list of strings is deprecated since 3.3 and will be removed two minor releases later; set it to a single string instead.\n",
      "  rcParams['text.latex.preamble'] = [r'\\usepackage{sansmath}', r'\\sansmath']\n"
     ]
    }
   ],
   "source": [
    "from doomed import *"
   ]
  },
  {
   "cell_type": "markdown",
   "metadata": {},
   "source": [
    "### Expected extinction time"
   ]
  },
  {
   "cell_type": "code",
   "execution_count": 2,
   "metadata": {},
   "outputs": [],
   "source": [
    "# Default parameters\n",
    "u = 0.02\n",
    "s = 0.07\n",
    "Z0 = List([1000])"
   ]
  },
  {
   "cell_type": "code",
   "execution_count": 18,
   "metadata": {},
   "outputs": [
    {
     "name": "stdout",
     "output_type": "stream",
     "text": [
      "Expected value: 214.946\n",
      "      Variance: 3913.577\n",
      "  Standard dev: 62.559\n",
      "        CV (%): 29.1\n"
     ]
    }
   ],
   "source": [
    "m, v = extinction_time(Z0, 15, s, u, 1e-8)\n",
    "sd = np.sqrt(v)\n",
    "print('Expected value:', round(m, 3))\n",
    "print('      Variance:', round(v, 3))\n",
    "print('  Standard dev:', round(sd, 3))\n",
    "print('        CV (%):', round(100 * sd / m, 2))"
   ]
  },
  {
   "cell_type": "markdown",
   "metadata": {},
   "source": [
    "### Expected time of first click"
   ]
  },
  {
   "cell_type": "code",
   "execution_count": 19,
   "metadata": {},
   "outputs": [
    {
     "name": "stdout",
     "output_type": "stream",
     "text": [
      "Expected value: 209.197     97.3 %\n",
      "      Variance: 3913.453\n",
      "  Standard dev: 62.558\n",
      "            CV: 0.3\n"
     ]
    }
   ],
   "source": [
    "m2, v2 = click_time(1000, 0, s, u, 1e-8)\n",
    "sd2 = np.sqrt(v2)\n",
    "print('Expected value:', round(m2, 3), '   ', round(m2/m * 100, 1), '%')\n",
    "print('      Variance:', round(v2, 3))\n",
    "print('  Standard dev:', round(sd2, 3))\n",
    "print('            CV:', round(sd2 / m2, 2))"
   ]
  },
  {
   "cell_type": "markdown",
   "metadata": {},
   "source": [
    "### Expected population size at extinction time"
   ]
  },
  {
   "cell_type": "code",
   "execution_count": 5,
   "metadata": {},
   "outputs": [
    {
     "data": {
      "text/plain": [
       "17.37934060345936"
      ]
     },
     "execution_count": 5,
     "metadata": {},
     "output_type": "execute_result"
    }
   ],
   "source": [
    "ENt(Z0, 214.946, s, u)"
   ]
  },
  {
   "cell_type": "markdown",
   "metadata": {},
   "source": [
    "### Time required for expected population size to drop below 1\n",
    "\n",
    "Checking approach proposed by Lansch-Justen et al. (2022).\n",
    "\n",
    "Estimate: 357 generations."
   ]
  },
  {
   "cell_type": "code",
   "execution_count": 7,
   "metadata": {},
   "outputs": [
    {
     "name": "stdout",
     "output_type": "stream",
     "text": [
      "354 1.0470900803628642\n",
      "355 1.0261482787557525\n",
      "356 1.005625313180771\n",
      "357 0.9855128069172763\n",
      "358 0.9658025507790412\n",
      "359 0.9464864997635613\n"
     ]
    }
   ],
   "source": [
    "for n in range(354, 360):\n",
    "    print(n, ENt(Z0, n, s, u))"
   ]
  },
  {
   "cell_type": "code",
   "execution_count": 15,
   "metadata": {},
   "outputs": [
    {
     "data": {
      "text/plain": [
       "352.5752841203255"
      ]
     },
     "execution_count": 15,
     "metadata": {},
     "output_type": "execute_result"
    }
   ],
   "source": [
    "m + 2 * sd"
   ]
  },
  {
   "cell_type": "markdown",
   "metadata": {},
   "source": [
    "### Probability that a population is extinct at that time "
   ]
  },
  {
   "cell_type": "code",
   "execution_count": 6,
   "metadata": {},
   "outputs": [
    {
     "data": {
      "text/plain": [
       "0.969686688321009"
      ]
     },
     "execution_count": 6,
     "metadata": {},
     "output_type": "execute_result"
    }
   ],
   "source": [
    "prob_extinct(Z0, 357, 50, s, u)"
   ]
  },
  {
   "cell_type": "markdown",
   "metadata": {},
   "source": [
    "### Probability density"
   ]
  },
  {
   "cell_type": "code",
   "execution_count": 25,
   "metadata": {},
   "outputs": [
    {
     "data": {
      "image/png": "[encoded data removed]",
      "text/plain": [
       "<Figure size 640x480 with 1 Axes>"
      ]
     },
     "metadata": {},
     "output_type": "display_data"
    }
   ],
   "source": [
    "red = sns.xkcd_rgb[\"pale red\"]\n",
    "theoryT = []\n",
    "theoryP = []\n",
    "binw = 5\n",
    "t1 = 0\n",
    "p1 = 0\n",
    "for i in range(1, 121):\n",
    "    t2 = i * binw\n",
    "    p2 = prob_extinct(Z0, t2, 15, s, u)\n",
    "    theoryT.append((t1+t2)/2)\n",
    "    theoryP.append((p2-p1) / binw)\n",
    "    t1 = t2\n",
    "    p1 = p2\n",
    "plt.plot(theoryT, theoryP, color=red)\n",
    "plt.xlim(0, 623)\n",
    "plt.ylim(0, .0084)\n",
    "plt.ylabel('Probability')\n",
    "plt.xlabel('Extinction time (generations)');"
   ]
  },
  {
   "cell_type": "markdown",
   "metadata": {},
   "source": [
    "### Stochastic simulations\n",
    "\n",
    "You can skip directly to the \"Load data\" section below."
   ]
  },
  {
   "cell_type": "code",
   "execution_count": 12,
   "metadata": {},
   "outputs": [
    {
     "data": {
      "text/plain": [
       "(215.0605, 4147.163556105611, 10000)"
      ]
     },
     "execution_count": 12,
     "metadata": {},
     "output_type": "execute_result"
    }
   ],
   "source": [
    "np.random.seed(6232023)\n",
    "tt = []\n",
    "for i in range(10000):\n",
    "    tmpN, tmpZ, t = to_extinction(Z0, s, u)\n",
    "    tt.append(t)\n",
    "t = np.array(tt)\n",
    "t.mean(), t.var(ddof=1), len(t)"
   ]
  },
  {
   "cell_type": "markdown",
   "metadata": {},
   "source": [
    "### Save data\n",
    "\n",
    "Save extinction times."
   ]
  },
  {
   "cell_type": "code",
   "execution_count": 13,
   "metadata": {},
   "outputs": [],
   "source": [
    "with open('../data/hist.npy', 'wb') as f:\n",
    "    np.save(f, t)"
   ]
  },
  {
   "cell_type": "markdown",
   "metadata": {},
   "source": [
    "### Load data\n",
    "\n",
    "Extinction times can be retrieved directly."
   ]
  },
  {
   "cell_type": "code",
   "execution_count": 26,
   "metadata": {},
   "outputs": [
    {
     "data": {
      "text/plain": [
       "(215.0605, 4147.163556105611, 10000)"
      ]
     },
     "execution_count": 26,
     "metadata": {},
     "output_type": "execute_result"
    }
   ],
   "source": [
    "t = np.load('../data/hist.npy')\n",
    "t.mean(), t.var(ddof=1), len(t)"
   ]
  },
  {
   "cell_type": "code",
   "execution_count": 27,
   "metadata": {},
   "outputs": [
    {
     "data": {
      "text/plain": [
       "(82, 828)"
      ]
     },
     "execution_count": 27,
     "metadata": {},
     "output_type": "execute_result"
    }
   ],
   "source": [
    "t.min(), t.max()"
   ]
  },
  {
   "cell_type": "code",
   "execution_count": 28,
   "metadata": {},
   "outputs": [
    {
     "data": {
      "text/plain": [
       "array([613, 665, 828, 734, 653, 704])"
      ]
     },
     "execution_count": 28,
     "metadata": {},
     "output_type": "execute_result"
    }
   ],
   "source": [
    "# we ignore the few times > 600 (for plotting purposes)\n",
    "t[t>600]"
   ]
  },
  {
   "cell_type": "code",
   "execution_count": 29,
   "metadata": {},
   "outputs": [
    {
     "data": {
      "text/plain": [
       "array([ 80,  90, 100, 110, 120, 130, 140, 150, 160, 170, 180, 190, 200,\n",
       "       210, 220, 230, 240, 250, 260, 270, 280, 290, 300, 310, 320, 330,\n",
       "       340, 350, 360, 370, 380, 390, 400, 410, 420, 430, 440, 450, 460,\n",
       "       470, 480, 490, 500, 510, 520, 530, 540, 550, 560, 570, 580, 590,\n",
       "       600])"
      ]
     },
     "execution_count": 29,
     "metadata": {},
     "output_type": "execute_result"
    }
   ],
   "source": [
    "bins = np.arange(80, 601, 10)\n",
    "bins"
   ]
  },
  {
   "cell_type": "code",
   "execution_count": 30,
   "metadata": {},
   "outputs": [
    {
     "data": {
      "image/png": "[encoded data removed]",
      "text/plain": [
       "<Figure size 500x400 with 1 Axes>"
      ]
     },
     "metadata": {},
     "output_type": "display_data"
    }
   ],
   "source": [
    "fig, ax = plt.subplots(1, 1, figsize=(5, 4))\n",
    "ax.set_position([.212, .175, .78, .817])\n",
    "ax.hist(t[t<600], bins=bins, density=True, color='0.7')\n",
    "ax.plot(theoryT, theoryP, color=red)\n",
    "ax.set_xlim(0, 623)\n",
    "ax.set_ylim(0, .0084)\n",
    "ax.set_ylabel('Probability')\n",
    "ax.set_xlabel('Extinction time (generations)')\n",
    "fig.savefig('../figures/hist.pdf');"
   ]
  },
  {
   "cell_type": "code",
   "execution_count": null,
   "metadata": {},
   "outputs": [],
   "source": []
  }
 ],
 "metadata": {
  "kernelspec": {
   "display_name": "Python 3 (ipykernel)",
   "language": "python",
   "name": "python3"
  },
  "language_info": {
   "codemirror_mode": {
    "name": "ipython",
    "version": 3
   },
   "file_extension": ".py",
   "mimetype": "text/x-python",
   "name": "python",
   "nbconvert_exporter": "python",
   "pygments_lexer": "ipython3",
   "version": "3.7.12"
  },
  "vscode": {
   "interpreter": {
    "hash": "6d31c2736f5e4345fadad3ba30a7234f2d887b5e1f5038291a5144cb026f05f6"
   }
  }
 },
 "nbformat": 4,
 "nbformat_minor": 4
}
