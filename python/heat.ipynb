{
 "cells": [
  {
   "attachments": {},
   "cell_type": "markdown",
   "metadata": {},
   "source": [
    "# Figure 5: High deleterious mutation rate accelerates extinction in doomed populations"
   ]
  },
  {
   "cell_type": "code",
   "execution_count": null,
   "metadata": {},
   "outputs": [],
   "source": [
    "from doomed import *"
   ]
  },
  {
   "attachments": {},
   "cell_type": "markdown",
   "metadata": {},
   "source": [
    "### Generate heat map data\n",
    "\n",
    "You can skip directly to the \"Load data\" section below."
   ]
  },
  {
   "cell_type": "code",
   "execution_count": null,
   "metadata": {},
   "outputs": [],
   "source": [
    "Z0 = List([1000])\n",
    "nsteps = 21\n",
    "s_range = np.logspace(-2., 0, nsteps)\n",
    "u_range = np.logspace(-2.7, -.7, nsteps)"
   ]
  },
  {
   "cell_type": "code",
   "execution_count": null,
   "metadata": {},
   "outputs": [],
   "source": [
    "print(u_range)"
   ]
  },
  {
   "cell_type": "code",
   "execution_count": null,
   "metadata": {},
   "outputs": [],
   "source": [
    "print(s_range)"
   ]
  },
  {
   "cell_type": "code",
   "execution_count": null,
   "metadata": {},
   "outputs": [],
   "source": [
    "def heat(Z0, s_range, u_range):\n",
    "    Mresult = []\n",
    "    Vresult = []\n",
    "    M0result = []\n",
    "    for s in s_range:\n",
    "        print(round(s, 4), end=' ')\n",
    "        for u in u_range:\n",
    "            m, v = extinction_time(Z0, 15, s, u, 1e-8)\n",
    "            m0, v0 = click_time(Z0[0], 0, s, u, 1e-8)\n",
    "            Mresult.append((m, u, s))\n",
    "            Vresult.append((v, u, s))\n",
    "            M0result.append((m0, u, s))\n",
    "    return Mresult, Vresult, M0result\n",
    "\n",
    "def get_matrix(data, n):\n",
    "    starter = np.zeros((n, n))\n",
    "    j = 0\n",
    "    for row in starter:\n",
    "        z = 0\n",
    "        for element in row:\n",
    "            row[z] = data[j][0]\n",
    "            j += 1\n",
    "            z += 1\n",
    "    return starter"
   ]
  },
  {
   "cell_type": "code",
   "execution_count": null,
   "metadata": {},
   "outputs": [],
   "source": [
    "Mheat, Vheat, M0heat = heat(Z0, s_range, u_range)\n",
    "Marray = get_matrix(Mheat, nsteps)\n",
    "Varray = get_matrix(Vheat, nsteps)\n",
    "M0array = get_matrix(M0heat, nsteps)"
   ]
  },
  {
   "attachments": {},
   "cell_type": "markdown",
   "metadata": {},
   "source": [
    "### Save data"
   ]
  },
  {
   "cell_type": "code",
   "execution_count": null,
   "metadata": {},
   "outputs": [],
   "source": [
    "with open('../data/heatA.npy', 'wb') as f1:\n",
    "    np.save(f1, Marray)\n",
    "with open('../data/heatB.npy', 'wb') as f2:\n",
    "    np.save(f2, Varray)\n",
    "with open('../data/heatC.npy', 'wb') as f3:\n",
    "    np.save(f3, M0array)"
   ]
  },
  {
   "attachments": {},
   "cell_type": "markdown",
   "metadata": {},
   "source": [
    "### Load data"
   ]
  },
  {
   "cell_type": "code",
   "execution_count": null,
   "metadata": {},
   "outputs": [],
   "source": [
    "Marray = np.load('../data/heatA.npy')\n",
    "Varray = np.load('../data/heatB.npy')\n",
    "M0array = np.load('../data/heatC.npy')"
   ]
  },
  {
   "cell_type": "code",
   "execution_count": null,
   "metadata": {},
   "outputs": [],
   "source": [
    "# coordinates to draw red box from figure 1 on heat maps.\n",
    "u1 = 2.5 #-2.5\n",
    "u2 = 19  #-.85\n",
    "s1 = 4.5 #-1.6\n",
    "s2 = 12  #-.85"
   ]
  },
  {
   "cell_type": "code",
   "execution_count": null,
   "metadata": {},
   "outputs": [],
   "source": [
    "fig, (ax1, ax2, ax3) = plt.subplots(1, 3, figsize=(14.5, 4))\n",
    "fig.subplots_adjust()\n",
    "\n",
    "red = sns.xkcd_rgb[\"pale red\"]\n",
    "\n",
    "ax1.set_position([-.04, .172, .4, .68])\n",
    "ax2.set_position([.297, .172, .4, .68])\n",
    "ax3.set_position([ .63, .172, .4, .68])\n",
    "cbar_ax1 = fig.add_axes([-.04 + 0.31, .172, .021, .68])\n",
    "cbar_ax2 = fig.add_axes([.297 + 0.31, .172, .021, .68])\n",
    "cbar_ax3 = fig.add_axes([ .63 + 0.31, .172, .021, .68])\n",
    "\n",
    "sns.heatmap(Marray, square = True, ax=ax1, cbar_ax = cbar_ax1, cmap='viridis_r', \n",
    "    cbar=True, cbar_kws={'ticks': [100, 400, 700, 1000]})\n",
    "ax1.text(0, 23.5, r\"\\textbf{A}\", size=24, weight='bold')\n",
    "ax1.text(22.7, 23, r\"E$[T]$\", ha='left')\n",
    "ax1.set_ylabel(r'Selection coefficient $(s)$')\n",
    "\n",
    "sns.heatmap(np.sqrt(Varray) / Marray, square = True, ax=ax2, cbar_ax = cbar_ax2, cbar=True, \n",
    "    cmap='viridis_r', cbar_kws={'ticks': [.2, .3, .4, .5]})\n",
    "ax2.text(0, 23.5, r\"\\textbf{B}\", size=24, weight='bold')\n",
    "ax2.text(22.7, 23, r\"CV$[T]$\", ha='left')\n",
    "ax2.set_ylabel('')\n",
    "\n",
    "sns.heatmap(M0array / Marray, square = True, ax=ax3, cbar_ax = cbar_ax3, cbar=True, \n",
    "    cmap='viridis_r', cbar_kws={'ticks': [.5, .7, .9]})\n",
    "ax3.text(0, 23.5, r\"\\textbf{C}\", size=24, weight='bold')\n",
    "ax3.text(22.7, 23, r\"$t_0/\\mathrm{E}[T]$\", ha='left')\n",
    "ax3.set_ylabel('')\n",
    "\n",
    "for ax in [ax1, ax2, ax3]:\n",
    "    ax.invert_yaxis()\n",
    "    ax.set_xlabel(r'Mutation rate $(u)$')\n",
    "    ax.set_xticks([7.5, 17.5])\n",
    "    ax.set_xticklabels([0.01, 0.1], rotation = 0)\n",
    "    ax.set_yticks([0.5, 10.5, 20.5])\n",
    "    ax.set_yticklabels([0.01, 0.1, 1], rotation = 0)\n",
    "    ax.plot(11.05, 9.4, '+', ms=15, color=red, markeredgewidth=2)\n",
    "    ax.plot([u1] * 2, [s1, s2], '-', color=red)\n",
    "    ax.plot([u2] * 2, [s1, s2], '-', color=red)\n",
    "    ax.plot([u1, u2], [s1] * 2, '-', color=red)\n",
    "    ax.plot([u1, u2], [s2] * 2, '-', color=red)\n",
    "\n",
    "plt.savefig('../figures/heat.pdf')"
   ]
  },
  {
   "cell_type": "code",
   "execution_count": null,
   "metadata": {},
   "outputs": [],
   "source": []
  }
 ],
 "metadata": {
  "kernelspec": {
   "display_name": "Python 3.7.12 ('py37')",
   "language": "python",
   "name": "python3"
  },
  "language_info": {
   "codemirror_mode": {
    "name": "ipython",
    "version": 3
   },
   "file_extension": ".py",
   "mimetype": "text/x-python",
   "name": "python",
   "nbconvert_exporter": "python",
   "pygments_lexer": "ipython3",
   "version": "3.7.12"
  },
  "vscode": {
   "interpreter": {
    "hash": "6d31c2736f5e4345fadad3ba30a7234f2d887b5e1f5038291a5144cb026f05f6"
   }
  }
 },
 "nbformat": 4,
 "nbformat_minor": 4
}
