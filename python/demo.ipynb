{
 "cells": [
  {
   "cell_type": "markdown",
   "metadata": {},
   "source": [
    "# Muller's Ratchet in Doomed Populations\n",
    "\n",
    "## Parameters\n",
    "\n",
    "* $u$, probability that an individual offspring acquires one mutation.\n",
    "\n",
    "* $s$, deleterious effect of a mutation.\n",
    "\n",
    "* $w_k=(1-s)^k$, absolute fitness of an individual carrying *k* mutations; mean number of offspring per individual.\n",
    "\n",
    "* $\\mathbf{Z}_t$, the composition of the population at generation *t*.\n",
    "\n",
    "* $Z_{t,k}$, number of individuals with *k* deleterious mutations at generation *t*.\n",
    "\n",
    "## Fitness"
   ]
  },
  {
   "cell_type": "code",
   "execution_count": 37,
   "metadata": {},
   "outputs": [],
   "source": [
    "run doomed"
   ]
  },
  {
   "cell_type": "code",
   "execution_count": 8,
   "metadata": {},
   "outputs": [
    {
     "data": {
      "image/png": "[encoded data removed]",
      "text/plain": [
       "<Figure size 432x288 with 1 Axes>"
      ]
     },
     "metadata": {
      "needs_background": "light"
     },
     "output_type": "display_data"
    }
   ],
   "source": [
    "k = np.arange(21)\n",
    "fit = [w(i, .06) for i in k]\n",
    "plt.plot(k, fit)\n",
    "plt.xticks([0, 5, 10, 15, 20])\n",
    "plt.xlabel('Number of mutations')\n",
    "plt.ylabel('Fitness');"
   ]
  },
  {
   "cell_type": "markdown",
   "metadata": {},
   "source": [
    "## Change in the composition of the population"
   ]
  },
  {
   "cell_type": "code",
   "execution_count": 25,
   "metadata": {},
   "outputs": [
    {
     "name": "stdout",
     "output_type": "stream",
     "text": [
      "0 78.83997189689599\n",
      "1 55.983589621983654\n",
      "2 33.63950407336737\n"
     ]
    }
   ],
   "source": [
    "for i in range(3):\n",
    "    print(i, Eztk([89, 78, 67, 56], 6, i, .06, .02))"
   ]
  },
  {
   "cell_type": "code",
   "execution_count": 26,
   "metadata": {},
   "outputs": [
    {
     "data": {
      "text/plain": [
       "[78.83997189689599,\n",
       " 55.983589621983654,\n",
       " 33.63950407336737,\n",
       " 19.495830976094148,\n",
       " 10.882959833410819,\n",
       " 5.7371025822676645,\n",
       " 2.7362851345711086,\n",
       " 1.0449571845669448,\n",
       " 0.09406931970077179,\n",
       " 0.003900823145679342,\n",
       " 8.849533155787873e-05,\n",
       " 1.1395917773934133e-06,\n",
       " 7.853818626970906e-09,\n",
       " 2.2576097666385384e-11]"
      ]
     },
     "execution_count": 26,
     "metadata": {},
     "output_type": "execute_result"
    }
   ],
   "source": [
    "EZt([89, 78, 67, 56, 45, 34, 23, 12], 6, .06, .02)"
   ]
  },
  {
   "cell_type": "code",
   "execution_count": 29,
   "metadata": {},
   "outputs": [
    {
     "data": {
      "text/plain": [
       "208.45826108880385"
      ]
     },
     "execution_count": 29,
     "metadata": {},
     "output_type": "execute_result"
    }
   ],
   "source": [
    "ENt([89, 78, 67, 56, 45, 34, 23, 12], 6, .06, .02)"
   ]
  },
  {
   "cell_type": "code",
   "execution_count": 31,
   "metadata": {},
   "outputs": [
    {
     "data": {
      "text/plain": [
       "2.3609207199999998"
      ]
     },
     "execution_count": 31,
     "metadata": {},
     "output_type": "execute_result"
    }
   ],
   "source": [
    "phi_k([0,1,2,3], 2, .06, .02)"
   ]
  },
  {
   "cell_type": "code",
   "execution_count": 34,
   "metadata": {},
   "outputs": [
    {
     "data": {
      "text/plain": [
       "4.322336"
      ]
     },
     "execution_count": 34,
     "metadata": {},
     "output_type": "execute_result"
    }
   ],
   "source": [
    "phi_k([0,1,2,3], 3, .06, .02)"
   ]
  },
  {
   "cell_type": "code",
   "execution_count": 35,
   "metadata": {},
   "outputs": [
    {
     "data": {
      "text/plain": [
       "[0.5, 0.53, 0.5582, 0.584708, 0.60962552, 0.6330479888]"
      ]
     },
     "execution_count": 35,
     "metadata": {},
     "output_type": "execute_result"
    }
   ],
   "source": [
    "phi([0,0,0,0,0,0], .06, .02)"
   ]
  },
  {
   "cell_type": "code",
   "execution_count": 36,
   "metadata": {},
   "outputs": [
    {
     "data": {
      "text/plain": [
       "[0.62530018,\n",
       " 0.6623041343051201,\n",
       " 0.6961208552502438,\n",
       " 0.7269315863176066,\n",
       " 0.7549286210155779,\n",
       " 0.7801039177975104]"
      ]
     },
     "execution_count": 36,
     "metadata": {},
     "output_type": "execute_result"
    }
   ],
   "source": [
    "phi([0.5, 0.53, 0.5582, 0.584708, 0.60962552, 0.6330479888], .06, .02)"
   ]
  },
  {
   "cell_type": "code",
   "execution_count": 38,
   "metadata": {},
   "outputs": [
    {
     "data": {
      "text/plain": [
       "0.4615055653545099"
      ]
     },
     "execution_count": 38,
     "metadata": {},
     "output_type": "execute_result"
    }
   ],
   "source": [
    "px([1000], 200, 10, .06, .02)"
   ]
  },
  {
   "cell_type": "code",
   "execution_count": 39,
   "metadata": {},
   "outputs": [
    {
     "data": {
      "text/plain": [
       "215.6014812186036"
      ]
     },
     "execution_count": 39,
     "metadata": {},
     "output_type": "execute_result"
    }
   ],
   "source": [
    "ET([1000], 50, .06, .02, 1e-8)"
   ]
  },
  {
   "cell_type": "code",
   "execution_count": 41,
   "metadata": {},
   "outputs": [
    {
     "data": {
      "text/plain": [
       "215.60163042162793"
      ]
     },
     "execution_count": 41,
     "metadata": {},
     "output_type": "execute_result"
    }
   ],
   "source": [
    "ET([1000, 20], 50, .06, .02, 1e-8)"
   ]
  },
  {
   "cell_type": "code",
   "execution_count": null,
   "metadata": {},
   "outputs": [],
   "source": []
  }
 ],
 "metadata": {
  "kernelspec": {
   "display_name": "Python 3 (ipykernel)",
   "language": "python",
   "name": "python3"
  },
  "language_info": {
   "codemirror_mode": {
    "name": "ipython",
    "version": 3
   },
   "file_extension": ".py",
   "mimetype": "text/x-python",
   "name": "python",
   "nbconvert_exporter": "python",
   "pygments_lexer": "ipython3",
   "version": "3.7.12"
  }
 },
 "nbformat": 4,
 "nbformat_minor": 4
}
