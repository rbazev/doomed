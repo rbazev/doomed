{
 "cells": [
  {
   "cell_type": "markdown",
   "metadata": {},
   "source": [
    "# Muller's Ratchet in Doomed Populations\n",
    "\n",
    "## Parameters\n",
    "\n",
    "* $u$, probability that an individual offspring acquires one mutation.\n",
    "\n",
    "* $s$, deleterious effect of a mutation.\n",
    "\n",
    "* $w_k=(1-s)^k$, absolute fitness of an individual carrying *k* mutations.\n",
    "\n",
    "* $\\mathbf{Z}_t$, the composition of the population at generation *t*.\n",
    "\n",
    "* $Z_{t,k}$, number of individuals with *k* deleterious mutations at generation *t*.\n",
    "\n",
    "## Fitness"
   ]
  },
  {
   "cell_type": "code",
   "execution_count": 10,
   "metadata": {},
   "outputs": [],
   "source": [
    "run doomed"
   ]
  },
  {
   "cell_type": "code",
   "execution_count": 17,
   "metadata": {},
   "outputs": [
    {
     "data": {
      "image/png": "[encoded data removed]",
      "text/plain": [
       "<Figure size 432x288 with 1 Axes>"
      ]
     },
     "metadata": {},
     "output_type": "display_data"
    }
   ],
   "source": [
    "k = np.arange(21)\n",
    "for s in [.01, .02, .05]:\n",
    "    fit = [w(i, s) for i in k]\n",
    "    plt.plot(k, fit, label='s={0}'.format(s))\n",
    "plt.xticks([0, 5, 10, 15, 20])\n",
    "plt.xlabel('Number of mutations')\n",
    "plt.ylabel('Fitness')\n",
    "plt.legend();"
   ]
  },
  {
   "cell_type": "markdown",
   "metadata": {},
   "source": [
    "## Change in the composition of the population"
   ]
  },
  {
   "cell_type": "code",
   "execution_count": 3,
   "metadata": {},
   "outputs": [
    {
     "name": "stdout",
     "output_type": "stream",
     "text": [
      "0 78.83997189689599\n",
      "1 55.983589621983654\n",
      "2 33.63950407336737\n"
     ]
    }
   ],
   "source": [
    "for i in range(3):\n",
    "    print(i, Eztk(List([89, 78, 67, 56]), 6, i, .06, .02))"
   ]
  },
  {
   "cell_type": "code",
   "execution_count": 5,
   "metadata": {},
   "outputs": [
    {
     "data": {
      "text/plain": [
       "ListType[int64]([89, 78, 67, 56, 45, 34, 23, 12, ...])"
      ]
     },
     "execution_count": 5,
     "metadata": {},
     "output_type": "execute_result"
    }
   ],
   "source": [
    "x = List([89, 78, 67, 56, 45, 34, 23, 12])\n",
    "x"
   ]
  },
  {
   "cell_type": "code",
   "execution_count": 8,
   "metadata": {},
   "outputs": [],
   "source": [
    "x.append(0)"
   ]
  },
  {
   "cell_type": "code",
   "execution_count": 15,
   "metadata": {},
   "outputs": [],
   "source": [
    "del x[-1]"
   ]
  },
  {
   "cell_type": "code",
   "execution_count": 16,
   "metadata": {},
   "outputs": [
    {
     "data": {
      "text/plain": [
       "ListType[int64]([89, 78, 67, 56, 45, 34, 23, 12, ...])"
      ]
     },
     "execution_count": 16,
     "metadata": {},
     "output_type": "execute_result"
    }
   ],
   "source": [
    "x"
   ]
  },
  {
   "cell_type": "code",
   "execution_count": 11,
   "metadata": {},
   "outputs": [
    {
     "data": {
      "text/plain": [
       "[78.83997189689599,\n",
       " 55.983589621983654,\n",
       " 33.63950407336737,\n",
       " 19.495830976094148,\n",
       " 10.882959833410819,\n",
       " 5.7371025822676645,\n",
       " 2.7362851345711086,\n",
       " 1.0449571845669448,\n",
       " 0.09406931970077179,\n",
       " 0.003900823145679342,\n",
       " 8.849533155787873e-05,\n",
       " 1.1395917773934133e-06,\n",
       " 7.853818626970906e-09,\n",
       " 2.2576097666385384e-11]"
      ]
     },
     "execution_count": 11,
     "metadata": {},
     "output_type": "execute_result"
    }
   ],
   "source": [
    "EZt(List([89, 78, 67, 56, 45, 34, 23, 12]), 6, .06, .02)"
   ]
  },
  {
   "cell_type": "code",
   "execution_count": 12,
   "metadata": {},
   "outputs": [
    {
     "data": {
      "text/plain": [
       "208.45826108880385"
      ]
     },
     "execution_count": 12,
     "metadata": {},
     "output_type": "execute_result"
    }
   ],
   "source": [
    "ENt(List([89, 78, 67, 56, 45, 34, 23, 12]), 6, .06, .02)"
   ]
  },
  {
   "cell_type": "code",
   "execution_count": 89,
   "metadata": {},
   "outputs": [],
   "source": [
    "run doomed"
   ]
  },
  {
   "cell_type": "code",
   "execution_count": 2,
   "metadata": {},
   "outputs": [
    {
     "data": {
      "text/plain": [
       "(0, 0)"
      ]
     },
     "execution_count": 2,
     "metadata": {},
     "output_type": "execute_result"
    }
   ],
   "source": [
    "u = 0.02\n",
    "s = 0.06\n",
    "ind_step(.5, 0, s, u)"
   ]
  },
  {
   "cell_type": "code",
   "execution_count": 3,
   "metadata": {},
   "outputs": [
    {
     "data": {
      "text/plain": [
       "(89, 1)"
      ]
     },
     "execution_count": 3,
     "metadata": {},
     "output_type": "execute_result"
    }
   ],
   "source": [
    "u = 0.02\n",
    "s = 0.06\n",
    "z = 100\n",
    "class_step(z, 1, s, u)"
   ]
  },
  {
   "cell_type": "code",
   "execution_count": 80,
   "metadata": {},
   "outputs": [
    {
     "data": {
      "text/plain": [
       "[114]"
      ]
     },
     "execution_count": 80,
     "metadata": {},
     "output_type": "execute_result"
    }
   ],
   "source": [
    "u = 0.02\n",
    "s = 0.06\n",
    "z = [100]\n",
    "pop_step(z, s, u)"
   ]
  },
  {
   "cell_type": "code",
   "execution_count": 82,
   "metadata": {},
   "outputs": [
    {
     "data": {
      "text/plain": [
       "(194, [192])"
      ]
     },
     "execution_count": 82,
     "metadata": {},
     "output_type": "execute_result"
    }
   ],
   "source": [
    "n, k, t, clicks, zz = sim(z, s, u)\n",
    "t, clicks"
   ]
  },
  {
   "cell_type": "code",
   "execution_count": 124,
   "metadata": {},
   "outputs": [
    {
     "data": {
      "text/plain": [
       "235"
      ]
     },
     "execution_count": 124,
     "metadata": {},
     "output_type": "execute_result"
    }
   ],
   "source": [
    "ext_times.max()"
   ]
  },
  {
   "cell_type": "code",
   "execution_count": 125,
   "metadata": {},
   "outputs": [
    {
     "data": {
      "text/plain": [
       "[<matplotlib.lines.Line2D at 0x7f984df5df90>]"
      ]
     },
     "execution_count": 125,
     "metadata": {},
     "output_type": "execute_result"
    },
    {
     "data": {
      "image/png": "[encoded data removed]",
      "text/plain": [
       "<Figure size 432x288 with 1 Axes>"
      ]
     },
     "metadata": {},
     "output_type": "display_data"
    }
   ],
   "source": [
    "nreps = 50\n",
    "pop_sizes, ext_times, clicks = simult(z, nreps, s, u)\n",
    "for i in range(nreps):\n",
    "    plt.plot(pop_sizes[:(ext_times[i]+1),i], 'k-', alpha=.1)\n",
    "expected = [ENt(List(z), t, s, u) for t in range(ext_times.max()+1)]\n",
    "plt.plot(expected)"
   ]
  },
  {
   "cell_type": "code",
   "execution_count": null,
   "metadata": {},
   "outputs": [],
   "source": []
  },
  {
   "cell_type": "code",
   "execution_count": 109,
   "metadata": {},
   "outputs": [
    {
     "data": {
      "text/plain": [
       "[<matplotlib.lines.Line2D at 0x7f98186f1290>]"
      ]
     },
     "execution_count": 109,
     "metadata": {},
     "output_type": "execute_result"
    },
    {
     "data": {
      "image/png": "[encoded data removed]",
      "text/plain": [
       "<Figure size 432x288 with 1 Axes>"
      ]
     },
     "metadata": {},
     "output_type": "display_data"
    }
   ],
   "source": [
    "u = 0.02\n",
    "s = 0.06\n",
    "z = [100]\n",
    "pop_sizes, ext_times, clicks = simult(z, 1000, s, u)\n",
    "m = pop_sizes.mean(axis=1)\n",
    "expected = [ENt(List(z), t, s, u) for t in range(400)]\n",
    "plt.plot(m)\n",
    "plt.plot(expected, '--')"
   ]
  },
  {
   "cell_type": "code",
   "execution_count": 108,
   "metadata": {},
   "outputs": [
    {
     "data": {
      "text/plain": [
       "[<matplotlib.lines.Line2D at 0x7f98182d8810>]"
      ]
     },
     "execution_count": 108,
     "metadata": {},
     "output_type": "execute_result"
    },
    {
     "data": {
      "image/png": "[encoded data removed]",
      "text/plain": [
       "<Figure size 432x288 with 1 Axes>"
      ]
     },
     "metadata": {},
     "output_type": "display_data"
    }
   ],
   "source": [
    "u = 0.04\n",
    "s = 0.04\n",
    "pop_sizes, ext_times, clicks = simult(z, 1000, s, u)\n",
    "m = pop_sizes.mean(axis=1)\n",
    "expected = [ENt(List(z), t, s, u) for t in range(250)]\n",
    "plt.plot(m)\n",
    "plt.plot(expected, '--')"
   ]
  },
  {
   "cell_type": "code",
   "execution_count": null,
   "metadata": {},
   "outputs": [],
   "source": []
  },
  {
   "cell_type": "code",
   "execution_count": 103,
   "metadata": {},
   "outputs": [
    {
     "data": {
      "text/plain": [
       "[100.0,\n",
       " 100.0,\n",
       " 99.88000000000001,\n",
       " 99.64268512,\n",
       " 99.29109789840778,\n",
       " 98.82860886087937,\n",
       " 98.2588864213163,\n",
       " 97.58586638934757,\n",
       " 96.81372134378246,\n",
       " 95.94683011502512,\n",
       " 94.98974760163665,\n",
       " 93.94717512744302,\n",
       " 92.8239315261319,\n",
       " 91.62492512044614,\n",
       " 90.35512674313361,\n",
       " 89.01954392699997,\n",
       " 87.62319637194402,\n",
       " 86.17109277792989,\n",
       " 84.66820911463154,\n",
       " 83.11946838111197,\n",
       " 81.5297218924866,\n",
       " 79.90373211516138,\n",
       " 78.24615705799593,\n",
       " 76.56153621367372,\n",
       " 74.85427803268844,\n",
       " 73.12864890169396,\n",
       " 71.38876358850571,\n",
       " 69.63857710777275,\n",
       " 67.88187795422127,\n",
       " 66.1222826443728,\n",
       " 64.3632315027071,\n",
       " 62.607985624315184,\n",
       " 60.859624943115925,\n",
       " 59.121047332617195,\n",
       " 57.39496866492632,\n",
       " 55.683923753184494,\n",
       " 53.99026810274108,\n",
       " 52.31618039713209,\n",
       " 50.66366564620996,\n",
       " 49.03455892552262,\n",
       " 47.43052963819508,\n",
       " 45.85308623306442,\n",
       " 44.303581315601264,\n",
       " 42.78321709116034,\n",
       " 41.29305108329377,\n",
       " 39.83400207318008,\n",
       " 38.40685620963162,\n",
       " 37.012273242601495,\n",
       " 35.650792836582596,\n",
       " 34.32284092374815,\n",
       " 33.02873606009155,\n",
       " 31.768695751167183,\n",
       " 30.54284271728421,\n",
       " 29.351211071152573,\n",
       " 28.193752384003417,\n",
       " 27.07034161909861,\n",
       " 25.98078291429296,\n",
       " 24.924815197913873,\n",
       " 23.90211762467087,\n",
       " 22.912314820598635,\n",
       " 21.95498192817212,\n",
       " 21.029649444710373,\n",
       " 20.135807849008604,\n",
       " 19.272912012810178,\n",
       " 18.44038539525362,\n",
       " 17.63762401981013,\n",
       " 16.864000234470254,\n",
       " 16.118866257048936,\n",
       " 15.401557508463625,\n",
       " 14.711395737706479,\n",
       " 14.04769194298602,\n",
       " 13.409749094162619,\n",
       " 12.796864662152977,\n",
       " 12.208332961438472,\n",
       " 11.643447312187256,\n",
       " 11.10150202879734,\n",
       " 10.58179424189426,\n",
       " 10.083625560978115,\n",
       " 9.606303585017296,\n",
       " 9.149143268335832,\n",
       " 8.71146814914328,\n",
       " 8.2926114480159,\n",
       " 7.891917043560483,\n",
       " 7.508740332381969,\n",
       " 7.142448980337543,\n",
       " 6.792423571897176,\n",
       " 6.458058164247113,\n",
       " 6.138760752572235,\n",
       " 5.833953652738814,\n",
       " 5.543073807373363,\n",
       " 5.265573021099135,\n",
       " 5.000918130451629,\n",
       " 4.74859111374993,\n",
       " 4.50808914595456,\n",
       " 4.278924603295534,\n",
       " 4.060625022208808,\n",
       " 3.8527330168759426,\n",
       " 3.654806159422322,\n",
       " 3.4664168265940565,\n",
       " 3.2871520165041828]"
      ]
     },
     "execution_count": 103,
     "metadata": {},
     "output_type": "execute_result"
    }
   ],
   "source": [
    "[ENt(List([100]), t, u, s) for t in range(100)]"
   ]
  },
  {
   "cell_type": "code",
   "execution_count": 99,
   "metadata": {},
   "outputs": [
    {
     "data": {
      "text/plain": [
       "94.98974760163665"
      ]
     },
     "execution_count": 99,
     "metadata": {},
     "output_type": "execute_result"
    }
   ],
   "source": [
    "ENt(List([100]), 10, u, s)"
   ]
  },
  {
   "cell_type": "code",
   "execution_count": 74,
   "metadata": {},
   "outputs": [
    {
     "data": {
      "text/plain": [
       "[[10, 1], [8], [8], [10], [12], [11, 1], [8], [6], [6], [2], []]"
      ]
     },
     "execution_count": 74,
     "metadata": {},
     "output_type": "execute_result"
    }
   ],
   "source": [
    "zz"
   ]
  },
  {
   "cell_type": "code",
   "execution_count": 43,
   "metadata": {},
   "outputs": [],
   "source": [
    "@jit\n",
    "def pop_step(zz, s, u):\n",
    "    '''\n",
    "    Take a time step in the branching process model for a population.  Return\n",
    "    a new population.\n",
    "\n",
    "    Parameters\n",
    "    ----------\n",
    "    zz : list\n",
    "        Histogram of number of individuals with k = 0, 1, 2, ... mutations\n",
    "    s : float\n",
    "        Deleterious effect of a mutation\n",
    "    u : float\n",
    "        Mutation rate\n",
    "\n",
    "    Returns\n",
    "    -------\n",
    "    list\n",
    "        New histogram\n",
    "    '''\n",
    "    offspring = List([])\n",
    "    newzz = List([0])\n",
    "    if sum(zz) == 0:\n",
    "        return zz\n",
    "    else:\n",
    "        k = 0\n",
    "        for z in zz:\n",
    "            offspring.append(class_step(z, k, s, u))\n",
    "            k += 1\n",
    "        for i in range(len(offspring)):\n",
    "            newzz[i] += offspring[i][0]\n",
    "            newzz.append(offspring[i][1])\n",
    "        newzz = trim(newzz)\n",
    "        return newzz"
   ]
  },
  {
   "cell_type": "code",
   "execution_count": 44,
   "metadata": {},
   "outputs": [
    {
     "name": "stderr",
     "output_type": "stream",
     "text": [
      "/var/folders/90/_pclxfxx04x3n35rh86rsd6w0000gn/T/ipykernel_63056/3823884761.py:1: NumbaWarning: \u001b[1m\n",
      "Compilation is falling back to object mode WITH looplifting enabled because Function \"pop_step\" failed type inference due to: \u001b[1mUntyped global name 'sum':\u001b[0m \u001b[1m\u001b[1mCannot determine Numba type of <class 'builtin_function_or_method'>\u001b[0m\n",
      "\u001b[1m\n",
      "File \"../../../../../../var/folders/90/_pclxfxx04x3n35rh86rsd6w0000gn/T/ipykernel_63056/3823884761.py\", line 23:\u001b[0m\n",
      "\u001b[1m<source missing, REPL/exec in use?>\u001b[0m\n",
      "\u001b[0m\u001b[0m\n",
      "  @jit\n",
      "/var/folders/90/_pclxfxx04x3n35rh86rsd6w0000gn/T/ipykernel_63056/3823884761.py:1: NumbaWarning: \u001b[1m\n",
      "Compilation is falling back to object mode WITHOUT looplifting enabled because Function \"pop_step\" failed type inference due to: \u001b[1mUntyped global name 'sum':\u001b[0m \u001b[1m\u001b[1mCannot determine Numba type of <class 'builtin_function_or_method'>\u001b[0m\n",
      "\u001b[1m\n",
      "File \"../../../../../../var/folders/90/_pclxfxx04x3n35rh86rsd6w0000gn/T/ipykernel_63056/3823884761.py\", line 23:\u001b[0m\n",
      "\u001b[1m<source missing, REPL/exec in use?>\u001b[0m\n",
      "\u001b[0m\u001b[0m\n",
      "  @jit\n",
      "/Users/rbazev/anaconda3/envs/py37/lib/python3.7/site-packages/numba/core/object_mode_passes.py:152: NumbaWarning: \u001b[1mFunction \"pop_step\" was compiled in object mode without forceobj=True, but has lifted loops.\n",
      "\u001b[1m\n",
      "File \"../../../../../../var/folders/90/_pclxfxx04x3n35rh86rsd6w0000gn/T/ipykernel_63056/3823884761.py\", line 21:\u001b[0m\n",
      "\u001b[1m<source missing, REPL/exec in use?>\u001b[0m\n",
      "\u001b[0m\n",
      "  state.func_ir.loc))\n",
      "/Users/rbazev/anaconda3/envs/py37/lib/python3.7/site-packages/numba/core/object_mode_passes.py:162: NumbaDeprecationWarning: \u001b[1m\n",
      "Fall-back from the nopython compilation path to the object mode compilation path has been detected, this is deprecated behaviour.\n",
      "\n",
      "For more information visit https://numba.pydata.org/numba-doc/latest/reference/deprecation.html#deprecation-of-object-mode-fall-back-behaviour-when-using-jit\n",
      "\u001b[1m\n",
      "File \"../../../../../../var/folders/90/_pclxfxx04x3n35rh86rsd6w0000gn/T/ipykernel_63056/3823884761.py\", line 21:\u001b[0m\n",
      "\u001b[1m<source missing, REPL/exec in use?>\u001b[0m\n",
      "\u001b[0m\n",
      "  state.func_ir.loc))\n"
     ]
    },
    {
     "ename": "TypeError",
     "evalue": "invalid operation on untyped list",
     "output_type": "error",
     "traceback": [
      "\u001b[0;31m---------------------------------------------------------------------------\u001b[0m",
      "\u001b[0;31mTypeError\u001b[0m                                 Traceback (most recent call last)",
      "\u001b[0;32m/var/folders/90/_pclxfxx04x3n35rh86rsd6w0000gn/T/ipykernel_63056/2660430438.py\u001b[0m in \u001b[0;36m<module>\u001b[0;34m\u001b[0m\n\u001b[1;32m      2\u001b[0m \u001b[0ms\u001b[0m \u001b[0;34m=\u001b[0m \u001b[0;36m0.06\u001b[0m\u001b[0;34m\u001b[0m\u001b[0;34m\u001b[0m\u001b[0m\n\u001b[1;32m      3\u001b[0m \u001b[0mz\u001b[0m \u001b[0;34m=\u001b[0m \u001b[0mList\u001b[0m\u001b[0;34m(\u001b[0m\u001b[0;34m[\u001b[0m\u001b[0;36m100\u001b[0m\u001b[0;34m]\u001b[0m\u001b[0;34m)\u001b[0m\u001b[0;34m\u001b[0m\u001b[0;34m\u001b[0m\u001b[0m\n\u001b[0;32m----> 4\u001b[0;31m \u001b[0mpop_step\u001b[0m\u001b[0;34m(\u001b[0m\u001b[0mz\u001b[0m\u001b[0;34m,\u001b[0m \u001b[0ms\u001b[0m\u001b[0;34m,\u001b[0m \u001b[0mu\u001b[0m\u001b[0;34m)\u001b[0m\u001b[0;34m\u001b[0m\u001b[0;34m\u001b[0m\u001b[0m\n\u001b[0m",
      "\u001b[0;32m~/anaconda3/envs/py37/lib/python3.7/site-packages/numba/core/dispatcher.py\u001b[0m in \u001b[0;36m_compile_for_args\u001b[0;34m(self, *args, **kws)\u001b[0m\n\u001b[1;32m    366\u001b[0m                 \u001b[0margtypes\u001b[0m\u001b[0;34m.\u001b[0m\u001b[0mappend\u001b[0m\u001b[0;34m(\u001b[0m\u001b[0mtypes\u001b[0m\u001b[0;34m.\u001b[0m\u001b[0mOmitted\u001b[0m\u001b[0;34m(\u001b[0m\u001b[0ma\u001b[0m\u001b[0;34m.\u001b[0m\u001b[0mvalue\u001b[0m\u001b[0;34m)\u001b[0m\u001b[0;34m)\u001b[0m\u001b[0;34m\u001b[0m\u001b[0;34m\u001b[0m\u001b[0m\n\u001b[1;32m    367\u001b[0m             \u001b[0;32melse\u001b[0m\u001b[0;34m:\u001b[0m\u001b[0;34m\u001b[0m\u001b[0;34m\u001b[0m\u001b[0m\n\u001b[0;32m--> 368\u001b[0;31m                 \u001b[0margtypes\u001b[0m\u001b[0;34m.\u001b[0m\u001b[0mappend\u001b[0m\u001b[0;34m(\u001b[0m\u001b[0mself\u001b[0m\u001b[0;34m.\u001b[0m\u001b[0mtypeof_pyval\u001b[0m\u001b[0;34m(\u001b[0m\u001b[0ma\u001b[0m\u001b[0;34m)\u001b[0m\u001b[0;34m)\u001b[0m\u001b[0;34m\u001b[0m\u001b[0;34m\u001b[0m\u001b[0m\n\u001b[0m\u001b[1;32m    369\u001b[0m \u001b[0;34m\u001b[0m\u001b[0m\n\u001b[1;32m    370\u001b[0m         \u001b[0mreturn_val\u001b[0m \u001b[0;34m=\u001b[0m \u001b[0;32mNone\u001b[0m\u001b[0;34m\u001b[0m\u001b[0;34m\u001b[0m\u001b[0m\n",
      "\u001b[0;32m~/anaconda3/envs/py37/lib/python3.7/site-packages/numba/core/dispatcher.py\u001b[0m in \u001b[0;36mtypeof_pyval\u001b[0;34m(self, val)\u001b[0m\n\u001b[1;32m    684\u001b[0m         \u001b[0;31m# can save a couple µs.\u001b[0m\u001b[0;34m\u001b[0m\u001b[0;34m\u001b[0m\u001b[0;34m\u001b[0m\u001b[0m\n\u001b[1;32m    685\u001b[0m         \u001b[0;32mtry\u001b[0m\u001b[0;34m:\u001b[0m\u001b[0;34m\u001b[0m\u001b[0;34m\u001b[0m\u001b[0m\n\u001b[0;32m--> 686\u001b[0;31m             \u001b[0mtp\u001b[0m \u001b[0;34m=\u001b[0m \u001b[0mtypeof\u001b[0m\u001b[0;34m(\u001b[0m\u001b[0mval\u001b[0m\u001b[0;34m,\u001b[0m \u001b[0mPurpose\u001b[0m\u001b[0;34m.\u001b[0m\u001b[0margument\u001b[0m\u001b[0;34m)\u001b[0m\u001b[0;34m\u001b[0m\u001b[0;34m\u001b[0m\u001b[0m\n\u001b[0m\u001b[1;32m    687\u001b[0m         \u001b[0;32mexcept\u001b[0m \u001b[0mValueError\u001b[0m\u001b[0;34m:\u001b[0m\u001b[0;34m\u001b[0m\u001b[0;34m\u001b[0m\u001b[0m\n\u001b[1;32m    688\u001b[0m             \u001b[0mtp\u001b[0m \u001b[0;34m=\u001b[0m \u001b[0mtypes\u001b[0m\u001b[0;34m.\u001b[0m\u001b[0mpyobject\u001b[0m\u001b[0;34m\u001b[0m\u001b[0;34m\u001b[0m\u001b[0m\n",
      "\u001b[0;32m~/anaconda3/envs/py37/lib/python3.7/site-packages/numba/core/typing/typeof.py\u001b[0m in \u001b[0;36mtypeof\u001b[0;34m(val, purpose)\u001b[0m\n\u001b[1;32m     29\u001b[0m     \u001b[0;31m# Note the behaviour for Purpose.argument must match _typeof.c.\u001b[0m\u001b[0;34m\u001b[0m\u001b[0;34m\u001b[0m\u001b[0;34m\u001b[0m\u001b[0m\n\u001b[1;32m     30\u001b[0m     \u001b[0mc\u001b[0m \u001b[0;34m=\u001b[0m \u001b[0m_TypeofContext\u001b[0m\u001b[0;34m(\u001b[0m\u001b[0mpurpose\u001b[0m\u001b[0;34m)\u001b[0m\u001b[0;34m\u001b[0m\u001b[0;34m\u001b[0m\u001b[0m\n\u001b[0;32m---> 31\u001b[0;31m     \u001b[0mty\u001b[0m \u001b[0;34m=\u001b[0m \u001b[0mtypeof_impl\u001b[0m\u001b[0;34m(\u001b[0m\u001b[0mval\u001b[0m\u001b[0;34m,\u001b[0m \u001b[0mc\u001b[0m\u001b[0;34m)\u001b[0m\u001b[0;34m\u001b[0m\u001b[0;34m\u001b[0m\u001b[0m\n\u001b[0m\u001b[1;32m     32\u001b[0m     \u001b[0;32mif\u001b[0m \u001b[0mty\u001b[0m \u001b[0;32mis\u001b[0m \u001b[0;32mNone\u001b[0m\u001b[0;34m:\u001b[0m\u001b[0;34m\u001b[0m\u001b[0;34m\u001b[0m\u001b[0m\n\u001b[1;32m     33\u001b[0m         msg = _termcolor.errmsg(\n",
      "\u001b[0;32m~/anaconda3/envs/py37/lib/python3.7/functools.py\u001b[0m in \u001b[0;36mwrapper\u001b[0;34m(*args, **kw)\u001b[0m\n\u001b[1;32m    838\u001b[0m                             '1 positional argument')\n\u001b[1;32m    839\u001b[0m \u001b[0;34m\u001b[0m\u001b[0m\n\u001b[0;32m--> 840\u001b[0;31m         \u001b[0;32mreturn\u001b[0m \u001b[0mdispatch\u001b[0m\u001b[0;34m(\u001b[0m\u001b[0margs\u001b[0m\u001b[0;34m[\u001b[0m\u001b[0;36m0\u001b[0m\u001b[0;34m]\u001b[0m\u001b[0;34m.\u001b[0m\u001b[0m__class__\u001b[0m\u001b[0;34m)\u001b[0m\u001b[0;34m(\u001b[0m\u001b[0;34m*\u001b[0m\u001b[0margs\u001b[0m\u001b[0;34m,\u001b[0m \u001b[0;34m**\u001b[0m\u001b[0mkw\u001b[0m\u001b[0;34m)\u001b[0m\u001b[0;34m\u001b[0m\u001b[0;34m\u001b[0m\u001b[0m\n\u001b[0m\u001b[1;32m    841\u001b[0m \u001b[0;34m\u001b[0m\u001b[0m\n\u001b[1;32m    842\u001b[0m     \u001b[0mfuncname\u001b[0m \u001b[0;34m=\u001b[0m \u001b[0mgetattr\u001b[0m\u001b[0;34m(\u001b[0m\u001b[0mfunc\u001b[0m\u001b[0;34m,\u001b[0m \u001b[0;34m'__name__'\u001b[0m\u001b[0;34m,\u001b[0m \u001b[0;34m'singledispatch function'\u001b[0m\u001b[0;34m)\u001b[0m\u001b[0;34m\u001b[0m\u001b[0;34m\u001b[0m\u001b[0m\n",
      "\u001b[0;32m~/anaconda3/envs/py37/lib/python3.7/site-packages/numba/core/typing/typeof.py\u001b[0m in \u001b[0;36mtypeof_impl\u001b[0;34m(val, c)\u001b[0m\n\u001b[1;32m     55\u001b[0m             \u001b[0;32mreturn\u001b[0m \u001b[0mtypes\u001b[0m\u001b[0;34m.\u001b[0m\u001b[0mffi\u001b[0m\u001b[0;34m\u001b[0m\u001b[0;34m\u001b[0m\u001b[0m\n\u001b[1;32m     56\u001b[0m \u001b[0;34m\u001b[0m\u001b[0m\n\u001b[0;32m---> 57\u001b[0;31m     \u001b[0;32mreturn\u001b[0m \u001b[0mgetattr\u001b[0m\u001b[0;34m(\u001b[0m\u001b[0mval\u001b[0m\u001b[0;34m,\u001b[0m \u001b[0;34m\"_numba_type_\"\u001b[0m\u001b[0;34m,\u001b[0m \u001b[0;32mNone\u001b[0m\u001b[0;34m)\u001b[0m\u001b[0;34m\u001b[0m\u001b[0;34m\u001b[0m\u001b[0m\n\u001b[0m\u001b[1;32m     58\u001b[0m \u001b[0;34m\u001b[0m\u001b[0m\n\u001b[1;32m     59\u001b[0m \u001b[0;34m\u001b[0m\u001b[0m\n",
      "\u001b[0;32m~/anaconda3/envs/py37/lib/python3.7/site-packages/numba/typed/typedlist.py\u001b[0m in \u001b[0;36m_numba_type_\u001b[0;34m(self)\u001b[0m\n\u001b[1;32m    281\u001b[0m     \u001b[0;32mdef\u001b[0m \u001b[0m_numba_type_\u001b[0m\u001b[0;34m(\u001b[0m\u001b[0mself\u001b[0m\u001b[0;34m)\u001b[0m\u001b[0;34m:\u001b[0m\u001b[0;34m\u001b[0m\u001b[0;34m\u001b[0m\u001b[0m\n\u001b[1;32m    282\u001b[0m         \u001b[0;32mif\u001b[0m \u001b[0mself\u001b[0m\u001b[0;34m.\u001b[0m\u001b[0m_list_type\u001b[0m \u001b[0;32mis\u001b[0m \u001b[0;32mNone\u001b[0m\u001b[0;34m:\u001b[0m\u001b[0;34m\u001b[0m\u001b[0;34m\u001b[0m\u001b[0m\n\u001b[0;32m--> 283\u001b[0;31m             \u001b[0;32mraise\u001b[0m \u001b[0mTypeError\u001b[0m\u001b[0;34m(\u001b[0m\u001b[0;34m\"invalid operation on untyped list\"\u001b[0m\u001b[0;34m)\u001b[0m\u001b[0;34m\u001b[0m\u001b[0;34m\u001b[0m\u001b[0m\n\u001b[0m\u001b[1;32m    284\u001b[0m         \u001b[0;32mreturn\u001b[0m \u001b[0mself\u001b[0m\u001b[0;34m.\u001b[0m\u001b[0m_list_type\u001b[0m\u001b[0;34m\u001b[0m\u001b[0;34m\u001b[0m\u001b[0m\n\u001b[1;32m    285\u001b[0m \u001b[0;34m\u001b[0m\u001b[0m\n",
      "\u001b[0;31mTypeError\u001b[0m: invalid operation on untyped list"
     ]
    }
   ],
   "source": [
    "u = 0.02\n",
    "s = 0.06\n",
    "z = List([100])\n",
    "pop_step(z, s, u)"
   ]
  },
  {
   "cell_type": "code",
   "execution_count": null,
   "metadata": {},
   "outputs": [],
   "source": [
    "pop_sizes, mutations, ext_times = simult([n0], 10000, s, u, K=np.infty)"
   ]
  },
  {
   "cell_type": "code",
   "execution_count": 31,
   "metadata": {},
   "outputs": [
    {
     "data": {
      "text/plain": [
       "2.3609207199999998"
      ]
     },
     "execution_count": 31,
     "metadata": {},
     "output_type": "execute_result"
    }
   ],
   "source": [
    "phi_k([0,1,2,3], 2, .06, .02)"
   ]
  },
  {
   "cell_type": "code",
   "execution_count": 34,
   "metadata": {},
   "outputs": [
    {
     "data": {
      "text/plain": [
       "4.322336"
      ]
     },
     "execution_count": 34,
     "metadata": {},
     "output_type": "execute_result"
    }
   ],
   "source": [
    "phi_k([0,1,2,3], 3, .06, .02)"
   ]
  },
  {
   "cell_type": "code",
   "execution_count": 35,
   "metadata": {},
   "outputs": [
    {
     "data": {
      "text/plain": [
       "[0.5, 0.53, 0.5582, 0.584708, 0.60962552, 0.6330479888]"
      ]
     },
     "execution_count": 35,
     "metadata": {},
     "output_type": "execute_result"
    }
   ],
   "source": [
    "phi([0,0,0,0,0,0], .06, .02)"
   ]
  },
  {
   "cell_type": "code",
   "execution_count": 36,
   "metadata": {},
   "outputs": [
    {
     "data": {
      "text/plain": [
       "[0.62530018,\n",
       " 0.6623041343051201,\n",
       " 0.6961208552502438,\n",
       " 0.7269315863176066,\n",
       " 0.7549286210155779,\n",
       " 0.7801039177975104]"
      ]
     },
     "execution_count": 36,
     "metadata": {},
     "output_type": "execute_result"
    }
   ],
   "source": [
    "phi([0.5, 0.53, 0.5582, 0.584708, 0.60962552, 0.6330479888], .06, .02)"
   ]
  },
  {
   "cell_type": "code",
   "execution_count": 38,
   "metadata": {},
   "outputs": [
    {
     "data": {
      "text/plain": [
       "0.4615055653545099"
      ]
     },
     "execution_count": 38,
     "metadata": {},
     "output_type": "execute_result"
    }
   ],
   "source": [
    "px([1000], 200, 10, .06, .02)"
   ]
  },
  {
   "cell_type": "code",
   "execution_count": 39,
   "metadata": {},
   "outputs": [
    {
     "data": {
      "text/plain": [
       "215.6014812186036"
      ]
     },
     "execution_count": 39,
     "metadata": {},
     "output_type": "execute_result"
    }
   ],
   "source": [
    "ET([1000], 50, .06, .02, 1e-8)"
   ]
  },
  {
   "cell_type": "code",
   "execution_count": 41,
   "metadata": {},
   "outputs": [
    {
     "data": {
      "text/plain": [
       "215.60163042162793"
      ]
     },
     "execution_count": 41,
     "metadata": {},
     "output_type": "execute_result"
    }
   ],
   "source": [
    "ET([1000, 20], 50, .06, .02, 1e-8)"
   ]
  },
  {
   "cell_type": "code",
   "execution_count": 299,
   "metadata": {},
   "outputs": [
    {
     "data": {
      "text/plain": [
       "array([3046,  992, 2015, 3947])"
      ]
     },
     "execution_count": 299,
     "metadata": {},
     "output_type": "execute_result"
    }
   ],
   "source": [
    "x = rnd.multinomial(1, [.3, .1, .2, .4], size=10000)\n",
    "x.sum(axis=0)"
   ]
  },
  {
   "cell_type": "code",
   "execution_count": 302,
   "metadata": {},
   "outputs": [
    {
     "data": {
      "text/plain": [
       "array([[3043,  956, 2011, 3990]])"
      ]
     },
     "execution_count": 302,
     "metadata": {},
     "output_type": "execute_result"
    }
   ],
   "source": [
    "x = rnd.multinomial(10000, [.3, .1, .2, .4], size=1)\n",
    "x"
   ]
  },
  {
   "cell_type": "code",
   "execution_count": 142,
   "metadata": {},
   "outputs": [
    {
     "data": {
      "text/plain": [
       "(array([[1, 0, 0, 0]]), 0)"
      ]
     },
     "execution_count": 142,
     "metadata": {},
     "output_type": "execute_result"
    }
   ],
   "source": [
    "x = rnd.multinomial(1, [.2, .2, .2, .4], size=1)\n",
    "x, x.argmax()"
   ]
  },
  {
   "cell_type": "code",
   "execution_count": 144,
   "metadata": {},
   "outputs": [
    {
     "data": {
      "text/plain": [
       "(array([[0, 0, 0, 1],\n",
       "        [0, 1, 0, 0],\n",
       "        [0, 1, 0, 0],\n",
       "        [0, 0, 0, 1],\n",
       "        [1, 0, 0, 0]]),\n",
       " 3)"
      ]
     },
     "execution_count": 144,
     "metadata": {},
     "output_type": "execute_result"
    }
   ],
   "source": [
    "x = rnd.multinomial(1, [.2, .2, .2, .4], size=)\n"
   ]
  },
  {
   "cell_type": "code",
   "execution_count": 303,
   "metadata": {},
   "outputs": [],
   "source": [
    "def type_offspring(n, k, s, u):\n",
    "    if n > 0:\n",
    "        v = 1 - u\n",
    "        # probabilities of different outcomes\n",
    "        p = w(k, s) * np.array([(v ** 2) / 2, u * v, (u ** 2) / 2])\n",
    "        p = np.append(p, 1 - p.sum())\n",
    "        outcomes = rnd.multinomial(n, p)\n",
    "        # offspring\n",
    "        unmutated = 2 * outcomes[0] + outcomes[1]\n",
    "        mutant = outcomes[1] + 2 * outcomes[2]\n",
    "        return unmutated, mutant\n",
    "    else:\n",
    "        return 0, 0\n",
    "\n",
    "def next_gen(Z, s, u):\n",
    "    ntypes = len(Z)\n",
    "    next_Z = [0] * (ntypes + 1)\n",
    "    for k in range(ntypes):\n",
    "        if Z[k] > 0:\n",
    "            offspring = type_offspring(Z[k], k, s, u)\n",
    "            next_Z[k] += offspring[0]\n",
    "            next_Z[k+1] += offspring[1]\n",
    "    return trim(next_Z)\n",
    "\n",
    "def to_extinction(Z, s, u):\n",
    "    t = 0\n",
    "    N = sum(Z)\n",
    "    Z_history = [Z]\n",
    "    N_history = [N]\n",
    "    while N > 0:\n",
    "        t += 1\n",
    "        Z = next_gen(Z, s, u)\n",
    "        N = sum(Z)\n",
    "        Z_history.append(Z)\n",
    "        N_history.append(N)\n",
    "    return N_history, Z_history, t"
   ]
  },
  {
   "cell_type": "code",
   "execution_count": 295,
   "metadata": {},
   "outputs": [
    {
     "data": {
      "text/plain": [
       "(934, 32)"
      ]
     },
     "execution_count": 295,
     "metadata": {},
     "output_type": "execute_result"
    }
   ],
   "source": [
    "type_offspring(1000, 0, .02, .04)"
   ]
  },
  {
   "cell_type": "code",
   "execution_count": 273,
   "metadata": {},
   "outputs": [
    {
     "data": {
      "text/plain": [
       "[109, 111, 6]"
      ]
     },
     "execution_count": 273,
     "metadata": {},
     "output_type": "execute_result"
    }
   ],
   "source": [
    "next_gen([100, 100], .02, .04)"
   ]
  },
  {
   "cell_type": "code",
   "execution_count": 275,
   "metadata": {},
   "outputs": [
    {
     "data": {
      "text/plain": [
       "13"
      ]
     },
     "execution_count": 275,
     "metadata": {},
     "output_type": "execute_result"
    }
   ],
   "source": [
    "N, Z, t = to_extinction([1, 0], .02, .04)\n",
    "t"
   ]
  },
  {
   "cell_type": "code",
   "execution_count": 276,
   "metadata": {},
   "outputs": [
    {
     "data": {
      "text/plain": [
       "[[1, 0],\n",
       " [2, 0],\n",
       " [4, 0],\n",
       " [6, 0],\n",
       " [5, 1],\n",
       " [5, 1],\n",
       " [6, 0],\n",
       " [5, 1],\n",
       " [2, 0],\n",
       " [4, 0],\n",
       " [4, 0],\n",
       " [4, 0],\n",
       " [2, 0],\n",
       " [0, 0]]"
      ]
     },
     "execution_count": 276,
     "metadata": {},
     "output_type": "execute_result"
    }
   ],
   "source": [
    "Z"
   ]
  },
  {
   "cell_type": "code",
   "execution_count": 267,
   "metadata": {},
   "outputs": [
    {
     "data": {
      "text/plain": [
       "[10, 8, 8, 4, 6, 2, 2, 2, 4, 4, 6, 8, 2, 0]"
      ]
     },
     "execution_count": 267,
     "metadata": {},
     "output_type": "execute_result"
    }
   ],
   "source": [
    "N"
   ]
  },
  {
   "cell_type": "code",
   "execution_count": 269,
   "metadata": {},
   "outputs": [
    {
     "data": {
      "text/plain": [
       "0"
      ]
     },
     "execution_count": 269,
     "metadata": {},
     "output_type": "execute_result"
    }
   ],
   "source": [
    "N[13]"
   ]
  },
  {
   "cell_type": "code",
   "execution_count": 317,
   "metadata": {},
   "outputs": [
    {
     "name": "stdout",
     "output_type": "stream",
     "text": [
      "CPU times: user 1.09 s, sys: 6.54 ms, total: 1.1 s\n",
      "Wall time: 1.1 s\n"
     ]
    },
    {
     "data": {
      "text/plain": [
       "3529"
      ]
     },
     "execution_count": 317,
     "metadata": {},
     "output_type": "execute_result"
    }
   ],
   "source": [
    "%%time\n",
    "n, k, t, clicks, zz = sim([100000, 100000, 100000], .03, .002)\n",
    "t"
   ]
  },
  {
   "cell_type": "code",
   "execution_count": 314,
   "metadata": {},
   "outputs": [
    {
     "name": "stdout",
     "output_type": "stream",
     "text": [
      "CPU times: user 332 ms, sys: 8.25 ms, total: 340 ms\n",
      "Wall time: 338 ms\n"
     ]
    },
    {
     "data": {
      "text/plain": [
       "3486"
      ]
     },
     "execution_count": 314,
     "metadata": {},
     "output_type": "execute_result"
    }
   ],
   "source": [
    "%%time\n",
    "N, Z, t = to_extinction([100000, 100000, 100000], .03, .002)\n",
    "t"
   ]
  },
  {
   "cell_type": "code",
   "execution_count": 319,
   "metadata": {},
   "outputs": [
    {
     "data": {
      "text/plain": [
       "[<matplotlib.lines.Line2D at 0x7f9808d778d0>]"
      ]
     },
     "execution_count": 319,
     "metadata": {},
     "output_type": "execute_result"
    },
    {
     "data": {
      "image/png": "[encoded data removed]",
      "text/plain": [
       "<Figure size 432x288 with 1 Axes>"
      ]
     },
     "metadata": {},
     "output_type": "display_data"
    }
   ],
   "source": [
    "nreps = 50\n",
    "s = 0.06\n",
    "u = 0.02\n",
    "tt = []\n",
    "for i in range(nreps):\n",
    "    N, Z, t = to_extinction([100], s, u)\n",
    "    tt.append(t)\n",
    "    plt.plot(N, 'k-', alpha=.1)\n",
    "expected = [ENt(List(z), t, s, u) for t in range(max(tt)+1)]\n",
    "plt.plot(expected)"
   ]
  },
  {
   "cell_type": "code",
   "execution_count": null,
   "metadata": {},
   "outputs": [],
   "source": []
  }
 ],
 "metadata": {
  "kernelspec": {
   "display_name": "Python 3 (ipykernel)",
   "language": "python",
   "name": "python3"
  },
  "language_info": {
   "codemirror_mode": {
    "name": "ipython",
    "version": 3
   },
   "file_extension": ".py",
   "mimetype": "text/x-python",
   "name": "python",
   "nbconvert_exporter": "python",
   "pygments_lexer": "ipython3",
   "version": "3.7.12"
  }
 },
 "nbformat": 4,
 "nbformat_minor": 4
}
