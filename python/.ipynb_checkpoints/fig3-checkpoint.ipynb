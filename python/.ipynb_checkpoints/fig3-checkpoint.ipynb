{
 "cells": [
  {
   "cell_type": "markdown",
   "metadata": {},
   "source": [
    "# Figure 3"
   ]
  },
  {
   "cell_type": "code",
   "execution_count": 1,
   "metadata": {},
   "outputs": [],
   "source": [
    "run doomed.py"
   ]
  },
  {
   "cell_type": "code",
   "execution_count": 2,
   "metadata": {},
   "outputs": [],
   "source": [
    "import pandas as pd"
   ]
  },
  {
   "cell_type": "markdown",
   "metadata": {},
   "source": [
    "## **(A)** Effect of mutation rate on extinction time\n",
    "\n",
    "Set $n_0=100$ and $s=0.01$, and vary $u$ between $10^{-3}$ and $10^{-1}$.\n",
    "\n",
    "### Stochastic simulations\n",
    "\n",
    "$10^4$ replicate populations per mutation rate."
   ]
  },
  {
   "cell_type": "code",
   "execution_count": 8,
   "metadata": {},
   "outputs": [
    {
     "data": {
      "text/plain": [
       "array([-3. , -2.9, -2.8, -2.7, -2.6, -2.5, -2.4, -2.3, -2.2, -2.1, -2. ,\n",
       "       -1.9, -1.8, -1.7, -1.6, -1.5, -1.4, -1.3, -1.2, -1.1, -1. ])"
      ]
     },
     "execution_count": 8,
     "metadata": {},
     "output_type": "execute_result"
    }
   ],
   "source": [
    "logu = np.linspace(-3., -1., 21)\n",
    "logu"
   ]
  },
  {
   "cell_type": "code",
   "execution_count": null,
   "metadata": {},
   "outputs": [],
   "source": [
    "print 'logu T Tstd'\n",
    "for x in logu:\n",
    "    T = simult([100], 10**x, .01, 10000)\n",
    "    print x, T.mean(), T.std(ddof=1)"
   ]
  },
  {
   "cell_type": "code",
   "execution_count": null,
   "metadata": {},
   "outputs": [],
   "source": [
    "# save simulated data\n",
    "fig3simA = pd.read_clipboard(sep=' ')\n",
    "fig3simA.to_csv('data/fig3simA.csv')"
   ]
  },
  {
   "cell_type": "code",
   "execution_count": 9,
   "metadata": {},
   "outputs": [
    {
     "data": {
      "text/html": [
       "<div>\n",
       "<style scoped>\n",
       "    .dataframe tbody tr th:only-of-type {\n",
       "        vertical-align: middle;\n",
       "    }\n",
       "\n",
       "    .dataframe tbody tr th {\n",
       "        vertical-align: top;\n",
       "    }\n",
       "\n",
       "    .dataframe thead th {\n",
       "        text-align: right;\n",
       "    }\n",
       "</style>\n",
       "<table border=\"1\" class=\"dataframe\">\n",
       "  <thead>\n",
       "    <tr style=\"text-align: right;\">\n",
       "      <th></th>\n",
       "      <th>logu</th>\n",
       "      <th>T</th>\n",
       "      <th>Tstd</th>\n",
       "    </tr>\n",
       "  </thead>\n",
       "  <tbody>\n",
       "    <tr>\n",
       "      <th>0</th>\n",
       "      <td>-3.0</td>\n",
       "      <td>461.6060</td>\n",
       "      <td>586.858652</td>\n",
       "    </tr>\n",
       "    <tr>\n",
       "      <th>1</th>\n",
       "      <td>-2.9</td>\n",
       "      <td>431.8749</td>\n",
       "      <td>509.784869</td>\n",
       "    </tr>\n",
       "    <tr>\n",
       "      <th>2</th>\n",
       "      <td>-2.8</td>\n",
       "      <td>391.3858</td>\n",
       "      <td>433.177724</td>\n",
       "    </tr>\n",
       "    <tr>\n",
       "      <th>3</th>\n",
       "      <td>-2.7</td>\n",
       "      <td>365.6857</td>\n",
       "      <td>369.414256</td>\n",
       "    </tr>\n",
       "    <tr>\n",
       "      <th>4</th>\n",
       "      <td>-2.6</td>\n",
       "      <td>343.9881</td>\n",
       "      <td>326.921844</td>\n",
       "    </tr>\n",
       "  </tbody>\n",
       "</table>\n",
       "</div>"
      ],
      "text/plain": [
       "   logu         T        Tstd\n",
       "0  -3.0  461.6060  586.858652\n",
       "1  -2.9  431.8749  509.784869\n",
       "2  -2.8  391.3858  433.177724\n",
       "3  -2.7  365.6857  369.414256\n",
       "4  -2.6  343.9881  326.921844"
      ]
     },
     "execution_count": 9,
     "metadata": {},
     "output_type": "execute_result"
    }
   ],
   "source": [
    "# read simulated data\n",
    "fig3simA = pd.read_csv('data/fig3simA.csv', index_col=0)\n",
    "fig3simA.head()"
   ]
  },
  {
   "cell_type": "markdown",
   "metadata": {},
   "source": [
    "### Theory"
   ]
  },
  {
   "cell_type": "code",
   "execution_count": null,
   "metadata": {},
   "outputs": [],
   "source": [
    "logu = np.linspace(-3., -1., 41)\n",
    "logu"
   ]
  },
  {
   "cell_type": "code",
   "execution_count": null,
   "metadata": {},
   "outputs": [],
   "source": [
    "print 'logu T Tstd'\n",
    "for x in logu:\n",
    "    t, v = T(100, .01, 10**x, 1e-6, False, True)\n",
    "    print x, t, np.sqrt(v)"
   ]
  },
  {
   "cell_type": "code",
   "execution_count": null,
   "metadata": {},
   "outputs": [],
   "source": [
    "# save theoretical values\n",
    "fig3theoryA = pd.read_clipboard(sep=' ')\n",
    "fig3theoryA.to_csv('data/fig3theoryA.csv')"
   ]
  },
  {
   "cell_type": "code",
   "execution_count": 10,
   "metadata": {},
   "outputs": [
    {
     "data": {
      "text/html": [
       "<div>\n",
       "<style scoped>\n",
       "    .dataframe tbody tr th:only-of-type {\n",
       "        vertical-align: middle;\n",
       "    }\n",
       "\n",
       "    .dataframe tbody tr th {\n",
       "        vertical-align: top;\n",
       "    }\n",
       "\n",
       "    .dataframe thead th {\n",
       "        text-align: right;\n",
       "    }\n",
       "</style>\n",
       "<table border=\"1\" class=\"dataframe\">\n",
       "  <thead>\n",
       "    <tr style=\"text-align: right;\">\n",
       "      <th></th>\n",
       "      <th>logu</th>\n",
       "      <th>T</th>\n",
       "      <th>Tstd</th>\n",
       "    </tr>\n",
       "  </thead>\n",
       "  <tbody>\n",
       "    <tr>\n",
       "      <th>0</th>\n",
       "      <td>-3.00</td>\n",
       "      <td>485.805125</td>\n",
       "      <td>600.186328</td>\n",
       "    </tr>\n",
       "    <tr>\n",
       "      <th>1</th>\n",
       "      <td>-2.95</td>\n",
       "      <td>469.204189</td>\n",
       "      <td>556.150420</td>\n",
       "    </tr>\n",
       "    <tr>\n",
       "      <th>2</th>\n",
       "      <td>-2.90</td>\n",
       "      <td>452.961384</td>\n",
       "      <td>514.918936</td>\n",
       "    </tr>\n",
       "    <tr>\n",
       "      <th>3</th>\n",
       "      <td>-2.85</td>\n",
       "      <td>437.084643</td>\n",
       "      <td>476.350441</td>\n",
       "    </tr>\n",
       "    <tr>\n",
       "      <th>4</th>\n",
       "      <td>-2.80</td>\n",
       "      <td>421.580696</td>\n",
       "      <td>440.310079</td>\n",
       "    </tr>\n",
       "  </tbody>\n",
       "</table>\n",
       "</div>"
      ],
      "text/plain": [
       "   logu           T        Tstd\n",
       "0 -3.00  485.805125  600.186328\n",
       "1 -2.95  469.204189  556.150420\n",
       "2 -2.90  452.961384  514.918936\n",
       "3 -2.85  437.084643  476.350441\n",
       "4 -2.80  421.580696  440.310079"
      ]
     },
     "execution_count": 10,
     "metadata": {},
     "output_type": "execute_result"
    }
   ],
   "source": [
    "# read theoretical values\n",
    "fig3theoryA = pd.read_csv('data/fig3theoryA.csv', index_col=0)\n",
    "fig3theoryA.head()"
   ]
  },
  {
   "cell_type": "markdown",
   "metadata": {},
   "source": [
    "## **(B)** Effect of selection coefficient on extinction time\n",
    "\n",
    "Set $n_0=100$ and $u=0.01$, and vary $s$ between $10^{-3}$ and $10^{-1}$.\n",
    "\n",
    "### Stochastic simulations\n",
    "\n",
    "$10^4$ replicate populations per mutation rate."
   ]
  },
  {
   "cell_type": "code",
   "execution_count": null,
   "metadata": {},
   "outputs": [],
   "source": [
    "logs = np.linspace(-3., -1., 21)\n",
    "logs"
   ]
  },
  {
   "cell_type": "code",
   "execution_count": null,
   "metadata": {},
   "outputs": [],
   "source": [
    "print 'logs T Tstd'\n",
    "for x in logs:\n",
    "    T = simult([100], .01, 10**x, 10000)\n",
    "    print x, T.mean(), T.std(ddof=1)"
   ]
  },
  {
   "cell_type": "code",
   "execution_count": null,
   "metadata": {},
   "outputs": [],
   "source": [
    "# save simulated data\n",
    "fig3simB = pd.read_clipboard(sep=' ')\n",
    "fig3simB.to_csv('data/fig3simB.csv')"
   ]
  },
  {
   "cell_type": "code",
   "execution_count": 11,
   "metadata": {},
   "outputs": [
    {
     "data": {
      "text/html": [
       "<div>\n",
       "<style scoped>\n",
       "    .dataframe tbody tr th:only-of-type {\n",
       "        vertical-align: middle;\n",
       "    }\n",
       "\n",
       "    .dataframe tbody tr th {\n",
       "        vertical-align: top;\n",
       "    }\n",
       "\n",
       "    .dataframe thead th {\n",
       "        text-align: right;\n",
       "    }\n",
       "</style>\n",
       "<table border=\"1\" class=\"dataframe\">\n",
       "  <thead>\n",
       "    <tr style=\"text-align: right;\">\n",
       "      <th></th>\n",
       "      <th>logs</th>\n",
       "      <th>T</th>\n",
       "      <th>Tstd</th>\n",
       "    </tr>\n",
       "  </thead>\n",
       "  <tbody>\n",
       "    <tr>\n",
       "      <th>0</th>\n",
       "      <td>-3.0</td>\n",
       "      <td>336.9688</td>\n",
       "      <td>263.524973</td>\n",
       "    </tr>\n",
       "    <tr>\n",
       "      <th>1</th>\n",
       "      <td>-2.9</td>\n",
       "      <td>314.6503</td>\n",
       "      <td>233.812093</td>\n",
       "    </tr>\n",
       "    <tr>\n",
       "      <th>2</th>\n",
       "      <td>-2.8</td>\n",
       "      <td>301.1073</td>\n",
       "      <td>217.914427</td>\n",
       "    </tr>\n",
       "    <tr>\n",
       "      <th>3</th>\n",
       "      <td>-2.7</td>\n",
       "      <td>286.0834</td>\n",
       "      <td>200.502865</td>\n",
       "    </tr>\n",
       "    <tr>\n",
       "      <th>4</th>\n",
       "      <td>-2.6</td>\n",
       "      <td>274.1333</td>\n",
       "      <td>185.602652</td>\n",
       "    </tr>\n",
       "  </tbody>\n",
       "</table>\n",
       "</div>"
      ],
      "text/plain": [
       "   logs         T        Tstd\n",
       "0  -3.0  336.9688  263.524973\n",
       "1  -2.9  314.6503  233.812093\n",
       "2  -2.8  301.1073  217.914427\n",
       "3  -2.7  286.0834  200.502865\n",
       "4  -2.6  274.1333  185.602652"
      ]
     },
     "execution_count": 11,
     "metadata": {},
     "output_type": "execute_result"
    }
   ],
   "source": [
    "# read simulated data\n",
    "fig3simB = pd.read_csv('data/fig3simB.csv', index_col=0)\n",
    "fig3simB.head()"
   ]
  },
  {
   "cell_type": "markdown",
   "metadata": {},
   "source": [
    "### Theory"
   ]
  },
  {
   "cell_type": "code",
   "execution_count": null,
   "metadata": {},
   "outputs": [],
   "source": [
    "logs = np.linspace(-3., -1., 41)\n",
    "logs"
   ]
  },
  {
   "cell_type": "code",
   "execution_count": null,
   "metadata": {},
   "outputs": [],
   "source": [
    "print 'logs T Tstd'\n",
    "for x in logs:\n",
    "    t, v = T(100, 10**x, .01, 1e-6, False, True)\n",
    "    print x, t, np.sqrt(v)"
   ]
  },
  {
   "cell_type": "code",
   "execution_count": null,
   "metadata": {},
   "outputs": [],
   "source": [
    "# save theoretical values\n",
    "fig3theoryB = pd.read_clipboard(sep=' ')\n",
    "fig3theoryB.to_csv('data/fig3theoryB.csv')"
   ]
  },
  {
   "cell_type": "code",
   "execution_count": 12,
   "metadata": {},
   "outputs": [
    {
     "data": {
      "text/html": [
       "<div>\n",
       "<style scoped>\n",
       "    .dataframe tbody tr th:only-of-type {\n",
       "        vertical-align: middle;\n",
       "    }\n",
       "\n",
       "    .dataframe tbody tr th {\n",
       "        vertical-align: top;\n",
       "    }\n",
       "\n",
       "    .dataframe thead th {\n",
       "        text-align: right;\n",
       "    }\n",
       "</style>\n",
       "<table border=\"1\" class=\"dataframe\">\n",
       "  <thead>\n",
       "    <tr style=\"text-align: right;\">\n",
       "      <th></th>\n",
       "      <th>logs</th>\n",
       "      <th>T</th>\n",
       "      <th>Tstd</th>\n",
       "    </tr>\n",
       "  </thead>\n",
       "  <tbody>\n",
       "    <tr>\n",
       "      <th>0</th>\n",
       "      <td>-3.00</td>\n",
       "      <td>441.005422</td>\n",
       "      <td>172.815535</td>\n",
       "    </tr>\n",
       "    <tr>\n",
       "      <th>1</th>\n",
       "      <td>-2.95</td>\n",
       "      <td>426.735536</td>\n",
       "      <td>169.181399</td>\n",
       "    </tr>\n",
       "    <tr>\n",
       "      <th>2</th>\n",
       "      <td>-2.90</td>\n",
       "      <td>412.716751</td>\n",
       "      <td>165.577534</td>\n",
       "    </tr>\n",
       "    <tr>\n",
       "      <th>3</th>\n",
       "      <td>-2.85</td>\n",
       "      <td>398.977348</td>\n",
       "      <td>162.013881</td>\n",
       "    </tr>\n",
       "    <tr>\n",
       "      <th>4</th>\n",
       "      <td>-2.80</td>\n",
       "      <td>385.542609</td>\n",
       "      <td>158.500103</td>\n",
       "    </tr>\n",
       "  </tbody>\n",
       "</table>\n",
       "</div>"
      ],
      "text/plain": [
       "   logs           T        Tstd\n",
       "0 -3.00  441.005422  172.815535\n",
       "1 -2.95  426.735536  169.181399\n",
       "2 -2.90  412.716751  165.577534\n",
       "3 -2.85  398.977348  162.013881\n",
       "4 -2.80  385.542609  158.500103"
      ]
     },
     "execution_count": 12,
     "metadata": {},
     "output_type": "execute_result"
    }
   ],
   "source": [
    "# read theoretical values\n",
    "fig3theoryB = pd.read_csv('data/fig3theoryB.csv', index_col=0)\n",
    "fig3theoryB.head()"
   ]
  },
  {
   "cell_type": "markdown",
   "metadata": {},
   "source": [
    "## **(C)** Effect of selection coefficient on extinction time\n",
    "\n",
    "Severity of Muller's Ratchet in populations of constant size and a deleterious mutation rate of $U=0.01$ per genome per generation.\n",
    "Values are the expected declines in mean fitness per thousand generations, $10^3 \\times s/\\Delta t$ (Gordo and Charlesworth 2000a,b)."
   ]
  },
  {
   "cell_type": "code",
   "execution_count": 18,
   "metadata": {},
   "outputs": [],
   "source": [
    "rat = np.array([0.00119038, 0.00131699, 0.00145778, 0.00161445, 0.00178891, \\\n",
    "0.00198333, 0.00220016, 0.00244214, 0.0027124, 0.00301442, \\\n",
    "0.00335214, 0.00373, 0.00415294, 0.00462651, 0.00515688, 0.00575088, \\\n",
    "0.00641608, 0.00716075, 0.00799394, 0.00892541, 0.0099656, 0.0111256, \\\n",
    "0.0124168, 0.0138512, 0.0154406, 0.0171967, 0.0191308, 0.0212531, \\\n",
    "0.0235726, 0.0260966, 0.0288304, 0.0317768, 0.0349358, 0.0383048, \\\n",
    "0.041878, 0.0456471, 0.0496009, 0.0537261, 0.0580076, 0.0624291, \\\n",
    "0.0669732, 0.0716227, 0.0763602, 0.0811689, 0.0860328, 0.0909368, \\\n",
    "0.0958667, 0.100809, 0.105751, 0.11068, 0.115584, 0.120452, 0.125269, \\\n",
    "0.130023, 0.1347, 0.139285, 0.143761, 0.148112, 0.152319, 0.156362, \\\n",
    "0.160221, 0.163874, 0.167299, 0.170473, 0.173372, 0.175975, 0.178259, \\\n",
    "0.1802, 0.181779, 0.182974, 0.183768, 0.184143, 0.184085, 0.183581, \\\n",
    "0.182621, 0.181196, 0.179302, 0.176938, 0.174103, 0.170802, 0.167042, \\\n",
    "0.162833, 0.158191, 0.153132, 0.147677, 0.141853, 0.135686, 0.129212, \\\n",
    "0.122465, 0.115488, 0.108325, 0.101026, 0.0936413, 0.086228, \\\n",
    "0.0788439, 0.071549, 0.0644045, 0.0574709, 0.050807, 0.0444683, \\\n",
    "0.0385053])\n",
    "x = np.arange(-3, -.99, .02)\n",
    "lloaded = 100 * np.exp(-.01 / 10**x)"
   ]
  },
  {
   "cell_type": "markdown",
   "metadata": {},
   "source": [
    "## Plot"
   ]
  },
  {
   "cell_type": "code",
   "execution_count": 19,
   "metadata": {},
   "outputs": [
    {
     "data": {
      "image/png": "[encoded data removed]",
      "text/plain": [
       "<Figure size 936x288 with 3 Axes>"
      ]
     },
     "metadata": {},
     "output_type": "display_data"
    }
   ],
   "source": [
    "fig, (ax1, ax2, ax3) = plt.subplots(1, 3, figsize=(13, 4))\n",
    "\n",
    "red = sns.xkcd_rgb[\"pale red\"]\n",
    "blu = sns.xkcd_rgb[\"bright blue\"]\n",
    "grn = sns.xkcd_rgb[\"kelly green\"]\n",
    "\n",
    "fig.subplots_adjust()\n",
    "\n",
    "set_up_axes(ax1, xmin=-3, xmax=-.99, xstep=1, ymin=0, ymax=1000, ystep=250, rnd=1, \n",
    "    xlabel=r'Mutation rate $(u)$', ylabel=r'Extinction time $(T)$', part_label=r'\\textbf{A}')\n",
    "set_up_axes(ax2, xmin=-3, xmax=-.99, xstep=1, ymin=0, ymax=1000, ystep=250, rnd=1, \n",
    "    xlabel=r'Selection coefficient $(s)$', ylabel=r'Extinction time $(T)$', part_label=r'\\textbf{B}')\n",
    "set_up_axes(ax3, xmin=-3, xmax=-.99, xstep=1, ymin=0, ymax=.2, ystep=.05, rnd=2, \n",
    "    xlabel=r'Selection coefficient $(s)$', ylabel='', part_label=r'\\textbf{C}')\n",
    "\n",
    "ax1.set_position([.08, .215, .23, .645])\n",
    "ax2.set_position([.42, .215, .23, .645])\n",
    "ax3.set_position([.76, .215, .23, .645])\n",
    "\n",
    "ax1.plot(fig3simA['logu'], fig3simA['T'], color=blu, label='Simulations', clip_on=False)\n",
    "ax1.plot(fig3theoryA['logu'], fig3theoryA['T'], color=red, label='Theory', clip_on=False)\n",
    "Tmin = fig3simA['T'] - fig3simA['Tstd']\n",
    "Tmin[Tmin < 0] = 0\n",
    "ax1.fill_between(fig3simA['logu'], fig3simA['T'] + fig3simA['Tstd'], Tmin, color=blu, alpha=.3, clip_on=False, lw=0)\n",
    "ax1.legend()\n",
    "\n",
    "ax2.plot(fig3theoryB['logs'], fig3theoryB['T'], color=red, clip_on=False)\n",
    "ax2.plot(fig3simB['logs'], fig3simB['T'], color=blu, clip_on=False)\n",
    "ax2.fill_between(fig3simB['logs'], fig3simB['T'] + fig3simB['Tstd'], fig3simB['T'] - fig3simB['Tstd'], color=blu, alpha=.3, lw=0)\n",
    "\n",
    "thresh = 10\n",
    "ax3.plot(x[lloaded>=thresh], rat[lloaded>=thresh], color=grn, clip_on=False)\n",
    "ax3.plot(x[lloaded<thresh], rat[lloaded<thresh], dashes=[4, 1.7], color=grn, clip_on=False)\n",
    "\n",
    "ax1.set_xticklabels(['$10^{-3}$', '$10^{-2}$', '$10^{-1}$'])\n",
    "ax2.set_xticklabels(['$10^{-3}$', '$10^{-2}$', '$10^{-1}$'])\n",
    "ax3.set_xticklabels(['$10^{-3}$', '$10^{-2}$', '$10^{-1}$'])\n",
    "ax3.set_yticklabels(['0.00', .05, '0.10', .15, '0.20'])\n",
    "ax3.set_ylabel(r'Rate of fitness decline $\\times \\, 10^{3}$', labelpad=12)\n",
    "\n",
    "plt.savefig('../figures/fig3.pdf')"
   ]
  },
  {
   "cell_type": "markdown",
   "metadata": {},
   "source": [
    "# Figure supplement 1"
   ]
  },
  {
   "cell_type": "code",
   "execution_count": 28,
   "metadata": {},
   "outputs": [
    {
     "data": {
      "image/png": "[encoded data removed]",
      "text/plain": [
       "<Figure size 612x288 with 2 Axes>"
      ]
     },
     "metadata": {},
     "output_type": "display_data"
    }
   ],
   "source": [
    "fig, (ax1, ax2) = plt.subplots(1, 2, figsize=(8.5, 4))\n",
    "\n",
    "red = sns.xkcd_rgb[\"pale red\"]\n",
    "blu = sns.xkcd_rgb[\"bright blue\"]\n",
    "\n",
    "fig.subplots_adjust()\n",
    "\n",
    "set_up_axes(ax1, xmin=-3, xmax=-.99, xstep=1, ymin=0, ymax=2.01, ystep=.5, rnd=1, \n",
    "    xlabel=r'Mutation rate $(u)$', ylabel=r'CV$[T]$', \n",
    "    part_label=r'\\textbf{A}')\n",
    "set_up_axes(ax2, xmin=-3, xmax=-.99, xstep=1, ymin=0, ymax=2.01, ystep=.5, rnd=1, \n",
    "    xlabel=r'Selection coefficient $(s)$', ylabel='', part_label=r'\\textbf{B}')\n",
    "\n",
    "ax1.set_position([.123, .215, .37, .64])\n",
    "ax2.set_position([.608, .215, .37, .64])\n",
    "\n",
    "ax1.plot(fig3simA['logu'], fig3simA['Tstd'] / fig3simA['T'], 'o', color=blu, label='Simulations', clip_on=False)\n",
    "ax1.plot(fig3theoryA['logu'], fig3theoryA['Tstd'] / fig3theoryA['T'], color=red, label='Theory')\n",
    "ax1.legend()\n",
    "\n",
    "ax2.plot(fig3simB['logs'], fig3simB['Tstd'] / fig3simB['T'], 'o', color=blu, clip_on=False)\n",
    "ax2.plot(fig3theoryB['logs'], fig3theoryB['Tstd'] / fig3theoryB['T'], color=red)\n",
    "\n",
    "ax1.set_xticklabels(['$10^{-3}$', '$10^{-2}$', '$10^{-1}$'])\n",
    "ax2.set_xticklabels(['$10^{-3}$', '$10^{-2}$', '$10^{-1}$'])\n",
    "\n",
    "plt.savefig('../figures/fig3s1.pdf')"
   ]
  },
  {
   "cell_type": "markdown",
   "metadata": {},
   "source": [
    "# Figure supplement 2\n",
    "\n",
    "Set $u = 0.01$ and $s = 10^{-3}$, and vary $n_0$ between 10 and $10^{5}$."
   ]
  },
  {
   "cell_type": "code",
   "execution_count": null,
   "metadata": {},
   "outputs": [],
   "source": [
    "logn = np.linspace(1, 5, 41)\n",
    "logn"
   ]
  },
  {
   "cell_type": "code",
   "execution_count": null,
   "metadata": {},
   "outputs": [],
   "source": [
    "print 'N T Tstd'\n",
    "for x in logn:\n",
    "    T = simult([int(10**x)], .01, .001, 10000)\n",
    "    print int(10**x), T.mean(), T.std(ddof=1)"
   ]
  },
  {
   "cell_type": "code",
   "execution_count": null,
   "metadata": {},
   "outputs": [],
   "source": [
    "# save simulated data\n",
    "fig3s2sim = pd.read_clipboard(sep=' ')\n",
    "fig3s2sim.to_csv('data/fig3s2sim.csv')"
   ]
  },
  {
   "cell_type": "code",
   "execution_count": 22,
   "metadata": {},
   "outputs": [
    {
     "data": {
      "text/html": [
       "<div>\n",
       "<style scoped>\n",
       "    .dataframe tbody tr th:only-of-type {\n",
       "        vertical-align: middle;\n",
       "    }\n",
       "\n",
       "    .dataframe tbody tr th {\n",
       "        vertical-align: top;\n",
       "    }\n",
       "\n",
       "    .dataframe thead th {\n",
       "        text-align: right;\n",
       "    }\n",
       "</style>\n",
       "<table border=\"1\" class=\"dataframe\">\n",
       "  <thead>\n",
       "    <tr style=\"text-align: right;\">\n",
       "      <th></th>\n",
       "      <th>N</th>\n",
       "      <th>T</th>\n",
       "      <th>Tstd</th>\n",
       "      <th>logN</th>\n",
       "    </tr>\n",
       "  </thead>\n",
       "  <tbody>\n",
       "    <tr>\n",
       "      <th>0</th>\n",
       "      <td>10</td>\n",
       "      <td>71.6810</td>\n",
       "      <td>140.816890</td>\n",
       "      <td>1.000000</td>\n",
       "    </tr>\n",
       "    <tr>\n",
       "      <th>1</th>\n",
       "      <td>12</td>\n",
       "      <td>80.1249</td>\n",
       "      <td>137.401431</td>\n",
       "      <td>1.079181</td>\n",
       "    </tr>\n",
       "    <tr>\n",
       "      <th>2</th>\n",
       "      <td>15</td>\n",
       "      <td>98.6740</td>\n",
       "      <td>158.114626</td>\n",
       "      <td>1.176091</td>\n",
       "    </tr>\n",
       "    <tr>\n",
       "      <th>3</th>\n",
       "      <td>19</td>\n",
       "      <td>113.8326</td>\n",
       "      <td>166.917922</td>\n",
       "      <td>1.278754</td>\n",
       "    </tr>\n",
       "    <tr>\n",
       "      <th>4</th>\n",
       "      <td>25</td>\n",
       "      <td>138.8508</td>\n",
       "      <td>186.668696</td>\n",
       "      <td>1.397940</td>\n",
       "    </tr>\n",
       "  </tbody>\n",
       "</table>\n",
       "</div>"
      ],
      "text/plain": [
       "    N         T        Tstd      logN\n",
       "0  10   71.6810  140.816890  1.000000\n",
       "1  12   80.1249  137.401431  1.079181\n",
       "2  15   98.6740  158.114626  1.176091\n",
       "3  19  113.8326  166.917922  1.278754\n",
       "4  25  138.8508  186.668696  1.397940"
      ]
     },
     "execution_count": 22,
     "metadata": {},
     "output_type": "execute_result"
    }
   ],
   "source": [
    "# read simulated data\n",
    "fig3s2sim = pd.read_csv('data/fig3s2sim.csv', index_col=0)\n",
    "fig3s2sim['logN'] = np.log10(fig3s2sim['N'])\n",
    "fig3s2sim.head()"
   ]
  },
  {
   "cell_type": "markdown",
   "metadata": {},
   "source": [
    "### Theory"
   ]
  },
  {
   "cell_type": "code",
   "execution_count": null,
   "metadata": {},
   "outputs": [],
   "source": [
    "print 'N T Tstd'\n",
    "for x in logn:\n",
    "    t, v = T(10**x, .01, .01, 1e-6, False, True)\n",
    "    print int(10**x), t, np.sqrt(v)"
   ]
  },
  {
   "cell_type": "code",
   "execution_count": null,
   "metadata": {},
   "outputs": [],
   "source": [
    "# save theoretical values\n",
    "fig3s2theory = pd.read_clipboard(sep=' ')\n",
    "fig3s2theory.to_csv('data/fig3s2theory.csv')"
   ]
  },
  {
   "cell_type": "code",
   "execution_count": 23,
   "metadata": {},
   "outputs": [
    {
     "data": {
      "text/html": [
       "<div>\n",
       "<style scoped>\n",
       "    .dataframe tbody tr th:only-of-type {\n",
       "        vertical-align: middle;\n",
       "    }\n",
       "\n",
       "    .dataframe tbody tr th {\n",
       "        vertical-align: top;\n",
       "    }\n",
       "\n",
       "    .dataframe thead th {\n",
       "        text-align: right;\n",
       "    }\n",
       "</style>\n",
       "<table border=\"1\" class=\"dataframe\">\n",
       "  <thead>\n",
       "    <tr style=\"text-align: right;\">\n",
       "      <th></th>\n",
       "      <th>N</th>\n",
       "      <th>T</th>\n",
       "      <th>Tstd</th>\n",
       "      <th>logN</th>\n",
       "    </tr>\n",
       "  </thead>\n",
       "  <tbody>\n",
       "    <tr>\n",
       "      <th>0</th>\n",
       "      <td>10</td>\n",
       "      <td>64.737888</td>\n",
       "      <td>72.129593</td>\n",
       "      <td>1.000000</td>\n",
       "    </tr>\n",
       "    <tr>\n",
       "      <th>1</th>\n",
       "      <td>12</td>\n",
       "      <td>80.635776</td>\n",
       "      <td>80.268860</td>\n",
       "      <td>1.079181</td>\n",
       "    </tr>\n",
       "    <tr>\n",
       "      <th>2</th>\n",
       "      <td>15</td>\n",
       "      <td>100.407303</td>\n",
       "      <td>89.180692</td>\n",
       "      <td>1.176091</td>\n",
       "    </tr>\n",
       "    <tr>\n",
       "      <th>3</th>\n",
       "      <td>19</td>\n",
       "      <td>124.814790</td>\n",
       "      <td>98.849637</td>\n",
       "      <td>1.278754</td>\n",
       "    </tr>\n",
       "    <tr>\n",
       "      <th>4</th>\n",
       "      <td>25</td>\n",
       "      <td>154.581381</td>\n",
       "      <td>109.202880</td>\n",
       "      <td>1.397940</td>\n",
       "    </tr>\n",
       "  </tbody>\n",
       "</table>\n",
       "</div>"
      ],
      "text/plain": [
       "    N           T        Tstd      logN\n",
       "0  10   64.737888   72.129593  1.000000\n",
       "1  12   80.635776   80.268860  1.079181\n",
       "2  15  100.407303   89.180692  1.176091\n",
       "3  19  124.814790   98.849637  1.278754\n",
       "4  25  154.581381  109.202880  1.397940"
      ]
     },
     "execution_count": 23,
     "metadata": {},
     "output_type": "execute_result"
    }
   ],
   "source": [
    "# read theoretical values\n",
    "fig3s2theory = pd.read_csv('data/fig3s2theory.csv', index_col=0)\n",
    "fig3s2theory['logN'] = np.log10(fig3s2theory['N'])\n",
    "fig3s2theory.head()"
   ]
  },
  {
   "cell_type": "code",
   "execution_count": 27,
   "metadata": {},
   "outputs": [
    {
     "data": {
      "image/png": "[encoded data removed]",
      "text/plain": [
       "<Figure size 612x288 with 2 Axes>"
      ]
     },
     "metadata": {},
     "output_type": "display_data"
    }
   ],
   "source": [
    "fig, (ax1, ax2) = plt.subplots(1, 2, figsize=(8.5, 4))\n",
    "\n",
    "red = sns.xkcd_rgb[\"pale red\"]\n",
    "blu = sns.xkcd_rgb[\"bright blue\"]\n",
    "\n",
    "fig.subplots_adjust()\n",
    "\n",
    "set_up_axes(ax1, xmin=1, xmax=5.01, xstep=1, \n",
    "    ymin=0, ymax=1600, ystep=600, rnd=1, \n",
    "    xlabel=r'Population size $(N)$', ylabel=r'Extinction time $(T)$', part_label=r'\\textbf{A}')\n",
    "set_up_axes(ax2, xmin=1, xmax=5.01, xstep=1, ymin=0, ymax=2.01, ystep=.5, rnd=1, \n",
    "    xlabel=r'Population size $(N)$', ylabel='CV$[T]$', part_label=r'\\textbf{B}')\n",
    "\n",
    "ax1.set_position([.123, .215, .37, .64])\n",
    "ax2.set_position([.608, .215, .37, .64])\n",
    "\n",
    "ax1.plot(fig3s2sim['logN'], fig3s2sim['T'], color=blu, label='Simulations', clip_on=False)\n",
    "ax1.plot(fig3s2theory['logN'], fig3s2theory['T'], color=red, label='Theory', clip_on=False)\n",
    "Tmin = fig3s2sim['T'] - fig3s2sim['Tstd']\n",
    "Tmin[Tmin < 0] = 0\n",
    "ax1.fill_between(fig3s2sim['logN'], fig3s2sim['T'] + fig3s2sim['Tstd'], Tmin, color=blu, alpha=.3, clip_on=False, lw=0)\n",
    "ax1.legend()\n",
    "ax1.set_xticklabels(['10', '$10^{2}$', '$10^{3}$', '$10^{4}$'])\n",
    "\n",
    "ax2.plot(fig3s2sim['logN'], fig3s2sim['Tstd'] / fig3s2sim['T'], 'o', ms=6,\n",
    "    color=blu, clip_on=False)\n",
    "ax2.plot(fig3s2theory['logN'], fig3s2theory['Tstd'] / fig3s2theory['T'], color=red)\n",
    "\n",
    "ax1.set_xticklabels(['10', '$10^{2}$', '$10^{3}$', '$10^{4}$', '$10^{5}$'])\n",
    "ax2.set_xticklabels(['10', '$10^{2}$', '$10^{3}$', '$10^{4}$', '$10^{5}$'])\n",
    "\n",
    "plt.savefig('fig3s2.pdf')"
   ]
  },
  {
   "cell_type": "code",
   "execution_count": null,
   "metadata": {},
   "outputs": [],
   "source": []
  }
 ],
 "metadata": {
  "kernelspec": {
   "display_name": "Python 2",
   "language": "python",
   "name": "python2"
  },
  "language_info": {
   "codemirror_mode": {
    "name": "ipython",
    "version": 2
   },
   "file_extension": ".py",
   "mimetype": "text/x-python",
   "name": "python",
   "nbconvert_exporter": "python",
   "pygments_lexer": "ipython2",
   "version": "2.7.15"
  }
 },
 "nbformat": 4,
 "nbformat_minor": 2
}
