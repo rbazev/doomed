{
 "cells": [
  {
   "cell_type": "markdown",
   "metadata": {},
   "source": [
    "# Figure 4"
   ]
  },
  {
   "cell_type": "code",
   "execution_count": 1,
   "metadata": {},
   "outputs": [],
   "source": [
    "run doomed.py"
   ]
  },
  {
   "cell_type": "markdown",
   "metadata": {},
   "source": [
    "## **(A)** Total extinction time, **T**\n",
    "\n",
    "Vary both $u$ and $s$ between $10^{-3}$ and $10^{-1}$.  Set $n_0=100$."
   ]
  },
  {
   "cell_type": "code",
   "execution_count": 2,
   "metadata": {},
   "outputs": [],
   "source": [
    "n0 = 100\n",
    "nsteps = 21\n",
    "s_range = np.logspace(-3, -1, nsteps)\n",
    "u_range = np.logspace(-3, -1, nsteps)"
   ]
  },
  {
   "cell_type": "code",
   "execution_count": 3,
   "metadata": {},
   "outputs": [],
   "source": [
    "def get_matrix(data, n):\n",
    "    starter = np.zeros((n, n))\n",
    "    j = 0\n",
    "    for row in starter:\n",
    "        z = 0\n",
    "        for element in row:\n",
    "            row[z] = data[j][0]\n",
    "            j += 1\n",
    "            z += 1\n",
    "    return starter\n",
    "\n",
    "def heat_T(n0, s_range, u_range):\n",
    "    Tresult = []\n",
    "    Vresult = []\n",
    "    for s in s_range:\n",
    "        print round(s, 6),\n",
    "        for u in u_range:\n",
    "            t, v = T(n0, s, u, 1e-6, False, True)\n",
    "            Tresult.append((t, u, s))\n",
    "            Vresult.append((v, u, s))\n",
    "    return Tresult, Vresult"
   ]
  },
  {
   "cell_type": "code",
   "execution_count": 4,
   "metadata": {},
   "outputs": [
    {
     "name": "stdout",
     "output_type": "stream",
     "text": [
      "0.001 0.001259 0.001585 0.001995 0.002512 0.003162 0.003981 0.005012 0.00631 0.007943 0.01 0.012589 0.015849 0.019953 0.025119 0.031623 0.039811 0.050119 0.063096 0.079433 0.1\n"
     ]
    }
   ],
   "source": [
    "Theat, Vheat = heat_T(n0, s_range, u_range)\n",
    "Tarray = get_matrix(Theat, nsteps)\n",
    "Varray = get_matrix(Vheat, nsteps)"
   ]
  },
  {
   "cell_type": "markdown",
   "metadata": {},
   "source": [
    "## **(B)** Extinction time of the mutation-free class, $t_0$"
   ]
  },
  {
   "cell_type": "code",
   "execution_count": 5,
   "metadata": {},
   "outputs": [],
   "source": [
    "def heat_t0(n0, s_range, u_range):\n",
    "    result = []\n",
    "    for s in s_range:\n",
    "        print round(s, 6),\n",
    "        for u in u_range:\n",
    "            result.append((t0(n0, u, 1e-6), u, s))\n",
    "    return result"
   ]
  },
  {
   "cell_type": "code",
   "execution_count": 6,
   "metadata": {},
   "outputs": [
    {
     "name": "stdout",
     "output_type": "stream",
     "text": [
      "0.001 0.001259 0.001585 0.001995 0.002512 0.003162 0.003981 0.005012 0.00631 0.007943 0.01 0.012589 0.015849 0.019953 0.025119 0.031623 0.039811 0.050119 0.063096 0.079433 0.1\n"
     ]
    }
   ],
   "source": [
    "t0heat = heat_t0(n0, s_range, u_range)\n",
    "t0array = get_matrix(t0heat, nsteps)"
   ]
  },
  {
   "cell_type": "markdown",
   "metadata": {},
   "source": [
    "## **(C)** Size of the least loaded class at the extinction time of the mutation-free class, $x_1$"
   ]
  },
  {
   "cell_type": "code",
   "execution_count": 7,
   "metadata": {},
   "outputs": [],
   "source": [
    "def heat_x1(n0, s_range, u_range):\n",
    "    result = []\n",
    "    for s in s_range:\n",
    "        print round(s, 6),\n",
    "        for u in u_range:\n",
    "            x1, t1, v1 = xtk(100, 1, s, u, 1e-6, False, False)\n",
    "            result.append((x1, u, s))\n",
    "    return result"
   ]
  },
  {
   "cell_type": "code",
   "execution_count": 8,
   "metadata": {},
   "outputs": [
    {
     "name": "stdout",
     "output_type": "stream",
     "text": [
      "0.001 0.001259 0.001585 0.001995 0.002512 0.003162 0.003981 0.005012 0.00631 0.007943 0.01 0.012589 0.015849 0.019953 0.025119 0.031623 0.039811 0.050119 0.063096 0.079433 0.1\n"
     ]
    }
   ],
   "source": [
    "x1heat = heat_x1(n0, s_range, u_range)\n",
    "x1array = get_matrix(x1heat, nsteps)"
   ]
  },
  {
   "cell_type": "code",
   "execution_count": 11,
   "metadata": {},
   "outputs": [
    {
     "data": {
      "image/png": "[encoded data removed]",
      "text/plain": [
       "<Figure size 936x288 with 6 Axes>"
      ]
     },
     "metadata": {},
     "output_type": "display_data"
    }
   ],
   "source": [
    "fig, (ax1, ax2, ax3) = plt.subplots(1, 3, figsize=(13, 4))\n",
    "fig.subplots_adjust()\n",
    "\n",
    "sns.set()\n",
    "sns.set_context(\"talk\")\n",
    "\n",
    "ax1.set_position([-.01, .155, .35, .68])\n",
    "ax2.set_position([.323, .155, .35, .68])\n",
    "ax3.set_position([.66, .155, .35, .68])\n",
    "\n",
    "cbar_ax1 = fig.add_axes([-.01 + .29, .155, .015, .68])\n",
    "cbar_ax2 = fig.add_axes([.323 + .29, .155, .015, .68])\n",
    "cbar_ax3 = fig.add_axes([.66 + .29, .155, .015, .68])\n",
    "    \n",
    "sns.heatmap(Tarray, square = True, ax=ax1, cbar_ax = cbar_ax1, cmap='rocket', \n",
    "    cbar=True)\n",
    "ax1.set_ylabel(r'Selection coefficient $(s)$')\n",
    "ax1.text(0, 23.5, r\"\\textbf{A}\", size=24, weight='bold')\n",
    "\n",
    "sns.heatmap(t0array / Tarray, square = True, ax=ax2, cbar_ax = cbar_ax2, cbar=True, \n",
    "    cmap='rocket_r', vmax=1.0, cbar_kws={'ticks': [.2, .4, .6, .8, 1]})\n",
    "ax2.set_ylabel('')\n",
    "ax2.text(0, 23.5, r\"\\textbf{B}\", size=24, weight='bold')\n",
    "\n",
    "sns.heatmap(x1array, square = True, ax=ax3, cbar_ax = cbar_ax3, cbar=True, \n",
    "    cmap='rocket_r', cbar_kws={'ticks': [10, 20, 30]})\n",
    "ax3.set_ylabel('')\n",
    "ax3.text(0, 23.5, r\"\\textbf{C}\", size=24, weight='bold')\n",
    "\n",
    "for ax in [ax1, ax2, ax3]:\n",
    "    ax.invert_yaxis()\n",
    "    ax.set_xlabel(r'Mutation rate $(u)$')\n",
    "    ax.set_xticks([0.5, 10.5, 20.5])\n",
    "    ax.set_xticklabels(['$10^{-3}$', '$10^{-2}$', '$10^{-1}$'], rotation = 0)\n",
    "    ax.set_yticks([0.5, 10.5, 20.5])\n",
    "    ax.set_yticklabels(['$10^{-3}$', '$10^{-2}$', '$10^{-1}$'], rotation = 0)\n",
    "\n",
    "ax1.text(24.38, 22.5, r\"$\\mathbf{T}$\", size=14.5, ha='center')\n",
    "ax2.text(24.15, 22.5, r\"$t_0 / \\mathbf{T}$\", size=14.5, ha='center')\n",
    "ax3.text(24.1, 22.5, r\"$x_1$\", size=14.5, ha='center')\n",
    "\n",
    "plt.savefig('../figures/fig4.pdf')"
   ]
  },
  {
   "cell_type": "markdown",
   "metadata": {},
   "source": [
    "# Figure S4"
   ]
  },
  {
   "cell_type": "code",
   "execution_count": 10,
   "metadata": {},
   "outputs": [
    {
     "data": {
      "image/png": "[encoded data removed]",
      "text/plain": [
       "<Figure size 624.24x288 with 4 Axes>"
      ]
     },
     "metadata": {},
     "output_type": "display_data"
    }
   ],
   "source": [
    "fig, (ax1, ax2) = plt.subplots(1, 2, figsize=(8.67, 4))\n",
    "fig.subplots_adjust()\n",
    "\n",
    "sns.set()\n",
    "sns.set_context(\"talk\")\n",
    "\n",
    "ax1.set_position([.049, .16, .4, .68])\n",
    "ax2.set_position([.551, .16, .4, .68])\n",
    "cbar_ax1 = fig.add_axes([.049 + 0.375, .16, .025, .68])\n",
    "cbar_ax2 = fig.add_axes([.551 + 0.375, .16, .025, .68])\n",
    "\n",
    "sns.heatmap(t0array, square = True, ax=ax1, cbar_ax = cbar_ax1, cmap='rocket', \n",
    "    cbar=True, cbar_kws={'ticks': [100, 200, 300, 400]})\n",
    "ax1.set_ylabel(r'Selection coefficient $(s)$')\n",
    "ax1.text(0, 23.5, r\"\\textbf{A}\", size=24, weight='bold')\n",
    "\n",
    "sns.heatmap(np.sqrt(Varray) / Tarray, square = True, ax=ax2, cbar_ax = cbar_ax2, cbar=True, \n",
    "    cmap='rocket_r', cbar_kws={'ticks': [.3, .6, .9, 1.2]})\n",
    "ax2.set_ylabel('')\n",
    "ax2.text(0, 23.5, r\"\\textbf{B}\", size=24, weight='bold')\n",
    "\n",
    "for ax in [ax1, ax2]:\n",
    "    ax.invert_yaxis()\n",
    "    ax.set_xlabel(r'Mutation rate $(u)$')\n",
    "    ax.set_xticks([0.5, 10.5, 20.5])\n",
    "    ax.set_xticklabels(['$10^{-3}$', '$10^{-2}$', '$10^{-1}$'], rotation = 0)\n",
    "    ax.set_yticks([0.5, 10.5, 20.5])\n",
    "    ax.set_yticklabels(['$10^{-3}$', '$10^{-2}$', '$10^{-1}$'], rotation = 0)\n",
    "\n",
    "ax1.text(24.65, 22.5, r\"$t_0$\", size=14.5, ha='center')\n",
    "ax2.text(24.5, 22.5, r\"CV$[T]$\", size=14.5, ha='center')\n",
    "\n",
    "plt.savefig('../figures/figS4.pdf')"
   ]
  },
  {
   "cell_type": "code",
   "execution_count": null,
   "metadata": {},
   "outputs": [],
   "source": []
  }
 ],
 "metadata": {
  "kernelspec": {
   "display_name": "Python 2",
   "language": "python",
   "name": "python2"
  },
  "language_info": {
   "codemirror_mode": {
    "name": "ipython",
    "version": 2
   },
   "file_extension": ".py",
   "mimetype": "text/x-python",
   "name": "python",
   "nbconvert_exporter": "python",
   "pygments_lexer": "ipython2",
   "version": "2.7.15"
  }
 },
 "nbformat": 4,
 "nbformat_minor": 2
}
