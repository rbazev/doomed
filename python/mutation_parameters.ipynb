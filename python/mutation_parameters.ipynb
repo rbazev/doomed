{
 "cells": [
  {
   "cell_type": "code",
   "execution_count": 3,
   "metadata": {},
   "outputs": [],
   "source": [
    "import pandas as pd\n",
    "import numpy as np\n",
    "import matplotlib.pyplot as plt\n",
    "import seaborn as sns"
   ]
  },
  {
   "cell_type": "code",
   "execution_count": 60,
   "metadata": {},
   "outputs": [
    {
     "name": "stdout",
     "output_type": "stream",
     "text": [
      "n = 49 estimates\n"
     ]
    },
    {
     "name": "stderr",
     "output_type": "stream",
     "text": [
      "/Users/rbazev/Applications/miniconda2/envs/py35qt/lib/python3.5/site-packages/ipykernel_launcher.py:2: SettingWithCopyWarning: \n",
      "A value is trying to be set on a copy of a slice from a DataFrame\n",
      "\n",
      "See the caveats in the documentation: http://pandas.pydata.org/pandas-docs/stable/indexing.html#indexing-view-versus-copy\n",
      "  \n"
     ]
    },
    {
     "data": {
      "text/html": [
       "<div>\n",
       "<style scoped>\n",
       "    .dataframe tbody tr th:only-of-type {\n",
       "        vertical-align: middle;\n",
       "    }\n",
       "\n",
       "    .dataframe tbody tr th {\n",
       "        vertical-align: top;\n",
       "    }\n",
       "\n",
       "    .dataframe thead th {\n",
       "        text-align: right;\n",
       "    }\n",
       "</style>\n",
       "<table border=\"1\" class=\"dataframe\">\n",
       "  <thead>\n",
       "    <tr style=\"text-align: right;\">\n",
       "      <th></th>\n",
       "      <th>species</th>\n",
       "      <th>group</th>\n",
       "      <th>mutator</th>\n",
       "      <th>U</th>\n",
       "      <th>s</th>\n",
       "      <th>hom</th>\n",
       "      <th>method</th>\n",
       "      <th>source</th>\n",
       "      <th>notes</th>\n",
       "    </tr>\n",
       "  </thead>\n",
       "  <tbody>\n",
       "    <tr>\n",
       "      <th>0</th>\n",
       "      <td>Vesicular Stomatitis Virus</td>\n",
       "      <td>virus</td>\n",
       "      <td>False</td>\n",
       "      <td>1.16</td>\n",
       "      <td>0.0022</td>\n",
       "      <td>False</td>\n",
       "      <td>BM</td>\n",
       "      <td>Elena &amp; Moya 1999</td>\n",
       "      <td>median of 3 experiments</td>\n",
       "    </tr>\n",
       "    <tr>\n",
       "      <th>1</th>\n",
       "      <td>Vesicular Stomatitis Virus</td>\n",
       "      <td>virus</td>\n",
       "      <td>False</td>\n",
       "      <td>NaN</td>\n",
       "      <td>0.1910</td>\n",
       "      <td>False</td>\n",
       "      <td>direct mutagenesis</td>\n",
       "      <td>Sanjuan et al. 2004</td>\n",
       "      <td>NaN</td>\n",
       "    </tr>\n",
       "    <tr>\n",
       "      <th>2</th>\n",
       "      <td>Tobacco Etch Virus</td>\n",
       "      <td>virus</td>\n",
       "      <td>False</td>\n",
       "      <td>NaN</td>\n",
       "      <td>0.4110</td>\n",
       "      <td>False</td>\n",
       "      <td>direct mutagenesis</td>\n",
       "      <td>Carrasco et al. 2007</td>\n",
       "      <td>NaN</td>\n",
       "    </tr>\n",
       "    <tr>\n",
       "      <th>3</th>\n",
       "      <td>PhiX174 bacteriophage</td>\n",
       "      <td>virus</td>\n",
       "      <td>False</td>\n",
       "      <td>NaN</td>\n",
       "      <td>0.5120</td>\n",
       "      <td>False</td>\n",
       "      <td>direct mutagenesis</td>\n",
       "      <td>Vale et al. 2012</td>\n",
       "      <td>average for 2 hosts</td>\n",
       "    </tr>\n",
       "    <tr>\n",
       "      <th>4</th>\n",
       "      <td>PhiX174 bacteriophage</td>\n",
       "      <td>virus</td>\n",
       "      <td>False</td>\n",
       "      <td>NaN</td>\n",
       "      <td>0.0510</td>\n",
       "      <td>False</td>\n",
       "      <td>MA</td>\n",
       "      <td>Domingo-Calap et al. 2009</td>\n",
       "      <td>NaN</td>\n",
       "    </tr>\n",
       "  </tbody>\n",
       "</table>\n",
       "</div>"
      ],
      "text/plain": [
       "                      species  group  mutator     U       s    hom  \\\n",
       "0  Vesicular Stomatitis Virus  virus    False  1.16  0.0022  False   \n",
       "1  Vesicular Stomatitis Virus  virus    False   NaN  0.1910  False   \n",
       "2          Tobacco Etch Virus  virus    False   NaN  0.4110  False   \n",
       "3       PhiX174 bacteriophage  virus    False   NaN  0.5120  False   \n",
       "4       PhiX174 bacteriophage  virus    False   NaN  0.0510  False   \n",
       "\n",
       "               method                     source                    notes  \n",
       "0                  BM          Elena & Moya 1999  median of 3 experiments  \n",
       "1  direct mutagenesis        Sanjuan et al. 2004                      NaN  \n",
       "2  direct mutagenesis       Carrasco et al. 2007                      NaN  \n",
       "3  direct mutagenesis           Vale et al. 2012      average for 2 hosts  \n",
       "4                  MA  Domingo-Calap et al. 2009                      NaN  "
      ]
     },
     "execution_count": 60,
     "metadata": {},
     "output_type": "execute_result"
    }
   ],
   "source": [
    "data = pd.read_csv('data/mutation_parameters.csv')\n",
    "data['s'][data['hom']] = data['s'] / 2\n",
    "print('n =', len(data), 'estimates')\n",
    "data.head()"
   ]
  },
  {
   "cell_type": "code",
   "execution_count": 48,
   "metadata": {},
   "outputs": [
    {
     "name": "stdout",
     "output_type": "stream",
     "text": [
      "n = 22 species\n"
     ]
    },
    {
     "data": {
      "text/plain": [
       "Drosophila melanogaster       8\n",
       "Caenorhabditis elegans        5\n",
       "Escherichia coli              4\n",
       "Saccharomyces cerevisiae      4\n",
       "PhiX174 bacteriophage         3\n",
       "Chlamydomonas reinhardtii     3\n",
       "Qbeta bacteriophage           2\n",
       "Amsinckia douglasiana         2\n",
       "F1 bacteriophage              2\n",
       "Arabidopsis thaliana          2\n",
       "Daphnia pulicaria             2\n",
       "Vesicular Stomatitis Virus    2\n",
       "Tetrahymena thermophila       1\n",
       "Daphnia arenata               1\n",
       "MS2 bacteriophage             1\n",
       "Oscheius myriophila           1\n",
       "Caenorhabditis briggsae       1\n",
       "G4 bacteriophage              1\n",
       "Amsinckia gloriosa            1\n",
       "phi6 bacteriophage            1\n",
       "Tobacco Etch Virus            1\n",
       "SP bacteriophage              1\n",
       "Name: species, dtype: int64"
      ]
     },
     "execution_count": 48,
     "metadata": {},
     "output_type": "execute_result"
    }
   ],
   "source": [
    "spp = data['species'].value_counts()\n",
    "print('n =', len(spp), 'species')\n",
    "spp"
   ]
  },
  {
   "cell_type": "code",
   "execution_count": 49,
   "metadata": {},
   "outputs": [
    {
     "name": "stdout",
     "output_type": "stream",
     "text": [
      "n = 3 species\n"
     ]
    },
    {
     "data": {
      "text/plain": [
       "eukaryote    31\n",
       "virus        14\n",
       "bacteria      4\n",
       "Name: group, dtype: int64"
      ]
     },
     "execution_count": 49,
     "metadata": {},
     "output_type": "execute_result"
    }
   ],
   "source": [
    "grp = data['group'].value_counts()\n",
    "print('n =', len(grp), 'groups')\n",
    "grp"
   ]
  },
  {
   "cell_type": "code",
   "execution_count": 50,
   "metadata": {},
   "outputs": [
    {
     "name": "stdout",
     "output_type": "stream",
     "text": [
      "n = 32 studies\n"
     ]
    },
    {
     "data": {
      "text/plain": [
       "Domingo-Calap et al. 2009     8\n",
       "Garcia-Dorado et al. 1998     4\n",
       "Baer et al. 2005              3\n",
       "Schoen 2005                   3\n",
       "Deng & Lynch 1997             2\n",
       "Vassilieva et al. 2000        2\n",
       "Zeyl & DeVisser 2001          2\n",
       "Kibota & Lynch 1996           1\n",
       "Burch et al. 2007             1\n",
       "Carrasco et al. 2007          1\n",
       "Shaw et al. 2000              1\n",
       "Garcia-Dorado et al. 1999     1\n",
       "Elena & Moya 1999             1\n",
       "Gong et al. 2005              1\n",
       "Elena et al. 1998             1\n",
       "Wloch et al. 2001             1\n",
       "Long et al. 2013              1\n",
       "Loewe et al. 2003             1\n",
       "Latta et al. 2012             1\n",
       "Kraemer et al. 2017           1\n",
       "Morgan et al. 2014            1\n",
       "Bondel et al. 2019            1\n",
       "Charlesworth et al. 2004      1\n",
       "Trindade et al. 2010          1\n",
       "Matsuba et al. 2012           1\n",
       "Joseph & Hall 2004            1\n",
       "Fry & Heinsohn 2002           1\n",
       "Keightley & Caballero 1997    1\n",
       "Sanjuan et al. 2004           1\n",
       "Schultz et al. 1999           1\n",
       "Vale et al. 2012              1\n",
       "Peris et al. 2010             1\n",
       "Name: source, dtype: int64"
      ]
     },
     "execution_count": 50,
     "metadata": {},
     "output_type": "execute_result"
    }
   ],
   "source": [
    "ref = data['source'].value_counts()\n",
    "print('n =', len(ref), 'studies')\n",
    "ref"
   ]
  },
  {
   "cell_type": "code",
   "execution_count": 61,
   "metadata": {},
   "outputs": [
    {
     "name": "stdout",
     "output_type": "stream",
     "text": [
      "U = [0.0228 0.0055 0.088 ]\n",
      "s = [0.072 0.031 0.115]\n"
     ]
    }
   ],
   "source": [
    "U = np.array(data['U'])\n",
    "U = U[~np.isnan(U)]\n",
    "print('U =', np.percentile(U, [50, 25, 75]))\n",
    "s = np.array(data['s'])\n",
    "s = s[~np.isnan(s)]\n",
    "print('s =', np.percentile(s, [50, 25, 75]))"
   ]
  },
  {
   "cell_type": "code",
   "execution_count": 52,
   "metadata": {},
   "outputs": [
    {
     "data": {
      "text/html": [
       "<div>\n",
       "<style scoped>\n",
       "    .dataframe tbody tr th:only-of-type {\n",
       "        vertical-align: middle;\n",
       "    }\n",
       "\n",
       "    .dataframe tbody tr th {\n",
       "        vertical-align: top;\n",
       "    }\n",
       "\n",
       "    .dataframe thead th {\n",
       "        text-align: right;\n",
       "    }\n",
       "</style>\n",
       "<table border=\"1\" class=\"dataframe\">\n",
       "  <thead>\n",
       "    <tr style=\"text-align: right;\">\n",
       "      <th></th>\n",
       "      <th>species</th>\n",
       "      <th>group</th>\n",
       "      <th>mutator</th>\n",
       "      <th>U</th>\n",
       "      <th>s</th>\n",
       "      <th>hom</th>\n",
       "      <th>method</th>\n",
       "      <th>source</th>\n",
       "      <th>notes</th>\n",
       "      <th>s_corr</th>\n",
       "    </tr>\n",
       "  </thead>\n",
       "  <tbody>\n",
       "    <tr>\n",
       "      <th>17</th>\n",
       "      <td>Escherichia coli</td>\n",
       "      <td>bacteria</td>\n",
       "      <td>True</td>\n",
       "      <td>0.0050</td>\n",
       "      <td>0.030</td>\n",
       "      <td>False</td>\n",
       "      <td>ML*</td>\n",
       "      <td>Trindade et al. 2010</td>\n",
       "      <td>NaN</td>\n",
       "      <td>0.030</td>\n",
       "    </tr>\n",
       "    <tr>\n",
       "      <th>21</th>\n",
       "      <td>Saccharomyces cerevisiae</td>\n",
       "      <td>eukaryote</td>\n",
       "      <td>True</td>\n",
       "      <td>0.0228</td>\n",
       "      <td>0.015</td>\n",
       "      <td>False</td>\n",
       "      <td>BM</td>\n",
       "      <td>Zeyl &amp; DeVisser 2001</td>\n",
       "      <td>excluding petites</td>\n",
       "      <td>0.015</td>\n",
       "    </tr>\n",
       "  </tbody>\n",
       "</table>\n",
       "</div>"
      ],
      "text/plain": [
       "                     species      group  mutator       U      s    hom method  \\\n",
       "17          Escherichia coli   bacteria     True  0.0050  0.030  False    ML*   \n",
       "21  Saccharomyces cerevisiae  eukaryote     True  0.0228  0.015  False     BM   \n",
       "\n",
       "                  source              notes  s_corr  \n",
       "17  Trindade et al. 2010                NaN   0.030  \n",
       "21  Zeyl & DeVisser 2001  excluding petites   0.015  "
      ]
     },
     "execution_count": 52,
     "metadata": {},
     "output_type": "execute_result"
    }
   ],
   "source": [
    "data[data['mutator']]"
   ]
  },
  {
   "cell_type": "code",
   "execution_count": 62,
   "metadata": {},
   "outputs": [
    {
     "name": "stdout",
     "output_type": "stream",
     "text": [
      "n = 22 estimates\n"
     ]
    },
    {
     "data": {
      "text/html": [
       "<div>\n",
       "<style scoped>\n",
       "    .dataframe tbody tr th:only-of-type {\n",
       "        vertical-align: middle;\n",
       "    }\n",
       "\n",
       "    .dataframe tbody tr th {\n",
       "        vertical-align: top;\n",
       "    }\n",
       "\n",
       "    .dataframe thead th {\n",
       "        text-align: right;\n",
       "    }\n",
       "</style>\n",
       "<table border=\"1\" class=\"dataframe\">\n",
       "  <thead>\n",
       "    <tr style=\"text-align: right;\">\n",
       "      <th></th>\n",
       "      <th>U</th>\n",
       "      <th>s</th>\n",
       "      <th>hom</th>\n",
       "    </tr>\n",
       "    <tr>\n",
       "      <th>species</th>\n",
       "      <th></th>\n",
       "      <th></th>\n",
       "      <th></th>\n",
       "    </tr>\n",
       "  </thead>\n",
       "  <tbody>\n",
       "    <tr>\n",
       "      <th>Amsinckia douglasiana</th>\n",
       "      <td>0.161000</td>\n",
       "      <td>0.05150</td>\n",
       "      <td>1.0</td>\n",
       "    </tr>\n",
       "    <tr>\n",
       "      <th>Amsinckia gloriosa</th>\n",
       "      <td>0.198000</td>\n",
       "      <td>0.02500</td>\n",
       "      <td>1.0</td>\n",
       "    </tr>\n",
       "    <tr>\n",
       "      <th>Arabidopsis thaliana</th>\n",
       "      <td>0.052000</td>\n",
       "      <td>0.17250</td>\n",
       "      <td>1.0</td>\n",
       "    </tr>\n",
       "    <tr>\n",
       "      <th>Caenorhabditis briggsae</th>\n",
       "      <td>0.049500</td>\n",
       "      <td>0.07500</td>\n",
       "      <td>0.0</td>\n",
       "    </tr>\n",
       "    <tr>\n",
       "      <th>Caenorhabditis elegans</th>\n",
       "      <td>0.015000</td>\n",
       "      <td>0.10500</td>\n",
       "      <td>1.0</td>\n",
       "    </tr>\n",
       "    <tr>\n",
       "      <th>Chlamydomonas reinhardtii</th>\n",
       "      <td>0.000816</td>\n",
       "      <td>0.02400</td>\n",
       "      <td>0.0</td>\n",
       "    </tr>\n",
       "    <tr>\n",
       "      <th>Daphnia arenata</th>\n",
       "      <td>0.690000</td>\n",
       "      <td>0.03500</td>\n",
       "      <td>1.0</td>\n",
       "    </tr>\n",
       "    <tr>\n",
       "      <th>Daphnia pulicaria</th>\n",
       "      <td>0.502500</td>\n",
       "      <td>0.09350</td>\n",
       "      <td>0.5</td>\n",
       "    </tr>\n",
       "    <tr>\n",
       "      <th>Drosophila melanogaster</th>\n",
       "      <td>0.052000</td>\n",
       "      <td>0.10425</td>\n",
       "      <td>1.0</td>\n",
       "    </tr>\n",
       "    <tr>\n",
       "      <th>Escherichia coli</th>\n",
       "      <td>0.002585</td>\n",
       "      <td>0.02650</td>\n",
       "      <td>0.0</td>\n",
       "    </tr>\n",
       "    <tr>\n",
       "      <th>F1 bacteriophage</th>\n",
       "      <td>NaN</td>\n",
       "      <td>0.06900</td>\n",
       "      <td>0.0</td>\n",
       "    </tr>\n",
       "    <tr>\n",
       "      <th>G4 bacteriophage</th>\n",
       "      <td>NaN</td>\n",
       "      <td>0.07200</td>\n",
       "      <td>0.0</td>\n",
       "    </tr>\n",
       "    <tr>\n",
       "      <th>MS2 bacteriophage</th>\n",
       "      <td>NaN</td>\n",
       "      <td>0.04600</td>\n",
       "      <td>0.0</td>\n",
       "    </tr>\n",
       "    <tr>\n",
       "      <th>Oscheius myriophila</th>\n",
       "      <td>0.005500</td>\n",
       "      <td>0.21900</td>\n",
       "      <td>0.0</td>\n",
       "    </tr>\n",
       "    <tr>\n",
       "      <th>PhiX174 bacteriophage</th>\n",
       "      <td>NaN</td>\n",
       "      <td>0.18600</td>\n",
       "      <td>0.0</td>\n",
       "    </tr>\n",
       "    <tr>\n",
       "      <th>Qbeta bacteriophage</th>\n",
       "      <td>NaN</td>\n",
       "      <td>0.08800</td>\n",
       "      <td>0.0</td>\n",
       "    </tr>\n",
       "    <tr>\n",
       "      <th>SP bacteriophage</th>\n",
       "      <td>NaN</td>\n",
       "      <td>0.05700</td>\n",
       "      <td>0.0</td>\n",
       "    </tr>\n",
       "    <tr>\n",
       "      <th>Saccharomyces cerevisiae</th>\n",
       "      <td>0.000633</td>\n",
       "      <td>0.05200</td>\n",
       "      <td>0.0</td>\n",
       "    </tr>\n",
       "    <tr>\n",
       "      <th>Tetrahymena thermophila</th>\n",
       "      <td>0.009400</td>\n",
       "      <td>0.05450</td>\n",
       "      <td>1.0</td>\n",
       "    </tr>\n",
       "    <tr>\n",
       "      <th>Tobacco Etch Virus</th>\n",
       "      <td>NaN</td>\n",
       "      <td>0.41100</td>\n",
       "      <td>0.0</td>\n",
       "    </tr>\n",
       "    <tr>\n",
       "      <th>Vesicular Stomatitis Virus</th>\n",
       "      <td>1.160000</td>\n",
       "      <td>0.09660</td>\n",
       "      <td>0.0</td>\n",
       "    </tr>\n",
       "    <tr>\n",
       "      <th>phi6 bacteriophage</th>\n",
       "      <td>0.030000</td>\n",
       "      <td>0.09300</td>\n",
       "      <td>0.0</td>\n",
       "    </tr>\n",
       "  </tbody>\n",
       "</table>\n",
       "</div>"
      ],
      "text/plain": [
       "                                   U        s  hom\n",
       "species                                           \n",
       "Amsinckia douglasiana       0.161000  0.05150  1.0\n",
       "Amsinckia gloriosa          0.198000  0.02500  1.0\n",
       "Arabidopsis thaliana        0.052000  0.17250  1.0\n",
       "Caenorhabditis briggsae     0.049500  0.07500  0.0\n",
       "Caenorhabditis elegans      0.015000  0.10500  1.0\n",
       "Chlamydomonas reinhardtii   0.000816  0.02400  0.0\n",
       "Daphnia arenata             0.690000  0.03500  1.0\n",
       "Daphnia pulicaria           0.502500  0.09350  0.5\n",
       "Drosophila melanogaster     0.052000  0.10425  1.0\n",
       "Escherichia coli            0.002585  0.02650  0.0\n",
       "F1 bacteriophage                 NaN  0.06900  0.0\n",
       "G4 bacteriophage                 NaN  0.07200  0.0\n",
       "MS2 bacteriophage                NaN  0.04600  0.0\n",
       "Oscheius myriophila         0.005500  0.21900  0.0\n",
       "PhiX174 bacteriophage            NaN  0.18600  0.0\n",
       "Qbeta bacteriophage              NaN  0.08800  0.0\n",
       "SP bacteriophage                 NaN  0.05700  0.0\n",
       "Saccharomyces cerevisiae    0.000633  0.05200  0.0\n",
       "Tetrahymena thermophila     0.009400  0.05450  1.0\n",
       "Tobacco Etch Virus               NaN  0.41100  0.0\n",
       "Vesicular Stomatitis Virus  1.160000  0.09660  0.0\n",
       "phi6 bacteriophage          0.030000  0.09300  0.0"
      ]
     },
     "execution_count": 62,
     "metadata": {},
     "output_type": "execute_result"
    }
   ],
   "source": [
    "sppdata = data.groupby('species').median()\n",
    "del sppdata['mutator']\n",
    "print('n =', len(sppdata), 'estimates')\n",
    "sppdata"
   ]
  },
  {
   "cell_type": "code",
   "execution_count": 64,
   "metadata": {},
   "outputs": [
    {
     "name": "stdout",
     "output_type": "stream",
     "text": [
      "U = [0.0495  0.00745 0.1795 ]\n",
      "s = [0.0735    0.051625  0.1023375]\n"
     ]
    }
   ],
   "source": [
    "U = np.array(sppdata['U'])\n",
    "U = U[~np.isnan(U)]\n",
    "print('U =', np.percentile(U, [50, 25, 75]))\n",
    "print('s =', np.percentile(sppdata['s'], [50, 25, 75]))"
   ]
  },
  {
   "cell_type": "code",
   "execution_count": null,
   "metadata": {},
   "outputs": [],
   "source": []
  }
 ],
 "metadata": {
  "kernelspec": {
   "display_name": "Python 3",
   "language": "python",
   "name": "python3"
  },
  "language_info": {
   "codemirror_mode": {
    "name": "ipython",
    "version": 3
   },
   "file_extension": ".py",
   "mimetype": "text/x-python",
   "name": "python",
   "nbconvert_exporter": "python",
   "pygments_lexer": "ipython3",
   "version": "3.5.6"
  }
 },
 "nbformat": 4,
 "nbformat_minor": 2
}
