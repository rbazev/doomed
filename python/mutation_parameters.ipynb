{
 "cells": [
  {
   "cell_type": "code",
   "execution_count": 3,
   "metadata": {},
   "outputs": [],
   "source": [
    "import pandas as pd\n",
    "import numpy as np\n",
    "import matplotlib.pyplot as plt\n",
    "import seaborn as sns"
   ]
  },
  {
   "cell_type": "code",
   "execution_count": 11,
   "metadata": {},
   "outputs": [
    {
     "name": "stderr",
     "output_type": "stream",
     "text": [
      "/Users/rbazev/Applications/miniconda2/envs/py35qt/lib/python3.5/site-packages/ipykernel_launcher.py:3: SettingWithCopyWarning: \n",
      "A value is trying to be set on a copy of a slice from a DataFrame\n",
      "\n",
      "See the caveats in the documentation: http://pandas.pydata.org/pandas-docs/stable/indexing.html#indexing-view-versus-copy\n",
      "  This is separate from the ipykernel package so we can avoid doing imports until\n"
     ]
    },
    {
     "data": {
      "text/html": [
       "<div>\n",
       "<style scoped>\n",
       "    .dataframe tbody tr th:only-of-type {\n",
       "        vertical-align: middle;\n",
       "    }\n",
       "\n",
       "    .dataframe tbody tr th {\n",
       "        vertical-align: top;\n",
       "    }\n",
       "\n",
       "    .dataframe thead th {\n",
       "        text-align: right;\n",
       "    }\n",
       "</style>\n",
       "<table border=\"1\" class=\"dataframe\">\n",
       "  <thead>\n",
       "    <tr style=\"text-align: right;\">\n",
       "      <th></th>\n",
       "      <th>species</th>\n",
       "      <th>mutator</th>\n",
       "      <th>U</th>\n",
       "      <th>s</th>\n",
       "      <th>hom</th>\n",
       "      <th>method</th>\n",
       "      <th>source</th>\n",
       "      <th>notes</th>\n",
       "      <th>s_corr</th>\n",
       "    </tr>\n",
       "  </thead>\n",
       "  <tbody>\n",
       "    <tr>\n",
       "      <th>0</th>\n",
       "      <td>VSV</td>\n",
       "      <td>False</td>\n",
       "      <td>1.580</td>\n",
       "      <td>0.0022</td>\n",
       "      <td>False</td>\n",
       "      <td>BM</td>\n",
       "      <td>Elena &amp; Moya 1999</td>\n",
       "      <td>X constant effects</td>\n",
       "      <td>0.0022</td>\n",
       "    </tr>\n",
       "    <tr>\n",
       "      <th>1</th>\n",
       "      <td>VSV</td>\n",
       "      <td>False</td>\n",
       "      <td>0.884</td>\n",
       "      <td>0.0024</td>\n",
       "      <td>False</td>\n",
       "      <td>BM</td>\n",
       "      <td>Elena &amp; Moya 1999</td>\n",
       "      <td>C constant effects</td>\n",
       "      <td>0.0024</td>\n",
       "    </tr>\n",
       "    <tr>\n",
       "      <th>2</th>\n",
       "      <td>VSV</td>\n",
       "      <td>False</td>\n",
       "      <td>1.160</td>\n",
       "      <td>0.0022</td>\n",
       "      <td>False</td>\n",
       "      <td>BM</td>\n",
       "      <td>Elena &amp; Moya 1999</td>\n",
       "      <td>R constant effects</td>\n",
       "      <td>0.0022</td>\n",
       "    </tr>\n",
       "    <tr>\n",
       "      <th>3</th>\n",
       "      <td>VSV</td>\n",
       "      <td>False</td>\n",
       "      <td>NaN</td>\n",
       "      <td>0.1910</td>\n",
       "      <td>False</td>\n",
       "      <td>direct mutagenesis</td>\n",
       "      <td>Sanjuan et al. 2004</td>\n",
       "      <td>NaN</td>\n",
       "      <td>0.1910</td>\n",
       "    </tr>\n",
       "    <tr>\n",
       "      <th>4</th>\n",
       "      <td>f1</td>\n",
       "      <td>False</td>\n",
       "      <td>NaN</td>\n",
       "      <td>0.1110</td>\n",
       "      <td>False</td>\n",
       "      <td>direct mutagenesis</td>\n",
       "      <td>Peris et al. 2010</td>\n",
       "      <td>NaN</td>\n",
       "      <td>0.1110</td>\n",
       "    </tr>\n",
       "  </tbody>\n",
       "</table>\n",
       "</div>"
      ],
      "text/plain": [
       "  species  mutator      U       s    hom              method  \\\n",
       "0     VSV    False  1.580  0.0022  False                  BM   \n",
       "1     VSV    False  0.884  0.0024  False                  BM   \n",
       "2     VSV    False  1.160  0.0022  False                  BM   \n",
       "3     VSV    False    NaN  0.1910  False  direct mutagenesis   \n",
       "4      f1    False    NaN  0.1110  False  direct mutagenesis   \n",
       "\n",
       "                source               notes  s_corr  \n",
       "0    Elena & Moya 1999  X constant effects  0.0022  \n",
       "1    Elena & Moya 1999  C constant effects  0.0024  \n",
       "2    Elena & Moya 1999  R constant effects  0.0022  \n",
       "3  Sanjuan et al. 2004                 NaN  0.1910  \n",
       "4    Peris et al. 2010                 NaN  0.1110  "
      ]
     },
     "execution_count": 11,
     "metadata": {},
     "output_type": "execute_result"
    }
   ],
   "source": [
    "data = pd.read_csv('data/mutation_parameters.csv')\n",
    "data['s_corr'] = data['s']\n",
    "data['s_corr'][data['hom']] = data['s'] / 2\n",
    "data.head()"
   ]
  },
  {
   "cell_type": "code",
   "execution_count": 34,
   "metadata": {},
   "outputs": [
    {
     "data": {
      "text/html": [
       "<div>\n",
       "<style scoped>\n",
       "    .dataframe tbody tr th:only-of-type {\n",
       "        vertical-align: middle;\n",
       "    }\n",
       "\n",
       "    .dataframe tbody tr th {\n",
       "        vertical-align: top;\n",
       "    }\n",
       "\n",
       "    .dataframe thead th {\n",
       "        text-align: right;\n",
       "    }\n",
       "</style>\n",
       "<table border=\"1\" class=\"dataframe\">\n",
       "  <thead>\n",
       "    <tr style=\"text-align: right;\">\n",
       "      <th></th>\n",
       "      <th>species</th>\n",
       "      <th>mutator</th>\n",
       "      <th>U</th>\n",
       "      <th>s</th>\n",
       "      <th>hom</th>\n",
       "      <th>method</th>\n",
       "      <th>source</th>\n",
       "      <th>notes</th>\n",
       "      <th>s_corr</th>\n",
       "    </tr>\n",
       "  </thead>\n",
       "  <tbody>\n",
       "    <tr>\n",
       "      <th>9</th>\n",
       "      <td>Escherichia coli</td>\n",
       "      <td>True</td>\n",
       "      <td>0.0050</td>\n",
       "      <td>0.030</td>\n",
       "      <td>False</td>\n",
       "      <td>ML*</td>\n",
       "      <td>Trindade et al. 2010</td>\n",
       "      <td>NaN</td>\n",
       "      <td>0.030</td>\n",
       "    </tr>\n",
       "    <tr>\n",
       "      <th>13</th>\n",
       "      <td>Saccharomyces cerevisiae</td>\n",
       "      <td>True</td>\n",
       "      <td>0.0228</td>\n",
       "      <td>0.015</td>\n",
       "      <td>False</td>\n",
       "      <td>BM</td>\n",
       "      <td>Zeyl &amp; DeVisser 2001</td>\n",
       "      <td>excluding petites</td>\n",
       "      <td>0.015</td>\n",
       "    </tr>\n",
       "  </tbody>\n",
       "</table>\n",
       "</div>"
      ],
      "text/plain": [
       "                     species  mutator       U      s    hom method  \\\n",
       "9           Escherichia coli     True  0.0050  0.030  False    ML*   \n",
       "13  Saccharomyces cerevisiae     True  0.0228  0.015  False     BM   \n",
       "\n",
       "                  source              notes  s_corr  \n",
       "9   Trindade et al. 2010                NaN   0.030  \n",
       "13  Zeyl & DeVisser 2001  excluding petites   0.015  "
      ]
     },
     "execution_count": 34,
     "metadata": {},
     "output_type": "execute_result"
    }
   ],
   "source": [
    "data[data['mutator']]"
   ]
  },
  {
   "cell_type": "code",
   "execution_count": 13,
   "metadata": {},
   "outputs": [
    {
     "data": {
      "text/plain": [
       "mutator    0.0000\n",
       "U          0.0228\n",
       "s          0.1110\n",
       "hom        0.0000\n",
       "s_corr     0.0930\n",
       "dtype: float64"
      ]
     },
     "execution_count": 13,
     "metadata": {},
     "output_type": "execute_result"
    }
   ],
   "source": [
    "data.median()"
   ]
  },
  {
   "cell_type": "code",
   "execution_count": 32,
   "metadata": {},
   "outputs": [
    {
     "name": "stdout",
     "output_type": "stream",
     "text": [
      "U = [0.0228 0.0051 0.089 ]\n",
      "s = [0.093  0.03   0.1375]\n"
     ]
    }
   ],
   "source": [
    "U = np.array(data['U'])\n",
    "U = U[~np.isnan(U)]\n",
    "print('U =', np.percentile(U, [50, 25, 75]))\n",
    "s = np.array(data['s_corr'])\n",
    "s = s[~np.isnan(s)]\n",
    "print('s =', np.percentile(s, [50, 25, 75]))"
   ]
  },
  {
   "cell_type": "code",
   "execution_count": 33,
   "metadata": {},
   "outputs": [
    {
     "data": {
      "text/html": [
       "<div>\n",
       "<style scoped>\n",
       "    .dataframe tbody tr th:only-of-type {\n",
       "        vertical-align: middle;\n",
       "    }\n",
       "\n",
       "    .dataframe tbody tr th {\n",
       "        vertical-align: top;\n",
       "    }\n",
       "\n",
       "    .dataframe thead th {\n",
       "        text-align: right;\n",
       "    }\n",
       "</style>\n",
       "<table border=\"1\" class=\"dataframe\">\n",
       "  <thead>\n",
       "    <tr style=\"text-align: right;\">\n",
       "      <th></th>\n",
       "      <th>mutator</th>\n",
       "      <th>U</th>\n",
       "      <th>s</th>\n",
       "      <th>hom</th>\n",
       "      <th>s_corr</th>\n",
       "    </tr>\n",
       "    <tr>\n",
       "      <th>species</th>\n",
       "      <th></th>\n",
       "      <th></th>\n",
       "      <th></th>\n",
       "      <th></th>\n",
       "      <th></th>\n",
       "    </tr>\n",
       "  </thead>\n",
       "  <tbody>\n",
       "    <tr>\n",
       "      <th>Amsinckia douglasiana</th>\n",
       "      <td>False</td>\n",
       "      <td>0.161000</td>\n",
       "      <td>0.10300</td>\n",
       "      <td>True</td>\n",
       "      <td>0.05150</td>\n",
       "    </tr>\n",
       "    <tr>\n",
       "      <th>Amsinckia gloriosa</th>\n",
       "      <td>False</td>\n",
       "      <td>0.198000</td>\n",
       "      <td>0.05000</td>\n",
       "      <td>True</td>\n",
       "      <td>0.02500</td>\n",
       "    </tr>\n",
       "    <tr>\n",
       "      <th>Arabidopsis thaliana</th>\n",
       "      <td>False</td>\n",
       "      <td>0.004000</td>\n",
       "      <td>0.42000</td>\n",
       "      <td>True</td>\n",
       "      <td>0.21000</td>\n",
       "    </tr>\n",
       "    <tr>\n",
       "      <th>Caenorhabditis briggsae</th>\n",
       "      <td>False</td>\n",
       "      <td>0.049500</td>\n",
       "      <td>0.07500</td>\n",
       "      <td>False</td>\n",
       "      <td>0.07500</td>\n",
       "    </tr>\n",
       "    <tr>\n",
       "      <th>Caenorhabditis elegans</th>\n",
       "      <td>False</td>\n",
       "      <td>0.010000</td>\n",
       "      <td>0.16000</td>\n",
       "      <td>False</td>\n",
       "      <td>0.10900</td>\n",
       "    </tr>\n",
       "    <tr>\n",
       "      <th>Chlamydomonas reinhardtii</th>\n",
       "      <td>False</td>\n",
       "      <td>0.000816</td>\n",
       "      <td>0.02645</td>\n",
       "      <td>False</td>\n",
       "      <td>0.02645</td>\n",
       "    </tr>\n",
       "    <tr>\n",
       "      <th>Daphnia arenata</th>\n",
       "      <td>False</td>\n",
       "      <td>0.690000</td>\n",
       "      <td>0.07000</td>\n",
       "      <td>True</td>\n",
       "      <td>0.03500</td>\n",
       "    </tr>\n",
       "    <tr>\n",
       "      <th>Daphnia pulicaria</th>\n",
       "      <td>False</td>\n",
       "      <td>0.086000</td>\n",
       "      <td>0.11150</td>\n",
       "      <td>False</td>\n",
       "      <td>0.09350</td>\n",
       "    </tr>\n",
       "    <tr>\n",
       "      <th>Drosophila melanogaster</th>\n",
       "      <td>False</td>\n",
       "      <td>0.060130</td>\n",
       "      <td>0.15000</td>\n",
       "      <td>True</td>\n",
       "      <td>0.11400</td>\n",
       "    </tr>\n",
       "    <tr>\n",
       "      <th>Escherichia coli</th>\n",
       "      <td>False</td>\n",
       "      <td>0.002585</td>\n",
       "      <td>0.02650</td>\n",
       "      <td>False</td>\n",
       "      <td>0.02650</td>\n",
       "    </tr>\n",
       "    <tr>\n",
       "      <th>Oscheius myriophila</th>\n",
       "      <td>False</td>\n",
       "      <td>0.005500</td>\n",
       "      <td>0.21900</td>\n",
       "      <td>False</td>\n",
       "      <td>0.21900</td>\n",
       "    </tr>\n",
       "    <tr>\n",
       "      <th>Saccharomyces cerevisiae</th>\n",
       "      <td>False</td>\n",
       "      <td>0.000633</td>\n",
       "      <td>0.07350</td>\n",
       "      <td>False</td>\n",
       "      <td>0.05200</td>\n",
       "    </tr>\n",
       "    <tr>\n",
       "      <th>Tetrahymena thermophila</th>\n",
       "      <td>False</td>\n",
       "      <td>0.009400</td>\n",
       "      <td>0.10900</td>\n",
       "      <td>True</td>\n",
       "      <td>0.05450</td>\n",
       "    </tr>\n",
       "    <tr>\n",
       "      <th>VSV</th>\n",
       "      <td>False</td>\n",
       "      <td>1.160000</td>\n",
       "      <td>0.00230</td>\n",
       "      <td>False</td>\n",
       "      <td>0.00230</td>\n",
       "    </tr>\n",
       "    <tr>\n",
       "      <th>f1</th>\n",
       "      <td>False</td>\n",
       "      <td>NaN</td>\n",
       "      <td>0.11100</td>\n",
       "      <td>False</td>\n",
       "      <td>0.11100</td>\n",
       "    </tr>\n",
       "    <tr>\n",
       "      <th>phi6</th>\n",
       "      <td>False</td>\n",
       "      <td>0.030000</td>\n",
       "      <td>0.09300</td>\n",
       "      <td>False</td>\n",
       "      <td>0.09300</td>\n",
       "    </tr>\n",
       "  </tbody>\n",
       "</table>\n",
       "</div>"
      ],
      "text/plain": [
       "                           mutator         U        s    hom   s_corr\n",
       "species                                                              \n",
       "Amsinckia douglasiana        False  0.161000  0.10300   True  0.05150\n",
       "Amsinckia gloriosa           False  0.198000  0.05000   True  0.02500\n",
       "Arabidopsis thaliana         False  0.004000  0.42000   True  0.21000\n",
       "Caenorhabditis briggsae      False  0.049500  0.07500  False  0.07500\n",
       "Caenorhabditis elegans       False  0.010000  0.16000  False  0.10900\n",
       "Chlamydomonas reinhardtii    False  0.000816  0.02645  False  0.02645\n",
       "Daphnia arenata              False  0.690000  0.07000   True  0.03500\n",
       "Daphnia pulicaria            False  0.086000  0.11150  False  0.09350\n",
       "Drosophila melanogaster      False  0.060130  0.15000   True  0.11400\n",
       "Escherichia coli             False  0.002585  0.02650  False  0.02650\n",
       "Oscheius myriophila          False  0.005500  0.21900  False  0.21900\n",
       "Saccharomyces cerevisiae     False  0.000633  0.07350  False  0.05200\n",
       "Tetrahymena thermophila      False  0.009400  0.10900   True  0.05450\n",
       "VSV                          False  1.160000  0.00230  False  0.00230\n",
       "f1                           False       NaN  0.11100  False  0.11100\n",
       "phi6                         False  0.030000  0.09300  False  0.09300"
      ]
     },
     "execution_count": 33,
     "metadata": {},
     "output_type": "execute_result"
    }
   ],
   "source": [
    "sppdata = data.groupby('species').median()\n",
    "sppdata"
   ]
  },
  {
   "cell_type": "code",
   "execution_count": 16,
   "metadata": {},
   "outputs": [
    {
     "data": {
      "text/plain": [
       "16"
      ]
     },
     "execution_count": 16,
     "metadata": {},
     "output_type": "execute_result"
    }
   ],
   "source": [
    "len(sppdata)"
   ]
  },
  {
   "cell_type": "code",
   "execution_count": 17,
   "metadata": {},
   "outputs": [
    {
     "data": {
      "text/plain": [
       "mutator    0.00000\n",
       "U          0.03000\n",
       "s          0.09800\n",
       "hom        0.00000\n",
       "s_corr     0.06475\n",
       "dtype: float64"
      ]
     },
     "execution_count": 17,
     "metadata": {},
     "output_type": "execute_result"
    }
   ],
   "source": [
    "sppdata.median()"
   ]
  },
  {
   "cell_type": "code",
   "execution_count": 30,
   "metadata": {},
   "outputs": [
    {
     "name": "stdout",
     "output_type": "stream",
     "text": [
      "U = [0.03    0.00475 0.1235 ]\n",
      "s = [0.06475  0.032875 0.1095  ]\n"
     ]
    }
   ],
   "source": [
    "U = np.array(sppdata['U'])\n",
    "U = U[~np.isnan(U)]\n",
    "print('U =', np.percentile(U, [50, 25, 75]))\n",
    "print('s =', np.percentile(sppdata['s_corr'], [50, 25, 75]))"
   ]
  },
  {
   "cell_type": "code",
   "execution_count": null,
   "metadata": {},
   "outputs": [],
   "source": []
  }
 ],
 "metadata": {
  "kernelspec": {
   "display_name": "Python 3",
   "language": "python",
   "name": "python3"
  },
  "language_info": {
   "codemirror_mode": {
    "name": "ipython",
    "version": 3
   },
   "file_extension": ".py",
   "mimetype": "text/x-python",
   "name": "python",
   "nbconvert_exporter": "python",
   "pygments_lexer": "ipython3",
   "version": "3.5.6"
  }
 },
 "nbformat": 4,
 "nbformat_minor": 2
}
