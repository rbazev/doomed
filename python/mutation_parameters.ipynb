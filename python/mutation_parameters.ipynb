{
 "cells": [
  {
   "cell_type": "markdown",
   "metadata": {},
   "source": [
    "# Mutational Parameters\n",
    "\n",
    "## All estimates\n",
    "\n",
    "We conducted a survey of the literature looking for estimates of the deleterious mutation rate, $U$, and the mean deleterious effect of a mutation, $s$.  We obtained 35 estimates of $U$ and 51 estimates of $s$ based on 23 species from 35 studies.  When a single study included multiple estimates for a single species based on independent data sets, we used the median of those estimates.  "
   ]
  },
  {
   "cell_type": "code",
   "execution_count": 1,
   "metadata": {},
   "outputs": [],
   "source": [
    "import pandas as pd\n",
    "import numpy as np\n",
    "import matplotlib.pyplot as plt\n",
    "import seaborn as sns"
   ]
  },
  {
   "cell_type": "code",
   "execution_count": 16,
   "metadata": {},
   "outputs": [],
   "source": [
    "%load_ext rpy2.ipython"
   ]
  },
  {
   "cell_type": "code",
   "execution_count": 2,
   "metadata": {},
   "outputs": [],
   "source": [
    "sns.set_style(\"ticks\")\n",
    "sns.set_context('talk')"
   ]
  },
  {
   "cell_type": "code",
   "execution_count": 3,
   "metadata": {},
   "outputs": [
    {
     "name": "stdout",
     "output_type": "stream",
     "text": [
      "n = 35 estimates of U\n",
      "n = 51 estimates of s\n"
     ]
    },
    {
     "data": {
      "text/html": [
       "<div>\n",
       "<style scoped>\n",
       "    .dataframe tbody tr th:only-of-type {\n",
       "        vertical-align: middle;\n",
       "    }\n",
       "\n",
       "    .dataframe tbody tr th {\n",
       "        vertical-align: top;\n",
       "    }\n",
       "\n",
       "    .dataframe thead th {\n",
       "        text-align: right;\n",
       "    }\n",
       "</style>\n",
       "<table border=\"1\" class=\"dataframe\">\n",
       "  <thead>\n",
       "    <tr style=\"text-align: right;\">\n",
       "      <th></th>\n",
       "      <th>species</th>\n",
       "      <th>group</th>\n",
       "      <th>mutator</th>\n",
       "      <th>U</th>\n",
       "      <th>s</th>\n",
       "      <th>method</th>\n",
       "      <th>source</th>\n",
       "      <th>notes</th>\n",
       "    </tr>\n",
       "  </thead>\n",
       "  <tbody>\n",
       "    <tr>\n",
       "      <th>0</th>\n",
       "      <td>Vesicular Stomatitis Virus</td>\n",
       "      <td>virus</td>\n",
       "      <td>False</td>\n",
       "      <td>1.16</td>\n",
       "      <td>0.0022</td>\n",
       "      <td>BM</td>\n",
       "      <td>Elena &amp; Moya 1999</td>\n",
       "      <td>median of 3 experiments</td>\n",
       "    </tr>\n",
       "    <tr>\n",
       "      <th>1</th>\n",
       "      <td>Vesicular Stomatitis Virus</td>\n",
       "      <td>virus</td>\n",
       "      <td>False</td>\n",
       "      <td>NaN</td>\n",
       "      <td>0.1910</td>\n",
       "      <td>direct mutagenesis</td>\n",
       "      <td>Sanjuan et al. 2004</td>\n",
       "      <td>NaN</td>\n",
       "    </tr>\n",
       "    <tr>\n",
       "      <th>2</th>\n",
       "      <td>Tobacco Etch Virus</td>\n",
       "      <td>virus</td>\n",
       "      <td>False</td>\n",
       "      <td>NaN</td>\n",
       "      <td>0.4110</td>\n",
       "      <td>direct mutagenesis</td>\n",
       "      <td>Carrasco et al. 2007</td>\n",
       "      <td>NaN</td>\n",
       "    </tr>\n",
       "    <tr>\n",
       "      <th>3</th>\n",
       "      <td>PhiX174 bacteriophage</td>\n",
       "      <td>virus</td>\n",
       "      <td>False</td>\n",
       "      <td>NaN</td>\n",
       "      <td>0.5120</td>\n",
       "      <td>direct mutagenesis</td>\n",
       "      <td>Vale et al. 2012</td>\n",
       "      <td>average for 2 hosts</td>\n",
       "    </tr>\n",
       "    <tr>\n",
       "      <th>4</th>\n",
       "      <td>PhiX174 bacteriophage</td>\n",
       "      <td>virus</td>\n",
       "      <td>False</td>\n",
       "      <td>NaN</td>\n",
       "      <td>0.0510</td>\n",
       "      <td>MA</td>\n",
       "      <td>Domingo-Calap et al. 2009</td>\n",
       "      <td>NaN</td>\n",
       "    </tr>\n",
       "  </tbody>\n",
       "</table>\n",
       "</div>"
      ],
      "text/plain": [
       "                      species  group  mutator     U       s  \\\n",
       "0  Vesicular Stomatitis Virus  virus    False  1.16  0.0022   \n",
       "1  Vesicular Stomatitis Virus  virus    False   NaN  0.1910   \n",
       "2          Tobacco Etch Virus  virus    False   NaN  0.4110   \n",
       "3       PhiX174 bacteriophage  virus    False   NaN  0.5120   \n",
       "4       PhiX174 bacteriophage  virus    False   NaN  0.0510   \n",
       "\n",
       "               method                     source                    notes  \n",
       "0                  BM          Elena & Moya 1999  median of 3 experiments  \n",
       "1  direct mutagenesis        Sanjuan et al. 2004                      NaN  \n",
       "2  direct mutagenesis       Carrasco et al. 2007                      NaN  \n",
       "3  direct mutagenesis           Vale et al. 2012      average for 2 hosts  \n",
       "4                  MA  Domingo-Calap et al. 2009                      NaN  "
      ]
     },
     "execution_count": 3,
     "metadata": {},
     "output_type": "execute_result"
    }
   ],
   "source": [
    "data = pd.read_csv('data/mutation_parameters.csv', encoding = \"ISO-8859-1\")\n",
    "data.loc[data['hom'],'s'] = data['s'] / 2\n",
    "del data['hom']\n",
    "print('n =', pd.notna(data['U']).sum(), 'estimates of U')\n",
    "print('n =', pd.notna(data['s']).sum(), 'estimates of s')\n",
    "data.head()"
   ]
  },
  {
   "cell_type": "code",
   "execution_count": 42,
   "metadata": {},
   "outputs": [
    {
     "data": {
      "text/plain": [
       "array([9.460e-05, 1.260e-04, 1.700e-04, 8.160e-04, 9.460e-04, 1.140e-03,\n",
       "       4.000e-03, 5.000e-03, 5.200e-03, 5.500e-03, 7.450e-03, 9.400e-03,\n",
       "       1.500e-02, 1.500e-02, 2.000e-02, 2.000e-02, 2.200e-02, 2.280e-02,\n",
       "       2.340e-02, 3.000e-02, 3.200e-02, 3.600e-02, 4.400e-02, 4.950e-02,\n",
       "       6.000e-02, 6.026e-02, 8.800e-02, 1.000e-01, 1.390e-01, 1.610e-01,\n",
       "       1.980e-01, 6.800e-01, 6.900e-01, 9.900e-01, 1.160e+00])"
      ]
     },
     "execution_count": 42,
     "metadata": {},
     "output_type": "execute_result"
    }
   ],
   "source": [
    "np.sort(U)"
   ]
  },
  {
   "cell_type": "code",
   "execution_count": 50,
   "metadata": {},
   "outputs": [
    {
     "data": {
      "text/plain": [
       "array([0.0022 , 0.003  , 0.0032 , 0.012  , 0.015  , 0.0179 , 0.023  ,\n",
       "       0.024  , 0.025  , 0.02645, 0.027  , 0.029  , 0.03   , 0.031  ,\n",
       "       0.035  , 0.04   , 0.043  , 0.046  , 0.051  , 0.0515 , 0.0515 ,\n",
       "       0.0545 , 0.0565 , 0.057  , 0.06   , 0.061  , 0.072  , 0.075  ,\n",
       "       0.08   , 0.082  , 0.093  , 0.0955 , 0.105  , 0.105  , 0.109  ,\n",
       "       0.111  , 0.113  , 0.115  , 0.116  , 0.1325 , 0.136  , 0.145  ,\n",
       "       0.15   , 0.154  , 0.186  , 0.191  , 0.217  , 0.219  , 0.23   ,\n",
       "       0.411  , 0.512  ])"
      ]
     },
     "execution_count": 50,
     "metadata": {},
     "output_type": "execute_result"
    }
   ],
   "source": [
    "np.sort(s)"
   ]
  },
  {
   "cell_type": "code",
   "execution_count": 68,
   "metadata": {},
   "outputs": [
    {
     "data": {
      "text/plain": [
       "0.5142857142857142"
      ]
     },
     "execution_count": 68,
     "metadata": {},
     "output_type": "execute_result"
    }
   ],
   "source": [
    "18/35"
   ]
  },
  {
   "cell_type": "code",
   "execution_count": 67,
   "metadata": {},
   "outputs": [
    {
     "name": "stdout",
     "output_type": "stream",
     "text": [
      "18\n"
     ]
    },
    {
     "data": {
      "text/html": [
       "<div>\n",
       "<style scoped>\n",
       "    .dataframe tbody tr th:only-of-type {\n",
       "        vertical-align: middle;\n",
       "    }\n",
       "\n",
       "    .dataframe tbody tr th {\n",
       "        vertical-align: top;\n",
       "    }\n",
       "\n",
       "    .dataframe thead th {\n",
       "        text-align: right;\n",
       "    }\n",
       "</style>\n",
       "<table border=\"1\" class=\"dataframe\">\n",
       "  <thead>\n",
       "    <tr style=\"text-align: right;\">\n",
       "      <th></th>\n",
       "      <th>species</th>\n",
       "      <th>group</th>\n",
       "      <th>mutator</th>\n",
       "      <th>U</th>\n",
       "      <th>s</th>\n",
       "      <th>method</th>\n",
       "      <th>source</th>\n",
       "      <th>notes</th>\n",
       "    </tr>\n",
       "  </thead>\n",
       "  <tbody>\n",
       "    <tr>\n",
       "      <th>13</th>\n",
       "      <td>phi6 bacteriophage</td>\n",
       "      <td>virus</td>\n",
       "      <td>False</td>\n",
       "      <td>0.03000</td>\n",
       "      <td>0.0930</td>\n",
       "      <td>ML</td>\n",
       "      <td>Burch et al. 2007</td>\n",
       "      <td>MLE nDEL = 56 correcting for selection</td>\n",
       "    </tr>\n",
       "    <tr>\n",
       "      <th>17</th>\n",
       "      <td>Escherichia coli</td>\n",
       "      <td>bacteria</td>\n",
       "      <td>True</td>\n",
       "      <td>0.00500</td>\n",
       "      <td>0.0300</td>\n",
       "      <td>ML</td>\n",
       "      <td>Trindade et al. 2010</td>\n",
       "      <td>deficient in the mismatch repair gene mutS</td>\n",
       "    </tr>\n",
       "    <tr>\n",
       "      <th>21</th>\n",
       "      <td>Saccharomyces cerevisiae</td>\n",
       "      <td>eukaryote</td>\n",
       "      <td>False</td>\n",
       "      <td>0.00114</td>\n",
       "      <td>0.0430</td>\n",
       "      <td>Tetrad</td>\n",
       "      <td>Wloch et al. 2001</td>\n",
       "      <td>effect in haploids</td>\n",
       "    </tr>\n",
       "    <tr>\n",
       "      <th>26</th>\n",
       "      <td>Arabidopsis thaliana</td>\n",
       "      <td>eukaryote</td>\n",
       "      <td>False</td>\n",
       "      <td>0.10000</td>\n",
       "      <td>0.1150</td>\n",
       "      <td>BM</td>\n",
       "      <td>Schultz et al. 1999</td>\n",
       "      <td>Total fitness</td>\n",
       "    </tr>\n",
       "    <tr>\n",
       "      <th>29</th>\n",
       "      <td>Daphnia pulicaria</td>\n",
       "      <td>eukaryote</td>\n",
       "      <td>False</td>\n",
       "      <td>0.01500</td>\n",
       "      <td>0.0820</td>\n",
       "      <td>BM</td>\n",
       "      <td>Latta et al. 2012</td>\n",
       "      <td>median of 3 experiments</td>\n",
       "    </tr>\n",
       "    <tr>\n",
       "      <th>31</th>\n",
       "      <td>Caenorhabditis elegans</td>\n",
       "      <td>eukaryote</td>\n",
       "      <td>False</td>\n",
       "      <td>0.00520</td>\n",
       "      <td>0.1050</td>\n",
       "      <td>ML</td>\n",
       "      <td>Keightley &amp; Caballero 1997</td>\n",
       "      <td>Productivity</td>\n",
       "    </tr>\n",
       "    <tr>\n",
       "      <th>32</th>\n",
       "      <td>Caenorhabditis elegans</td>\n",
       "      <td>eukaryote</td>\n",
       "      <td>False</td>\n",
       "      <td>0.01500</td>\n",
       "      <td>0.1090</td>\n",
       "      <td>ML</td>\n",
       "      <td>Vassilieva et al. 2000</td>\n",
       "      <td>Productivity, generation 214</td>\n",
       "    </tr>\n",
       "    <tr>\n",
       "      <th>33</th>\n",
       "      <td>Caenorhabditis elegans</td>\n",
       "      <td>eukaryote</td>\n",
       "      <td>False</td>\n",
       "      <td>0.03600</td>\n",
       "      <td>0.0290</td>\n",
       "      <td>ML</td>\n",
       "      <td>Vassilieva et al. 2000</td>\n",
       "      <td>Intrinsic rate of increase, generation 214</td>\n",
       "    </tr>\n",
       "    <tr>\n",
       "      <th>34</th>\n",
       "      <td>Tetrahymena thermophila</td>\n",
       "      <td>eukaryote</td>\n",
       "      <td>False</td>\n",
       "      <td>0.00940</td>\n",
       "      <td>0.0545</td>\n",
       "      <td>BM</td>\n",
       "      <td>Long et al. 2013</td>\n",
       "      <td>Single GE lines</td>\n",
       "    </tr>\n",
       "    <tr>\n",
       "      <th>35</th>\n",
       "      <td>Caenorhabditis elegans</td>\n",
       "      <td>eukaryote</td>\n",
       "      <td>False</td>\n",
       "      <td>0.02000</td>\n",
       "      <td>0.0600</td>\n",
       "      <td>BM</td>\n",
       "      <td>Matsuba et al. 2012</td>\n",
       "      <td>median of all lines</td>\n",
       "    </tr>\n",
       "    <tr>\n",
       "      <th>38</th>\n",
       "      <td>Caenorhabditis briggsae</td>\n",
       "      <td>eukaryote</td>\n",
       "      <td>False</td>\n",
       "      <td>0.04950</td>\n",
       "      <td>0.0750</td>\n",
       "      <td>BM</td>\n",
       "      <td>Baer et al. 2005</td>\n",
       "      <td>average of 2 experiments</td>\n",
       "    </tr>\n",
       "    <tr>\n",
       "      <th>39</th>\n",
       "      <td>Drosophila melanogaster</td>\n",
       "      <td>eukaryote</td>\n",
       "      <td>False</td>\n",
       "      <td>0.03200</td>\n",
       "      <td>0.0515</td>\n",
       "      <td>MD</td>\n",
       "      <td>Garcia-Dorado et al. 1998</td>\n",
       "      <td>data from Fernandez &amp; Lopez-Fanjul 1996</td>\n",
       "    </tr>\n",
       "    <tr>\n",
       "      <th>40</th>\n",
       "      <td>Drosophila melanogaster</td>\n",
       "      <td>eukaryote</td>\n",
       "      <td>False</td>\n",
       "      <td>0.02200</td>\n",
       "      <td>0.0955</td>\n",
       "      <td>MD</td>\n",
       "      <td>Garcia-Dorado et al. 1998</td>\n",
       "      <td>data from Mukai et al. 1972</td>\n",
       "    </tr>\n",
       "    <tr>\n",
       "      <th>41</th>\n",
       "      <td>Drosophila melanogaster</td>\n",
       "      <td>eukaryote</td>\n",
       "      <td>False</td>\n",
       "      <td>0.02000</td>\n",
       "      <td>0.1130</td>\n",
       "      <td>MD</td>\n",
       "      <td>Garcia-Dorado et al. 1998</td>\n",
       "      <td>data from Ohnishi 1997</td>\n",
       "    </tr>\n",
       "    <tr>\n",
       "      <th>42</th>\n",
       "      <td>Drosophila melanogaster</td>\n",
       "      <td>eukaryote</td>\n",
       "      <td>False</td>\n",
       "      <td>0.06000</td>\n",
       "      <td>0.1325</td>\n",
       "      <td>MD</td>\n",
       "      <td>Garcia-Dorado et al. 1998</td>\n",
       "      <td>data from Houle et al. 1992</td>\n",
       "    </tr>\n",
       "    <tr>\n",
       "      <th>43</th>\n",
       "      <td>Drosophila melanogaster</td>\n",
       "      <td>eukaryote</td>\n",
       "      <td>False</td>\n",
       "      <td>0.04400</td>\n",
       "      <td>0.0800</td>\n",
       "      <td>MD</td>\n",
       "      <td>Garcia-Dorado et al. 1999</td>\n",
       "      <td>data from Fry 1999</td>\n",
       "    </tr>\n",
       "    <tr>\n",
       "      <th>47</th>\n",
       "      <td>Drosophila melanogaster</td>\n",
       "      <td>eukaryote</td>\n",
       "      <td>False</td>\n",
       "      <td>0.06026</td>\n",
       "      <td>0.0565</td>\n",
       "      <td>BM</td>\n",
       "      <td>Charlesworth et al. 2004</td>\n",
       "      <td>median of 3 experiments</td>\n",
       "    </tr>\n",
       "    <tr>\n",
       "      <th>51</th>\n",
       "      <td>Daktulosphaira vitifoliae</td>\n",
       "      <td>eukaryote</td>\n",
       "      <td>False</td>\n",
       "      <td>0.02340</td>\n",
       "      <td>0.1160</td>\n",
       "      <td>BM</td>\n",
       "      <td>Downie 2003</td>\n",
       "      <td>Day 29 survivorship, average of 2 generations</td>\n",
       "    </tr>\n",
       "  </tbody>\n",
       "</table>\n",
       "</div>"
      ],
      "text/plain": [
       "                      species      group  mutator        U       s  method  \\\n",
       "13         phi6 bacteriophage      virus    False  0.03000  0.0930      ML   \n",
       "17           Escherichia coli   bacteria     True  0.00500  0.0300      ML   \n",
       "21   Saccharomyces cerevisiae  eukaryote    False  0.00114  0.0430  Tetrad   \n",
       "26       Arabidopsis thaliana  eukaryote    False  0.10000  0.1150      BM   \n",
       "29          Daphnia pulicaria  eukaryote    False  0.01500  0.0820      BM   \n",
       "31     Caenorhabditis elegans  eukaryote    False  0.00520  0.1050      ML   \n",
       "32     Caenorhabditis elegans  eukaryote    False  0.01500  0.1090      ML   \n",
       "33     Caenorhabditis elegans  eukaryote    False  0.03600  0.0290      ML   \n",
       "34    Tetrahymena thermophila  eukaryote    False  0.00940  0.0545      BM   \n",
       "35     Caenorhabditis elegans  eukaryote    False  0.02000  0.0600      BM   \n",
       "38    Caenorhabditis briggsae  eukaryote    False  0.04950  0.0750      BM   \n",
       "39    Drosophila melanogaster  eukaryote    False  0.03200  0.0515      MD   \n",
       "40    Drosophila melanogaster  eukaryote    False  0.02200  0.0955      MD   \n",
       "41    Drosophila melanogaster  eukaryote    False  0.02000  0.1130      MD   \n",
       "42    Drosophila melanogaster  eukaryote    False  0.06000  0.1325      MD   \n",
       "43    Drosophila melanogaster  eukaryote    False  0.04400  0.0800      MD   \n",
       "47    Drosophila melanogaster  eukaryote    False  0.06026  0.0565      BM   \n",
       "51  Daktulosphaira vitifoliae  eukaryote    False  0.02340  0.1160      BM   \n",
       "\n",
       "                        source                                          notes  \n",
       "13           Burch et al. 2007         MLE nDEL = 56 correcting for selection  \n",
       "17        Trindade et al. 2010     deficient in the mismatch repair gene mutS  \n",
       "21           Wloch et al. 2001                             effect in haploids  \n",
       "26         Schultz et al. 1999                                  Total fitness  \n",
       "29           Latta et al. 2012                        median of 3 experiments  \n",
       "31  Keightley & Caballero 1997                                   Productivity  \n",
       "32      Vassilieva et al. 2000                   Productivity, generation 214  \n",
       "33      Vassilieva et al. 2000     Intrinsic rate of increase, generation 214  \n",
       "34            Long et al. 2013                                Single GE lines  \n",
       "35         Matsuba et al. 2012                            median of all lines  \n",
       "38            Baer et al. 2005                       average of 2 experiments  \n",
       "39   Garcia-Dorado et al. 1998        data from Fernandez & Lopez-Fanjul 1996  \n",
       "40   Garcia-Dorado et al. 1998                    data from Mukai et al. 1972  \n",
       "41   Garcia-Dorado et al. 1998                         data from Ohnishi 1997  \n",
       "42   Garcia-Dorado et al. 1998                    data from Houle et al. 1992  \n",
       "43   Garcia-Dorado et al. 1999                             data from Fry 1999  \n",
       "47    Charlesworth et al. 2004                        median of 3 experiments  \n",
       "51                 Downie 2003  Day 29 survivorship, average of 2 generations  "
      ]
     },
     "execution_count": 67,
     "metadata": {},
     "output_type": "execute_result"
    },
    {
     "data": {
      "image/png": "[encoded data removed]",
      "text/plain": [
       "<Figure size 720x720 with 1 Axes>"
      ]
     },
     "metadata": {},
     "output_type": "display_data"
    }
   ],
   "source": [
    "fig = plt.figure(111, figsize=(10, 10))\n",
    "Ulo = .001\n",
    "Uhi = .12\n",
    "slo = .02\n",
    "shi = .135\n",
    "tmp = data[(data['U'] >= Ulo) & (data['U'] <= Uhi) & (data['s'] >= slo) & (data['s'] <= shi)]\n",
    "print(len(tmp))\n",
    "plt.loglog(data['U'], data['s'], 'o')\n",
    "plt.plot([Ulo] * 2, [slo, shi], color='0.7')\n",
    "plt.plot([Uhi] * 2, [slo, shi], color='0.7')\n",
    "plt.plot([Ulo, Uhi], [slo] * 2, color='0.7')\n",
    "plt.plot([Ulo, Uhi], [shi] * 2, color='0.7')\n",
    "plt.ylim(.001, 1)\n",
    "plt.xlabel('Mutation rate')\n",
    "plt.ylabel('Mutational effect')\n",
    "tmp"
   ]
  },
  {
   "cell_type": "code",
   "execution_count": 18,
   "metadata": {},
   "outputs": [
    {
     "data": {
      "text/plain": [
       "52"
      ]
     },
     "execution_count": 18,
     "metadata": {},
     "output_type": "execute_result"
    }
   ],
   "source": [
    "len(data)"
   ]
  },
  {
   "cell_type": "code",
   "execution_count": 20,
   "metadata": {},
   "outputs": [
    {
     "data": {
      "text/plain": [
       "12"
      ]
     },
     "execution_count": 20,
     "metadata": {},
     "output_type": "execute_result"
    }
   ],
   "source": [
    "len(data[(data['U'] < .074) & (data['U'] > .005) & (data['s'] < .116) & (data['s'] > .03)])"
   ]
  },
  {
   "cell_type": "code",
   "execution_count": 13,
   "metadata": {},
   "outputs": [
    {
     "name": "stdout",
     "output_type": "stream",
     "text": [
      "n = 23 species\n"
     ]
    },
    {
     "data": {
      "text/plain": [
       "Drosophila melanogaster       9\n",
       "Escherichia coli              6\n",
       "Caenorhabditis elegans        5\n",
       "Saccharomyces cerevisiae      4\n",
       "PhiX174 bacteriophage         3\n",
       "Chlamydomonas reinhardtii     3\n",
       "Vesicular Stomatitis Virus    2\n",
       "F1 bacteriophage              2\n",
       "Qbeta bacteriophage           2\n",
       "Arabidopsis thaliana          2\n",
       "Daphnia pulicaria             2\n",
       "Daphnia arenata               1\n",
       "Caenorhabditis briggsae       1\n",
       "Oscheius myriophila           1\n",
       "Tetrahymena thermophila       1\n",
       "Amsinckia gloriosa            1\n",
       "Amsinckia douglasiana         1\n",
       "Tobacco Etch Virus            1\n",
       "phi6 bacteriophage            1\n",
       "MS2 bacteriophage             1\n",
       "SP bacteriophage              1\n",
       "G4 bacteriophage              1\n",
       "Daktulosphaira vitifoliae     1\n",
       "Name: species, dtype: int64"
      ]
     },
     "execution_count": 13,
     "metadata": {},
     "output_type": "execute_result"
    }
   ],
   "source": [
    "spp = data['species'].value_counts()\n",
    "print('n =', len(spp), 'species')\n",
    "spp"
   ]
  },
  {
   "cell_type": "code",
   "execution_count": 69,
   "metadata": {},
   "outputs": [
    {
     "data": {
      "text/plain": [
       "eukaryote    32\n",
       "virus        14\n",
       "bacteria      6\n",
       "Name: group, dtype: int64"
      ]
     },
     "execution_count": 69,
     "metadata": {},
     "output_type": "execute_result"
    }
   ],
   "source": [
    "grp = data['group'].value_counts()\n",
    "grp"
   ]
  },
  {
   "cell_type": "code",
   "execution_count": 14,
   "metadata": {},
   "outputs": [
    {
     "name": "stdout",
     "output_type": "stream",
     "text": [
      "n = 35 studies\n"
     ]
    },
    {
     "data": {
      "text/plain": [
       "Domingo-Calap et al. 2009     8\n",
       "Garcia-Dorado et al. 1998     4\n",
       "Baer et al. 2005              3\n",
       "Vassilieva et al. 2000        2\n",
       "Robert et al. 2018            2\n",
       "Deng & Lynch 1997             2\n",
       "Schoen 2005                   2\n",
       "Zeyl & DeVisser 2001          2\n",
       "Long et al. 2013              1\n",
       "Matsuba et al. 2012           1\n",
       "Elena & Moya 1999             1\n",
       "Keightley & Caballero 1997    1\n",
       "Chavarras et al. 2001        1\n",
       "Fry & Heinsohn 2002           1\n",
       "Gong et al. 2005              1\n",
       "Charlesworth et al. 2004      1\n",
       "Morgan et al. 2014            1\n",
       "Kraemer et al. 2017           1\n",
       "Bondel et al. 2019            1\n",
       "Garcia-Dorado et al. 1999     1\n",
       "Shaw et al. 2000              1\n",
       "Latta et al. 2012             1\n",
       "Sanjuan et al. 2004           1\n",
       "Schultz et al. 1999           1\n",
       "Wloch et al. 2001             1\n",
       "Joseph & Hall 2004            1\n",
       "Trindade et al. 2010          1\n",
       "Loewe et al. 2003             1\n",
       "Elena et al. 1998             1\n",
       "Kibota & Lynch 1996           1\n",
       "Burch et al. 2007             1\n",
       "Peris et al. 2010             1\n",
       "Vale et al. 2012              1\n",
       "Carrasco et al. 2007          1\n",
       "Downie 2003                   1\n",
       "Name: source, dtype: int64"
      ]
     },
     "execution_count": 14,
     "metadata": {},
     "output_type": "execute_result"
    }
   ],
   "source": [
    "ref = data['source'].value_counts()\n",
    "print('n =', len(ref), 'studies')\n",
    "ref"
   ]
  },
  {
   "cell_type": "markdown",
   "metadata": {},
   "source": [
    "### Summary statistics\n",
    "\n",
    "Below are the median and interquartile range for $U$ and $s$."
   ]
  },
  {
   "cell_type": "code",
   "execution_count": 12,
   "metadata": {},
   "outputs": [
    {
     "name": "stdout",
     "output_type": "stream",
     "text": [
      "U\n",
      "Arithm Mean = 0.134\n",
      "  Geom Mean = 0.019\n",
      "  Quartiles = [0.005 0.023 0.074]\n"
     ]
    }
   ],
   "source": [
    "print('U')\n",
    "U = data[pd.notna(data['U'])]['U']\n",
    "print('Arithm Mean =', round(np.mean(U), 3))\n",
    "print('  Geom Mean =', round(np.exp(np.mean(np.log(U))), 3))\n",
    "print('  Quartiles =', np.percentile(U, [25, 50, 75]).round(3))"
   ]
  },
  {
   "cell_type": "code",
   "execution_count": 13,
   "metadata": {},
   "outputs": [
    {
     "name": "stdout",
     "output_type": "stream",
     "text": [
      "s\n",
      "Arithm Mean = 0.095\n",
      "  Geom Mean = 0.059\n",
      "  Quartiles = [0.03  0.061 0.116]\n"
     ]
    }
   ],
   "source": [
    "print('s')\n",
    "s = data[pd.notna(data['s'])]['s']\n",
    "print('Arithm Mean =', round(np.mean(s), 3))\n",
    "print('  Geom Mean =', round(np.exp(np.mean(np.log(s))), 3))\n",
    "print('  Quartiles =', np.percentile(s, [25, 50, 75]).round(3))"
   ]
  },
  {
   "cell_type": "code",
   "execution_count": 23,
   "metadata": {},
   "outputs": [
    {
     "data": {
      "text/plain": [
       "<seaborn.axisgrid.FacetGrid at 0x7fe17a02d510>"
      ]
     },
     "execution_count": 23,
     "metadata": {},
     "output_type": "execute_result"
    },
    {
     "data": {
      "image/png": "[encoded data removed]",
      "text/plain": [
       "<Figure size 360x360 with 1 Axes>"
      ]
     },
     "metadata": {},
     "output_type": "display_data"
    }
   ],
   "source": [
    "sns.displot(U)"
   ]
  },
  {
   "cell_type": "code",
   "execution_count": 25,
   "metadata": {},
   "outputs": [
    {
     "data": {
      "text/plain": [
       "<seaborn.axisgrid.FacetGrid at 0x7fe108195390>"
      ]
     },
     "execution_count": 25,
     "metadata": {},
     "output_type": "execute_result"
    },
    {
     "data": {
      "image/png": "[encoded data removed]",
      "text/plain": [
       "<Figure size 360x360 with 1 Axes>"
      ]
     },
     "metadata": {},
     "output_type": "display_data"
    }
   ],
   "source": [
    "sns.displot(np.log10(U))"
   ]
  },
  {
   "cell_type": "code",
   "execution_count": 24,
   "metadata": {},
   "outputs": [
    {
     "data": {
      "text/plain": [
       "<seaborn.axisgrid.FacetGrid at 0x7fe14106c9d0>"
      ]
     },
     "execution_count": 24,
     "metadata": {},
     "output_type": "execute_result"
    },
    {
     "data": {
      "image/png": "[encoded data removed]",
      "text/plain": [
       "<Figure size 360x360 with 1 Axes>"
      ]
     },
     "metadata": {},
     "output_type": "display_data"
    }
   ],
   "source": [
    "sns.displot(s)"
   ]
  },
  {
   "cell_type": "code",
   "execution_count": 26,
   "metadata": {},
   "outputs": [
    {
     "data": {
      "text/plain": [
       "<seaborn.axisgrid.FacetGrid at 0x7fe108129650>"
      ]
     },
     "execution_count": 26,
     "metadata": {},
     "output_type": "execute_result"
    },
    {
     "data": {
      "image/png": "[encoded data removed]",
      "text/plain": [
       "<Figure size 360x360 with 1 Axes>"
      ]
     },
     "metadata": {},
     "output_type": "display_data"
    }
   ],
   "source": [
    "sns.displot(np.log10(s))"
   ]
  },
  {
   "cell_type": "code",
   "execution_count": 20,
   "metadata": {},
   "outputs": [
    {
     "name": "stdout",
     "output_type": "stream",
     "text": [
      "\n",
      "\tShapiro-Wilk normality test\n",
      "\n",
      "data:  U\n",
      "W = 0.51165, p-value = 1.213e-09\n",
      "\n"
     ]
    }
   ],
   "source": [
    "%%R -i U -i s\n",
    "shapiro.test(U)"
   ]
  },
  {
   "cell_type": "code",
   "execution_count": 21,
   "metadata": {},
   "outputs": [
    {
     "name": "stdout",
     "output_type": "stream",
     "text": [
      "\n",
      "\tShapiro-Wilk normality test\n",
      "\n",
      "data:  s\n",
      "W = 0.7565, p-value = 8.069e-08\n",
      "\n"
     ]
    }
   ],
   "source": [
    "%%R\n",
    "shapiro.test(s)"
   ]
  },
  {
   "cell_type": "code",
   "execution_count": 19,
   "metadata": {},
   "outputs": [
    {
     "name": "stdout",
     "output_type": "stream",
     "text": [
      "\n",
      "\tShapiro-Wilk normality test\n",
      "\n",
      "data:  log(U)\n",
      "W = 0.96027, p-value = 0.2329\n",
      "\n"
     ]
    }
   ],
   "source": [
    "%%R\n",
    "shapiro.test(log(U))"
   ]
  },
  {
   "cell_type": "code",
   "execution_count": 22,
   "metadata": {},
   "outputs": [
    {
     "name": "stdout",
     "output_type": "stream",
     "text": [
      "\n",
      "\tShapiro-Wilk normality test\n",
      "\n",
      "data:  log(s)\n",
      "W = 0.93871, p-value = 0.0109\n",
      "\n"
     ]
    }
   ],
   "source": [
    "%%R\n",
    "shapiro.test(log(s))"
   ]
  },
  {
   "cell_type": "markdown",
   "metadata": {},
   "source": [
    "Some estimates were obtained from mutator genotypes."
   ]
  },
  {
   "cell_type": "code",
   "execution_count": 19,
   "metadata": {},
   "outputs": [
    {
     "data": {
      "text/html": [
       "<div>\n",
       "<style scoped>\n",
       "    .dataframe tbody tr th:only-of-type {\n",
       "        vertical-align: middle;\n",
       "    }\n",
       "\n",
       "    .dataframe tbody tr th {\n",
       "        vertical-align: top;\n",
       "    }\n",
       "\n",
       "    .dataframe thead th {\n",
       "        text-align: right;\n",
       "    }\n",
       "</style>\n",
       "<table border=\"1\" class=\"dataframe\">\n",
       "  <thead>\n",
       "    <tr style=\"text-align: right;\">\n",
       "      <th></th>\n",
       "      <th>species</th>\n",
       "      <th>group</th>\n",
       "      <th>mutator</th>\n",
       "      <th>U</th>\n",
       "      <th>s</th>\n",
       "      <th>method</th>\n",
       "      <th>source</th>\n",
       "      <th>notes</th>\n",
       "    </tr>\n",
       "  </thead>\n",
       "  <tbody>\n",
       "    <tr>\n",
       "      <th>17</th>\n",
       "      <td>Escherichia coli</td>\n",
       "      <td>bacteria</td>\n",
       "      <td>True</td>\n",
       "      <td>0.0050</td>\n",
       "      <td>0.0300</td>\n",
       "      <td>ML</td>\n",
       "      <td>Trindade et al. 2010</td>\n",
       "      <td>deficient in the mismatch repair gene mutS</td>\n",
       "    </tr>\n",
       "    <tr>\n",
       "      <th>19</th>\n",
       "      <td>Escherichia coli</td>\n",
       "      <td>bacteria</td>\n",
       "      <td>True</td>\n",
       "      <td>0.1390</td>\n",
       "      <td>0.0032</td>\n",
       "      <td>Novel</td>\n",
       "      <td>Robert et al. 2018</td>\n",
       "      <td>mutH s from Table S7</td>\n",
       "    </tr>\n",
       "    <tr>\n",
       "      <th>23</th>\n",
       "      <td>Saccharomyces cerevisiae</td>\n",
       "      <td>eukaryote</td>\n",
       "      <td>True</td>\n",
       "      <td>0.0228</td>\n",
       "      <td>0.0150</td>\n",
       "      <td>BM</td>\n",
       "      <td>Zeyl &amp; DeVisser 2001</td>\n",
       "      <td>excluding petites</td>\n",
       "    </tr>\n",
       "  </tbody>\n",
       "</table>\n",
       "</div>"
      ],
      "text/plain": [
       "                     species      group  mutator       U       s method  \\\n",
       "17          Escherichia coli   bacteria     True  0.0050  0.0300     ML   \n",
       "19          Escherichia coli   bacteria     True  0.1390  0.0032  Novel   \n",
       "23  Saccharomyces cerevisiae  eukaryote     True  0.0228  0.0150     BM   \n",
       "\n",
       "                  source                                       notes  \n",
       "17  Trindade et al. 2010  deficient in the mismatch repair gene mutS  \n",
       "19    Robert et al. 2018                        mutH s from Table S7  \n",
       "23  Zeyl & DeVisser 2001                           excluding petites  "
      ]
     },
     "execution_count": 19,
     "metadata": {},
     "output_type": "execute_result"
    }
   ],
   "source": [
    "data[data['mutator']]"
   ]
  },
  {
   "cell_type": "code",
   "execution_count": 20,
   "metadata": {},
   "outputs": [
    {
     "data": {
      "text/html": [
       "<div>\n",
       "<style scoped>\n",
       "    .dataframe tbody tr th:only-of-type {\n",
       "        vertical-align: middle;\n",
       "    }\n",
       "\n",
       "    .dataframe tbody tr th {\n",
       "        vertical-align: top;\n",
       "    }\n",
       "\n",
       "    .dataframe thead th {\n",
       "        text-align: right;\n",
       "    }\n",
       "</style>\n",
       "<table border=\"1\" class=\"dataframe\">\n",
       "  <thead>\n",
       "    <tr style=\"text-align: right;\">\n",
       "      <th></th>\n",
       "      <th>species</th>\n",
       "      <th>group</th>\n",
       "      <th>mutator</th>\n",
       "      <th>U</th>\n",
       "      <th>s</th>\n",
       "      <th>method</th>\n",
       "      <th>source</th>\n",
       "      <th>notes</th>\n",
       "    </tr>\n",
       "  </thead>\n",
       "  <tbody>\n",
       "    <tr>\n",
       "      <th>23</th>\n",
       "      <td>Saccharomyces cerevisiae</td>\n",
       "      <td>eukaryote</td>\n",
       "      <td>True</td>\n",
       "      <td>0.0228</td>\n",
       "      <td>0.0150</td>\n",
       "      <td>BM</td>\n",
       "      <td>Zeyl &amp; DeVisser 2001</td>\n",
       "      <td>excluding petites</td>\n",
       "    </tr>\n",
       "    <tr>\n",
       "      <th>29</th>\n",
       "      <td>Daphnia pulicaria</td>\n",
       "      <td>eukaryote</td>\n",
       "      <td>False</td>\n",
       "      <td>0.0150</td>\n",
       "      <td>0.0820</td>\n",
       "      <td>BM</td>\n",
       "      <td>Latta et al. 2012</td>\n",
       "      <td>median of 3 experiments</td>\n",
       "    </tr>\n",
       "    <tr>\n",
       "      <th>32</th>\n",
       "      <td>Caenorhabditis elegans</td>\n",
       "      <td>eukaryote</td>\n",
       "      <td>False</td>\n",
       "      <td>0.0150</td>\n",
       "      <td>0.1090</td>\n",
       "      <td>ML</td>\n",
       "      <td>Vassilieva et al. 2000</td>\n",
       "      <td>Productivity, generation 214</td>\n",
       "    </tr>\n",
       "    <tr>\n",
       "      <th>35</th>\n",
       "      <td>Caenorhabditis elegans</td>\n",
       "      <td>eukaryote</td>\n",
       "      <td>False</td>\n",
       "      <td>0.0200</td>\n",
       "      <td>0.0600</td>\n",
       "      <td>BM</td>\n",
       "      <td>Matsuba et al. 2012</td>\n",
       "      <td>median of all lines</td>\n",
       "    </tr>\n",
       "    <tr>\n",
       "      <th>40</th>\n",
       "      <td>Drosophila melanogaster</td>\n",
       "      <td>eukaryote</td>\n",
       "      <td>False</td>\n",
       "      <td>0.0220</td>\n",
       "      <td>0.0955</td>\n",
       "      <td>MD</td>\n",
       "      <td>Garcia-Dorado et al. 1998</td>\n",
       "      <td>data from Mukai et al. 1972</td>\n",
       "    </tr>\n",
       "    <tr>\n",
       "      <th>41</th>\n",
       "      <td>Drosophila melanogaster</td>\n",
       "      <td>eukaryote</td>\n",
       "      <td>False</td>\n",
       "      <td>0.0200</td>\n",
       "      <td>0.1130</td>\n",
       "      <td>MD</td>\n",
       "      <td>Garcia-Dorado et al. 1998</td>\n",
       "      <td>data from Ohnishi 1997</td>\n",
       "    </tr>\n",
       "    <tr>\n",
       "      <th>51</th>\n",
       "      <td>Daktulosphaira vitifoliae</td>\n",
       "      <td>eukaryote</td>\n",
       "      <td>False</td>\n",
       "      <td>0.0234</td>\n",
       "      <td>0.1160</td>\n",
       "      <td>BM</td>\n",
       "      <td>Downie 2003</td>\n",
       "      <td>Day 29 survivorship, average of 2 generations</td>\n",
       "    </tr>\n",
       "  </tbody>\n",
       "</table>\n",
       "</div>"
      ],
      "text/plain": [
       "                      species      group  mutator       U       s method  \\\n",
       "23   Saccharomyces cerevisiae  eukaryote     True  0.0228  0.0150     BM   \n",
       "29          Daphnia pulicaria  eukaryote    False  0.0150  0.0820     BM   \n",
       "32     Caenorhabditis elegans  eukaryote    False  0.0150  0.1090     ML   \n",
       "35     Caenorhabditis elegans  eukaryote    False  0.0200  0.0600     BM   \n",
       "40    Drosophila melanogaster  eukaryote    False  0.0220  0.0955     MD   \n",
       "41    Drosophila melanogaster  eukaryote    False  0.0200  0.1130     MD   \n",
       "51  Daktulosphaira vitifoliae  eukaryote    False  0.0234  0.1160     BM   \n",
       "\n",
       "                       source                                          notes  \n",
       "23       Zeyl & DeVisser 2001                              excluding petites  \n",
       "29          Latta et al. 2012                        median of 3 experiments  \n",
       "32     Vassilieva et al. 2000                   Productivity, generation 214  \n",
       "35        Matsuba et al. 2012                            median of all lines  \n",
       "40  Garcia-Dorado et al. 1998                    data from Mukai et al. 1972  \n",
       "41  Garcia-Dorado et al. 1998                         data from Ohnishi 1997  \n",
       "51                Downie 2003  Day 29 survivorship, average of 2 generations  "
      ]
     },
     "execution_count": 20,
     "metadata": {},
     "output_type": "execute_result"
    }
   ],
   "source": [
    "data[(data['U'] > .01) & (data['U'] < .03)]"
   ]
  },
  {
   "cell_type": "code",
   "execution_count": 21,
   "metadata": {},
   "outputs": [
    {
     "data": {
      "text/html": [
       "<div>\n",
       "<style scoped>\n",
       "    .dataframe tbody tr th:only-of-type {\n",
       "        vertical-align: middle;\n",
       "    }\n",
       "\n",
       "    .dataframe tbody tr th {\n",
       "        vertical-align: top;\n",
       "    }\n",
       "\n",
       "    .dataframe thead th {\n",
       "        text-align: right;\n",
       "    }\n",
       "</style>\n",
       "<table border=\"1\" class=\"dataframe\">\n",
       "  <thead>\n",
       "    <tr style=\"text-align: right;\">\n",
       "      <th></th>\n",
       "      <th>species</th>\n",
       "      <th>group</th>\n",
       "      <th>mutator</th>\n",
       "      <th>U</th>\n",
       "      <th>s</th>\n",
       "      <th>method</th>\n",
       "      <th>source</th>\n",
       "      <th>notes</th>\n",
       "    </tr>\n",
       "  </thead>\n",
       "  <tbody>\n",
       "    <tr>\n",
       "      <th>4</th>\n",
       "      <td>PhiX174 bacteriophage</td>\n",
       "      <td>virus</td>\n",
       "      <td>False</td>\n",
       "      <td>NaN</td>\n",
       "      <td>0.0510</td>\n",
       "      <td>MA</td>\n",
       "      <td>Domingo-Calap et al. 2009</td>\n",
       "      <td>NaN</td>\n",
       "    </tr>\n",
       "    <tr>\n",
       "      <th>8</th>\n",
       "      <td>SP bacteriophage</td>\n",
       "      <td>virus</td>\n",
       "      <td>False</td>\n",
       "      <td>NaN</td>\n",
       "      <td>0.0570</td>\n",
       "      <td>MA</td>\n",
       "      <td>Domingo-Calap et al. 2009</td>\n",
       "      <td>NaN</td>\n",
       "    </tr>\n",
       "    <tr>\n",
       "      <th>20</th>\n",
       "      <td>Saccharomyces cerevisiae</td>\n",
       "      <td>eukaryote</td>\n",
       "      <td>False</td>\n",
       "      <td>0.000126</td>\n",
       "      <td>0.0610</td>\n",
       "      <td>ML</td>\n",
       "      <td>Joseph &amp; Hall 2004</td>\n",
       "      <td>NaN</td>\n",
       "    </tr>\n",
       "    <tr>\n",
       "      <th>25</th>\n",
       "      <td>Amsinckia douglasiana</td>\n",
       "      <td>eukaryote</td>\n",
       "      <td>False</td>\n",
       "      <td>0.161000</td>\n",
       "      <td>0.0515</td>\n",
       "      <td>ML</td>\n",
       "      <td>Schoen 2005</td>\n",
       "      <td>beta = infinity average of two traits</td>\n",
       "    </tr>\n",
       "    <tr>\n",
       "      <th>34</th>\n",
       "      <td>Tetrahymena thermophila</td>\n",
       "      <td>eukaryote</td>\n",
       "      <td>False</td>\n",
       "      <td>0.009400</td>\n",
       "      <td>0.0545</td>\n",
       "      <td>BM</td>\n",
       "      <td>Long et al. 2013</td>\n",
       "      <td>Single GE lines</td>\n",
       "    </tr>\n",
       "    <tr>\n",
       "      <th>35</th>\n",
       "      <td>Caenorhabditis elegans</td>\n",
       "      <td>eukaryote</td>\n",
       "      <td>False</td>\n",
       "      <td>0.020000</td>\n",
       "      <td>0.0600</td>\n",
       "      <td>BM</td>\n",
       "      <td>Matsuba et al. 2012</td>\n",
       "      <td>median of all lines</td>\n",
       "    </tr>\n",
       "    <tr>\n",
       "      <th>39</th>\n",
       "      <td>Drosophila melanogaster</td>\n",
       "      <td>eukaryote</td>\n",
       "      <td>False</td>\n",
       "      <td>0.032000</td>\n",
       "      <td>0.0515</td>\n",
       "      <td>MD</td>\n",
       "      <td>Garcia-Dorado et al. 1998</td>\n",
       "      <td>data from Fernandez &amp; Lopez-Fanjul 1996</td>\n",
       "    </tr>\n",
       "    <tr>\n",
       "      <th>47</th>\n",
       "      <td>Drosophila melanogaster</td>\n",
       "      <td>eukaryote</td>\n",
       "      <td>False</td>\n",
       "      <td>0.060260</td>\n",
       "      <td>0.0565</td>\n",
       "      <td>BM</td>\n",
       "      <td>Charlesworth et al. 2004</td>\n",
       "      <td>median of 3 experiments</td>\n",
       "    </tr>\n",
       "  </tbody>\n",
       "</table>\n",
       "</div>"
      ],
      "text/plain": [
       "                     species      group  mutator         U       s method  \\\n",
       "4      PhiX174 bacteriophage      virus    False       NaN  0.0510     MA   \n",
       "8           SP bacteriophage      virus    False       NaN  0.0570     MA   \n",
       "20  Saccharomyces cerevisiae  eukaryote    False  0.000126  0.0610     ML   \n",
       "25     Amsinckia douglasiana  eukaryote    False  0.161000  0.0515     ML   \n",
       "34   Tetrahymena thermophila  eukaryote    False  0.009400  0.0545     BM   \n",
       "35    Caenorhabditis elegans  eukaryote    False  0.020000  0.0600     BM   \n",
       "39   Drosophila melanogaster  eukaryote    False  0.032000  0.0515     MD   \n",
       "47   Drosophila melanogaster  eukaryote    False  0.060260  0.0565     BM   \n",
       "\n",
       "                       source                                    notes  \n",
       "4   Domingo-Calap et al. 2009                                      NaN  \n",
       "8   Domingo-Calap et al. 2009                                      NaN  \n",
       "20         Joseph & Hall 2004                                      NaN  \n",
       "25                Schoen 2005    beta = infinity average of two traits  \n",
       "34           Long et al. 2013                          Single GE lines  \n",
       "35        Matsuba et al. 2012                      median of all lines  \n",
       "39  Garcia-Dorado et al. 1998  data from Fernandez & Lopez-Fanjul 1996  \n",
       "47   Charlesworth et al. 2004                  median of 3 experiments  "
      ]
     },
     "execution_count": 21,
     "metadata": {},
     "output_type": "execute_result"
    }
   ],
   "source": [
    "data[(data['s'] > .05) & (data['s'] < .07)]"
   ]
  },
  {
   "cell_type": "code",
   "execution_count": 28,
   "metadata": {},
   "outputs": [
    {
     "data": {
      "text/html": [
       "<div>\n",
       "<style scoped>\n",
       "    .dataframe tbody tr th:only-of-type {\n",
       "        vertical-align: middle;\n",
       "    }\n",
       "\n",
       "    .dataframe tbody tr th {\n",
       "        vertical-align: top;\n",
       "    }\n",
       "\n",
       "    .dataframe thead th {\n",
       "        text-align: right;\n",
       "    }\n",
       "</style>\n",
       "<table border=\"1\" class=\"dataframe\">\n",
       "  <thead>\n",
       "    <tr style=\"text-align: right;\">\n",
       "      <th></th>\n",
       "      <th>species</th>\n",
       "      <th>group</th>\n",
       "      <th>mutator</th>\n",
       "      <th>U</th>\n",
       "      <th>s</th>\n",
       "      <th>method</th>\n",
       "      <th>source</th>\n",
       "      <th>notes</th>\n",
       "    </tr>\n",
       "  </thead>\n",
       "  <tbody>\n",
       "    <tr>\n",
       "      <th>13</th>\n",
       "      <td>phi6 bacteriophage</td>\n",
       "      <td>virus</td>\n",
       "      <td>False</td>\n",
       "      <td>0.03000</td>\n",
       "      <td>0.0930</td>\n",
       "      <td>ML</td>\n",
       "      <td>Burch et al. 2007</td>\n",
       "      <td>MLE nDEL = 56 correcting for selection</td>\n",
       "    </tr>\n",
       "    <tr>\n",
       "      <th>17</th>\n",
       "      <td>Escherichia coli</td>\n",
       "      <td>bacteria</td>\n",
       "      <td>True</td>\n",
       "      <td>0.00500</td>\n",
       "      <td>0.0300</td>\n",
       "      <td>ML</td>\n",
       "      <td>Trindade et al. 2010</td>\n",
       "      <td>deficient in the mismatch repair gene mutS</td>\n",
       "    </tr>\n",
       "    <tr>\n",
       "      <th>29</th>\n",
       "      <td>Daphnia pulicaria</td>\n",
       "      <td>eukaryote</td>\n",
       "      <td>False</td>\n",
       "      <td>0.01500</td>\n",
       "      <td>0.0820</td>\n",
       "      <td>BM</td>\n",
       "      <td>Latta et al. 2012</td>\n",
       "      <td>median of 3 experiments</td>\n",
       "    </tr>\n",
       "    <tr>\n",
       "      <th>31</th>\n",
       "      <td>Caenorhabditis elegans</td>\n",
       "      <td>eukaryote</td>\n",
       "      <td>False</td>\n",
       "      <td>0.00520</td>\n",
       "      <td>0.1050</td>\n",
       "      <td>ML</td>\n",
       "      <td>Keightley &amp; Caballero 1997</td>\n",
       "      <td>Productivity</td>\n",
       "    </tr>\n",
       "    <tr>\n",
       "      <th>32</th>\n",
       "      <td>Caenorhabditis elegans</td>\n",
       "      <td>eukaryote</td>\n",
       "      <td>False</td>\n",
       "      <td>0.01500</td>\n",
       "      <td>0.1090</td>\n",
       "      <td>ML</td>\n",
       "      <td>Vassilieva et al. 2000</td>\n",
       "      <td>Productivity, generation 214</td>\n",
       "    </tr>\n",
       "    <tr>\n",
       "      <th>34</th>\n",
       "      <td>Tetrahymena thermophila</td>\n",
       "      <td>eukaryote</td>\n",
       "      <td>False</td>\n",
       "      <td>0.00940</td>\n",
       "      <td>0.0545</td>\n",
       "      <td>BM</td>\n",
       "      <td>Long et al. 2013</td>\n",
       "      <td>Single GE lines</td>\n",
       "    </tr>\n",
       "    <tr>\n",
       "      <th>35</th>\n",
       "      <td>Caenorhabditis elegans</td>\n",
       "      <td>eukaryote</td>\n",
       "      <td>False</td>\n",
       "      <td>0.02000</td>\n",
       "      <td>0.0600</td>\n",
       "      <td>BM</td>\n",
       "      <td>Matsuba et al. 2012</td>\n",
       "      <td>median of all lines</td>\n",
       "    </tr>\n",
       "    <tr>\n",
       "      <th>38</th>\n",
       "      <td>Caenorhabditis briggsae</td>\n",
       "      <td>eukaryote</td>\n",
       "      <td>False</td>\n",
       "      <td>0.04950</td>\n",
       "      <td>0.0750</td>\n",
       "      <td>BM</td>\n",
       "      <td>Baer et al. 2005</td>\n",
       "      <td>average of 2 experiments</td>\n",
       "    </tr>\n",
       "    <tr>\n",
       "      <th>39</th>\n",
       "      <td>Drosophila melanogaster</td>\n",
       "      <td>eukaryote</td>\n",
       "      <td>False</td>\n",
       "      <td>0.03200</td>\n",
       "      <td>0.0515</td>\n",
       "      <td>MD</td>\n",
       "      <td>Garcia-Dorado et al. 1998</td>\n",
       "      <td>data from Fernandez &amp; Lopez-Fanjul 1996</td>\n",
       "    </tr>\n",
       "    <tr>\n",
       "      <th>40</th>\n",
       "      <td>Drosophila melanogaster</td>\n",
       "      <td>eukaryote</td>\n",
       "      <td>False</td>\n",
       "      <td>0.02200</td>\n",
       "      <td>0.0955</td>\n",
       "      <td>MD</td>\n",
       "      <td>Garcia-Dorado et al. 1998</td>\n",
       "      <td>data from Mukai et al. 1972</td>\n",
       "    </tr>\n",
       "    <tr>\n",
       "      <th>41</th>\n",
       "      <td>Drosophila melanogaster</td>\n",
       "      <td>eukaryote</td>\n",
       "      <td>False</td>\n",
       "      <td>0.02000</td>\n",
       "      <td>0.1130</td>\n",
       "      <td>MD</td>\n",
       "      <td>Garcia-Dorado et al. 1998</td>\n",
       "      <td>data from Ohnishi 1997</td>\n",
       "    </tr>\n",
       "    <tr>\n",
       "      <th>43</th>\n",
       "      <td>Drosophila melanogaster</td>\n",
       "      <td>eukaryote</td>\n",
       "      <td>False</td>\n",
       "      <td>0.04400</td>\n",
       "      <td>0.0800</td>\n",
       "      <td>MD</td>\n",
       "      <td>Garcia-Dorado et al. 1999</td>\n",
       "      <td>data from Fry 1999</td>\n",
       "    </tr>\n",
       "    <tr>\n",
       "      <th>47</th>\n",
       "      <td>Drosophila melanogaster</td>\n",
       "      <td>eukaryote</td>\n",
       "      <td>False</td>\n",
       "      <td>0.06026</td>\n",
       "      <td>0.0565</td>\n",
       "      <td>BM</td>\n",
       "      <td>Charlesworth et al. 2004</td>\n",
       "      <td>median of 3 experiments</td>\n",
       "    </tr>\n",
       "    <tr>\n",
       "      <th>51</th>\n",
       "      <td>Daktulosphaira vitifoliae</td>\n",
       "      <td>eukaryote</td>\n",
       "      <td>False</td>\n",
       "      <td>0.02340</td>\n",
       "      <td>0.1160</td>\n",
       "      <td>BM</td>\n",
       "      <td>Downie 2003</td>\n",
       "      <td>Day 29 survivorship, average of 2 generations</td>\n",
       "    </tr>\n",
       "  </tbody>\n",
       "</table>\n",
       "</div>"
      ],
      "text/plain": [
       "                      species      group  mutator        U       s method  \\\n",
       "13         phi6 bacteriophage      virus    False  0.03000  0.0930     ML   \n",
       "17           Escherichia coli   bacteria     True  0.00500  0.0300     ML   \n",
       "29          Daphnia pulicaria  eukaryote    False  0.01500  0.0820     BM   \n",
       "31     Caenorhabditis elegans  eukaryote    False  0.00520  0.1050     ML   \n",
       "32     Caenorhabditis elegans  eukaryote    False  0.01500  0.1090     ML   \n",
       "34    Tetrahymena thermophila  eukaryote    False  0.00940  0.0545     BM   \n",
       "35     Caenorhabditis elegans  eukaryote    False  0.02000  0.0600     BM   \n",
       "38    Caenorhabditis briggsae  eukaryote    False  0.04950  0.0750     BM   \n",
       "39    Drosophila melanogaster  eukaryote    False  0.03200  0.0515     MD   \n",
       "40    Drosophila melanogaster  eukaryote    False  0.02200  0.0955     MD   \n",
       "41    Drosophila melanogaster  eukaryote    False  0.02000  0.1130     MD   \n",
       "43    Drosophila melanogaster  eukaryote    False  0.04400  0.0800     MD   \n",
       "47    Drosophila melanogaster  eukaryote    False  0.06026  0.0565     BM   \n",
       "51  Daktulosphaira vitifoliae  eukaryote    False  0.02340  0.1160     BM   \n",
       "\n",
       "                        source                                          notes  \n",
       "13           Burch et al. 2007         MLE nDEL = 56 correcting for selection  \n",
       "17        Trindade et al. 2010     deficient in the mismatch repair gene mutS  \n",
       "29           Latta et al. 2012                        median of 3 experiments  \n",
       "31  Keightley & Caballero 1997                                   Productivity  \n",
       "32      Vassilieva et al. 2000                   Productivity, generation 214  \n",
       "34            Long et al. 2013                                Single GE lines  \n",
       "35         Matsuba et al. 2012                            median of all lines  \n",
       "38            Baer et al. 2005                       average of 2 experiments  \n",
       "39   Garcia-Dorado et al. 1998        data from Fernandez & Lopez-Fanjul 1996  \n",
       "40   Garcia-Dorado et al. 1998                    data from Mukai et al. 1972  \n",
       "41   Garcia-Dorado et al. 1998                         data from Ohnishi 1997  \n",
       "43   Garcia-Dorado et al. 1999                             data from Fry 1999  \n",
       "47    Charlesworth et al. 2004                        median of 3 experiments  \n",
       "51                 Downie 2003  Day 29 survivorship, average of 2 generations  "
      ]
     },
     "execution_count": 28,
     "metadata": {},
     "output_type": "execute_result"
    }
   ],
   "source": [
    "data[(data['s'] >= .03) & (data['s'] <= .116) & (data['U'] >= .005) & (data['U'] <= .074)]"
   ]
  },
  {
   "cell_type": "markdown",
   "metadata": {},
   "source": [
    "## Estimates from different species only\n",
    "\n",
    "The data set includes multiple estimates for the same species.  We took the median of those estimates.  "
   ]
  },
  {
   "cell_type": "code",
   "execution_count": 22,
   "metadata": {},
   "outputs": [
    {
     "name": "stdout",
     "output_type": "stream",
     "text": [
      "n = 16 estimates of U\n",
      "n = 23 estimates of s\n"
     ]
    },
    {
     "data": {
      "text/html": [
       "<div>\n",
       "<style scoped>\n",
       "    .dataframe tbody tr th:only-of-type {\n",
       "        vertical-align: middle;\n",
       "    }\n",
       "\n",
       "    .dataframe tbody tr th {\n",
       "        vertical-align: top;\n",
       "    }\n",
       "\n",
       "    .dataframe thead th {\n",
       "        text-align: right;\n",
       "    }\n",
       "</style>\n",
       "<table border=\"1\" class=\"dataframe\">\n",
       "  <thead>\n",
       "    <tr style=\"text-align: right;\">\n",
       "      <th></th>\n",
       "      <th>U</th>\n",
       "      <th>s</th>\n",
       "    </tr>\n",
       "    <tr>\n",
       "      <th>species</th>\n",
       "      <th></th>\n",
       "      <th></th>\n",
       "    </tr>\n",
       "  </thead>\n",
       "  <tbody>\n",
       "    <tr>\n",
       "      <th>Amsinckia douglasiana</th>\n",
       "      <td>0.161000</td>\n",
       "      <td>0.05150</td>\n",
       "    </tr>\n",
       "    <tr>\n",
       "      <th>Amsinckia gloriosa</th>\n",
       "      <td>0.198000</td>\n",
       "      <td>0.02500</td>\n",
       "    </tr>\n",
       "    <tr>\n",
       "      <th>Arabidopsis thaliana</th>\n",
       "      <td>0.052000</td>\n",
       "      <td>0.17250</td>\n",
       "    </tr>\n",
       "    <tr>\n",
       "      <th>Caenorhabditis briggsae</th>\n",
       "      <td>0.049500</td>\n",
       "      <td>0.07500</td>\n",
       "    </tr>\n",
       "    <tr>\n",
       "      <th>Caenorhabditis elegans</th>\n",
       "      <td>0.015000</td>\n",
       "      <td>0.10500</td>\n",
       "    </tr>\n",
       "    <tr>\n",
       "      <th>Chlamydomonas reinhardtii</th>\n",
       "      <td>0.000816</td>\n",
       "      <td>0.02400</td>\n",
       "    </tr>\n",
       "    <tr>\n",
       "      <th>Daktulosphaira vitifoliae</th>\n",
       "      <td>0.023400</td>\n",
       "      <td>0.11600</td>\n",
       "    </tr>\n",
       "    <tr>\n",
       "      <th>Daphnia arenata</th>\n",
       "      <td>0.690000</td>\n",
       "      <td>0.03500</td>\n",
       "    </tr>\n",
       "    <tr>\n",
       "      <th>Daphnia pulicaria</th>\n",
       "      <td>0.502500</td>\n",
       "      <td>0.09350</td>\n",
       "    </tr>\n",
       "    <tr>\n",
       "      <th>Drosophila melanogaster</th>\n",
       "      <td>0.052000</td>\n",
       "      <td>0.10425</td>\n",
       "    </tr>\n",
       "    <tr>\n",
       "      <th>Escherichia coli</th>\n",
       "      <td>0.002973</td>\n",
       "      <td>0.01750</td>\n",
       "    </tr>\n",
       "    <tr>\n",
       "      <th>F1 bacteriophage</th>\n",
       "      <td>NaN</td>\n",
       "      <td>0.06900</td>\n",
       "    </tr>\n",
       "    <tr>\n",
       "      <th>G4 bacteriophage</th>\n",
       "      <td>NaN</td>\n",
       "      <td>0.07200</td>\n",
       "    </tr>\n",
       "    <tr>\n",
       "      <th>MS2 bacteriophage</th>\n",
       "      <td>NaN</td>\n",
       "      <td>0.04600</td>\n",
       "    </tr>\n",
       "    <tr>\n",
       "      <th>Oscheius myriophila</th>\n",
       "      <td>0.005500</td>\n",
       "      <td>0.21900</td>\n",
       "    </tr>\n",
       "    <tr>\n",
       "      <th>PhiX174 bacteriophage</th>\n",
       "      <td>NaN</td>\n",
       "      <td>0.18600</td>\n",
       "    </tr>\n",
       "    <tr>\n",
       "      <th>Qbeta bacteriophage</th>\n",
       "      <td>NaN</td>\n",
       "      <td>0.08800</td>\n",
       "    </tr>\n",
       "    <tr>\n",
       "      <th>SP bacteriophage</th>\n",
       "      <td>NaN</td>\n",
       "      <td>0.05700</td>\n",
       "    </tr>\n",
       "    <tr>\n",
       "      <th>Saccharomyces cerevisiae</th>\n",
       "      <td>0.000633</td>\n",
       "      <td>0.05200</td>\n",
       "    </tr>\n",
       "    <tr>\n",
       "      <th>Tetrahymena thermophila</th>\n",
       "      <td>0.009400</td>\n",
       "      <td>0.05450</td>\n",
       "    </tr>\n",
       "    <tr>\n",
       "      <th>Tobacco Etch Virus</th>\n",
       "      <td>NaN</td>\n",
       "      <td>0.41100</td>\n",
       "    </tr>\n",
       "    <tr>\n",
       "      <th>Vesicular Stomatitis Virus</th>\n",
       "      <td>1.160000</td>\n",
       "      <td>0.09660</td>\n",
       "    </tr>\n",
       "    <tr>\n",
       "      <th>phi6 bacteriophage</th>\n",
       "      <td>0.030000</td>\n",
       "      <td>0.09300</td>\n",
       "    </tr>\n",
       "  </tbody>\n",
       "</table>\n",
       "</div>"
      ],
      "text/plain": [
       "                                   U        s\n",
       "species                                      \n",
       "Amsinckia douglasiana       0.161000  0.05150\n",
       "Amsinckia gloriosa          0.198000  0.02500\n",
       "Arabidopsis thaliana        0.052000  0.17250\n",
       "Caenorhabditis briggsae     0.049500  0.07500\n",
       "Caenorhabditis elegans      0.015000  0.10500\n",
       "Chlamydomonas reinhardtii   0.000816  0.02400\n",
       "Daktulosphaira vitifoliae   0.023400  0.11600\n",
       "Daphnia arenata             0.690000  0.03500\n",
       "Daphnia pulicaria           0.502500  0.09350\n",
       "Drosophila melanogaster     0.052000  0.10425\n",
       "Escherichia coli            0.002973  0.01750\n",
       "F1 bacteriophage                 NaN  0.06900\n",
       "G4 bacteriophage                 NaN  0.07200\n",
       "MS2 bacteriophage                NaN  0.04600\n",
       "Oscheius myriophila         0.005500  0.21900\n",
       "PhiX174 bacteriophage            NaN  0.18600\n",
       "Qbeta bacteriophage              NaN  0.08800\n",
       "SP bacteriophage                 NaN  0.05700\n",
       "Saccharomyces cerevisiae    0.000633  0.05200\n",
       "Tetrahymena thermophila     0.009400  0.05450\n",
       "Tobacco Etch Virus               NaN  0.41100\n",
       "Vesicular Stomatitis Virus  1.160000  0.09660\n",
       "phi6 bacteriophage          0.030000  0.09300"
      ]
     },
     "execution_count": 22,
     "metadata": {},
     "output_type": "execute_result"
    }
   ],
   "source": [
    "sppdata = data.groupby('species').median()\n",
    "del sppdata['mutator']\n",
    "print('n =', pd.notna(sppdata['U']).sum(), 'estimates of U')\n",
    "print('n =', pd.notna(sppdata['s']).sum(), 'estimates of s')\n",
    "sppdata"
   ]
  },
  {
   "cell_type": "markdown",
   "metadata": {},
   "source": [
    "### Summary statistics\n",
    "\n",
    "Below are the median and interquartile range for $U$ and $s$."
   ]
  },
  {
   "cell_type": "code",
   "execution_count": 24,
   "metadata": {},
   "outputs": [
    {
     "name": "stdout",
     "output_type": "stream",
     "text": [
      "U = 0.04 [0.008 0.17 ]\n",
      "s = 0.075 [0.052 0.105]\n"
     ]
    }
   ],
   "source": [
    "U = sppdata[pd.notna(sppdata['U'])]['U']\n",
    "print('U =', np.median(U).round(3), np.percentile(U, [25, 75]).round(3))\n",
    "s = sppdata[pd.notna(sppdata['s'])]['s']\n",
    "print('s =', np.median(s).round(3), np.percentile(s, [25, 75]).round(3))"
   ]
  },
  {
   "cell_type": "code",
   "execution_count": 23,
   "metadata": {},
   "outputs": [
    {
     "name": "stdout",
     "output_type": "stream",
     "text": [
      "Exact parameters:\n",
      "x0, y0, ap, bp, phi = 4 -3.5 7 3 0.7853981633974483\n",
      "Fitted parameters:\n",
      "a, b, c, d, e, f = [ -0.52352614   0.69607566  -0.49132378   6.45108924  -6.14749626\n",
      " -15.80347572]\n",
      "x0, y0, ap, bp, e, phi =  3.7842914666251875 -3.575384696305179 6.81842915847814 2.939058250524876 0.9023298394163595 0.8085130409551071\n"
     ]
    },
    {
     "data": {
      "text/plain": [
       "[<matplotlib.lines.Line2D at 0x7ff2b90c2910>]"
      ]
     },
     "execution_count": 23,
     "metadata": {},
     "output_type": "execute_result"
    },
    {
     "data": {
      "image/png": "[encoded data removed]",
      "text/plain": [
       "<Figure size 432x288 with 1 Axes>"
      ]
     },
     "metadata": {},
     "output_type": "display_data"
    }
   ],
   "source": [
    "npts = 250\n",
    "tmin, tmax = np.pi/6, 4 * np.pi/3\n",
    "x0, y0 = 4, -3.5\n",
    "ap, bp = 7, 3\n",
    "phi = np.pi / 4\n",
    "# Get some points on the ellipse (no need to specify the eccentricity).\n",
    "x, y = get_ellipse_pts((x0, y0, ap, bp, None, phi), npts, tmin, tmax)\n",
    "noise = 0.1\n",
    "x += noise * np.random.normal(size=npts) \n",
    "y += noise * np.random.normal(size=npts)\n",
    "\n",
    "coeffs = fit_ellipse(x, y)\n",
    "print('Exact parameters:')\n",
    "print('x0, y0, ap, bp, phi =', x0, y0, ap, bp, phi)\n",
    "print('Fitted parameters:')\n",
    "print('a, b, c, d, e, f =', coeffs)\n",
    "x0, y0, ap, bp, e, phi = cart_to_pol(coeffs)\n",
    "print('x0, y0, ap, bp, e, phi = ', x0, y0, ap, bp, e, phi)\n",
    "\n",
    "plt.plot(x, y, 'x')     # given points\n",
    "# x, y = get_ellipse_pts((x0, y0, ap, bp, e, phi))\n",
    "# plt.plot(x, y)"
   ]
  },
  {
   "cell_type": "code",
   "execution_count": null,
   "metadata": {},
   "outputs": [],
   "source": []
  }
 ],
 "metadata": {
  "kernelspec": {
   "display_name": "Python 3.7.12 ('py37')",
   "language": "python",
   "name": "python3"
  },
  "language_info": {
   "codemirror_mode": {
    "name": "ipython",
    "version": 3
   },
   "file_extension": ".py",
   "mimetype": "text/x-python",
   "name": "python",
   "nbconvert_exporter": "python",
   "pygments_lexer": "ipython3",
   "version": "3.7.12 | packaged by conda-forge | (default, Oct 26 2021, 05:57:50) \n[Clang 11.1.0 ]"
  },
  "vscode": {
   "interpreter": {
    "hash": "6d31c2736f5e4345fadad3ba30a7234f2d887b5e1f5038291a5144cb026f05f6"
   }
  }
 },
 "nbformat": 4,
 "nbformat_minor": 4
}
